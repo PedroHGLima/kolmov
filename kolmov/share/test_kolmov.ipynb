{
 "nbformat": 4,
 "nbformat_minor": 2,
 "metadata": {
  "language_info": {
   "name": "python",
   "codemirror_mode": {
    "name": "ipython",
    "version": 3
   },
   "version": "3.6.9-final"
  },
  "orig_nbformat": 2,
  "file_extension": ".py",
  "mimetype": "text/x-python",
  "name": "python",
  "npconvert_exporter": "python",
  "pygments_lexer": "ipython3",
  "version": 3,
  "kernelspec": {
   "name": "python36964bit7fbc37c726a641fc92edae8b7676fe4e",
   "display_name": "Python 3.6.9 64-bit"
  }
 },
 "cells": [
  {
   "cell_type": "code",
   "execution_count": 7,
   "metadata": {},
   "outputs": [],
   "source": [
    "import os\n",
    "import sys\n",
    "import glob\n",
    "\n",
    "import numpy as np\n",
    "import pandas as pd\n",
    "\n",
    "import seaborn as sns\n",
    "\n",
    "# add gaugi by hand\n",
    "sys.path.append('../../.__python__/')\n",
    "from Gaugi import load as gload"
   ]
  },
  {
   "cell_type": "code",
   "execution_count": 8,
   "metadata": {},
   "outputs": [
    {
     "name": "stdout",
     "output_type": "stream",
     "text": "/volume/v1_task/user.mverissi.task.data17_13TeV.AllPeriods.sgn.probes_lhmedium_EGAM2.bkg.VProbes_EGAM7.GRL_v97_et%i_eta%i.v1/*\n"
    }
   ],
   "source": [
    "base_path = '/volume/'\n",
    "task_name = 'v1_task/user.mverissi.task.data17_13TeV.AllPeriods.sgn.probes_lhmedium_EGAM2.bkg.VProbes_EGAM7.GRL_v97_et%i_eta%i.v1/*'\n",
    "\n",
    "task_full_name = os.path.join(base_path, task_name)\n",
    "print(task_full_name)"
   ]
  },
  {
   "cell_type": "code",
   "execution_count": 9,
   "metadata": {},
   "outputs": [
    {
     "name": "stdout",
     "output_type": "stream",
     "text": "dict_keys(['username', 'tunedData', 'taskname', 'jobid', 'class', '__module', '__version'])\n"
    }
   ],
   "source": [
    "et, eta     = 0, 0\n",
    "jobs        = glob.glob(task_full_name %(et, eta))\n",
    "tuning_file = gload(jobs[0])\n",
    "print(tuning_file.keys())"
   ]
  },
  {
   "cell_type": "code",
   "execution_count": 26,
   "metadata": {},
   "outputs": [
    {
     "name": "stdout",
     "output_type": "stream",
     "text": "dict_keys(['imodel', 'sort', 'init', 'history', 'sequence', 'weights', 'metadata', 'time'])\n6\n0\n20\n==========\ndict_keys(['imodel', 'sort', 'init', 'history', 'sequence', 'weights', 'metadata', 'time'])\n6\n0\n21\n==========\ndict_keys(['imodel', 'sort', 'init', 'history', 'sequence', 'weights', 'metadata', 'time'])\n6\n0\n22\n==========\ndict_keys(['imodel', 'sort', 'init', 'history', 'sequence', 'weights', 'metadata', 'time'])\n6\n0\n23\n==========\ndict_keys(['imodel', 'sort', 'init', 'history', 'sequence', 'weights', 'metadata', 'time'])\n6\n0\n24\n==========\ndict_keys(['imodel', 'sort', 'init', 'history', 'sequence', 'weights', 'metadata', 'time'])\n6\n0\n25\n==========\ndict_keys(['imodel', 'sort', 'init', 'history', 'sequence', 'weights', 'metadata', 'time'])\n6\n0\n26\n==========\ndict_keys(['imodel', 'sort', 'init', 'history', 'sequence', 'weights', 'metadata', 'time'])\n6\n0\n27\n==========\ndict_keys(['imodel', 'sort', 'init', 'history', 'sequence', 'weights', 'metadata', 'time'])\n6\n0\n28\n==========\ndict_keys(['imodel', 'sort', 'init', 'history', 'sequence', 'weights', 'metadata', 'time'])\n6\n0\n29\n==========\ndict_keys(['imodel', 'sort', 'init', 'history', 'sequence', 'weights', 'metadata', 'time'])\n7\n0\n20\n==========\ndict_keys(['imodel', 'sort', 'init', 'history', 'sequence', 'weights', 'metadata', 'time'])\n7\n0\n21\n==========\ndict_keys(['imodel', 'sort', 'init', 'history', 'sequence', 'weights', 'metadata', 'time'])\n7\n0\n22\n==========\ndict_keys(['imodel', 'sort', 'init', 'history', 'sequence', 'weights', 'metadata', 'time'])\n7\n0\n23\n==========\ndict_keys(['imodel', 'sort', 'init', 'history', 'sequence', 'weights', 'metadata', 'time'])\n7\n0\n24\n==========\ndict_keys(['imodel', 'sort', 'init', 'history', 'sequence', 'weights', 'metadata', 'time'])\n7\n0\n25\n==========\ndict_keys(['imodel', 'sort', 'init', 'history', 'sequence', 'weights', 'metadata', 'time'])\n7\n0\n26\n==========\ndict_keys(['imodel', 'sort', 'init', 'history', 'sequence', 'weights', 'metadata', 'time'])\n7\n0\n27\n==========\ndict_keys(['imodel', 'sort', 'init', 'history', 'sequence', 'weights', 'metadata', 'time'])\n7\n0\n28\n==========\ndict_keys(['imodel', 'sort', 'init', 'history', 'sequence', 'weights', 'metadata', 'time'])\n7\n0\n29\n==========\ndict_keys(['imodel', 'sort', 'init', 'history', 'sequence', 'weights', 'metadata', 'time'])\n6\n1\n20\n==========\ndict_keys(['imodel', 'sort', 'init', 'history', 'sequence', 'weights', 'metadata', 'time'])\n6\n1\n21\n==========\ndict_keys(['imodel', 'sort', 'init', 'history', 'sequence', 'weights', 'metadata', 'time'])\n6\n1\n22\n==========\ndict_keys(['imodel', 'sort', 'init', 'history', 'sequence', 'weights', 'metadata', 'time'])\n6\n1\n23\n==========\ndict_keys(['imodel', 'sort', 'init', 'history', 'sequence', 'weights', 'metadata', 'time'])\n6\n1\n24\n==========\ndict_keys(['imodel', 'sort', 'init', 'history', 'sequence', 'weights', 'metadata', 'time'])\n6\n1\n25\n==========\ndict_keys(['imodel', 'sort', 'init', 'history', 'sequence', 'weights', 'metadata', 'time'])\n6\n1\n26\n==========\ndict_keys(['imodel', 'sort', 'init', 'history', 'sequence', 'weights', 'metadata', 'time'])\n6\n1\n27\n==========\ndict_keys(['imodel', 'sort', 'init', 'history', 'sequence', 'weights', 'metadata', 'time'])\n6\n1\n28\n==========\ndict_keys(['imodel', 'sort', 'init', 'history', 'sequence', 'weights', 'metadata', 'time'])\n6\n1\n29\n==========\ndict_keys(['imodel', 'sort', 'init', 'history', 'sequence', 'weights', 'metadata', 'time'])\n7\n1\n20\n==========\ndict_keys(['imodel', 'sort', 'init', 'history', 'sequence', 'weights', 'metadata', 'time'])\n7\n1\n21\n==========\ndict_keys(['imodel', 'sort', 'init', 'history', 'sequence', 'weights', 'metadata', 'time'])\n7\n1\n22\n==========\ndict_keys(['imodel', 'sort', 'init', 'history', 'sequence', 'weights', 'metadata', 'time'])\n7\n1\n23\n==========\ndict_keys(['imodel', 'sort', 'init', 'history', 'sequence', 'weights', 'metadata', 'time'])\n7\n1\n24\n==========\ndict_keys(['imodel', 'sort', 'init', 'history', 'sequence', 'weights', 'metadata', 'time'])\n7\n1\n25\n==========\ndict_keys(['imodel', 'sort', 'init', 'history', 'sequence', 'weights', 'metadata', 'time'])\n7\n1\n26\n==========\ndict_keys(['imodel', 'sort', 'init', 'history', 'sequence', 'weights', 'metadata', 'time'])\n7\n1\n27\n==========\ndict_keys(['imodel', 'sort', 'init', 'history', 'sequence', 'weights', 'metadata', 'time'])\n7\n1\n28\n==========\ndict_keys(['imodel', 'sort', 'init', 'history', 'sequence', 'weights', 'metadata', 'time'])\n7\n1\n29\n==========\ndict_keys(['imodel', 'sort', 'init', 'history', 'sequence', 'weights', 'metadata', 'time'])\n6\n2\n20\n==========\ndict_keys(['imodel', 'sort', 'init', 'history', 'sequence', 'weights', 'metadata', 'time'])\n6\n2\n21\n==========\ndict_keys(['imodel', 'sort', 'init', 'history', 'sequence', 'weights', 'metadata', 'time'])\n6\n2\n22\n==========\ndict_keys(['imodel', 'sort', 'init', 'history', 'sequence', 'weights', 'metadata', 'time'])\n6\n2\n23\n==========\ndict_keys(['imodel', 'sort', 'init', 'history', 'sequence', 'weights', 'metadata', 'time'])\n6\n2\n24\n==========\ndict_keys(['imodel', 'sort', 'init', 'history', 'sequence', 'weights', 'metadata', 'time'])\n6\n2\n25\n==========\ndict_keys(['imodel', 'sort', 'init', 'history', 'sequence', 'weights', 'metadata', 'time'])\n6\n2\n26\n==========\ndict_keys(['imodel', 'sort', 'init', 'history', 'sequence', 'weights', 'metadata', 'time'])\n6\n2\n27\n==========\ndict_keys(['imodel', 'sort', 'init', 'history', 'sequence', 'weights', 'metadata', 'time'])\n6\n2\n28\n==========\ndict_keys(['imodel', 'sort', 'init', 'history', 'sequence', 'weights', 'metadata', 'time'])\n6\n2\n29\n==========\ndict_keys(['imodel', 'sort', 'init', 'history', 'sequence', 'weights', 'metadata', 'time'])\n7\n2\n20\n==========\ndict_keys(['imodel', 'sort', 'init', 'history', 'sequence', 'weights', 'metadata', 'time'])\n7\n2\n21\n==========\ndict_keys(['imodel', 'sort', 'init', 'history', 'sequence', 'weights', 'metadata', 'time'])\n7\n2\n22\n==========\ndict_keys(['imodel', 'sort', 'init', 'history', 'sequence', 'weights', 'metadata', 'time'])\n7\n2\n23\n==========\ndict_keys(['imodel', 'sort', 'init', 'history', 'sequence', 'weights', 'metadata', 'time'])\n7\n2\n24\n==========\ndict_keys(['imodel', 'sort', 'init', 'history', 'sequence', 'weights', 'metadata', 'time'])\n7\n2\n25\n==========\ndict_keys(['imodel', 'sort', 'init', 'history', 'sequence', 'weights', 'metadata', 'time'])\n7\n2\n26\n==========\ndict_keys(['imodel', 'sort', 'init', 'history', 'sequence', 'weights', 'metadata', 'time'])\n7\n2\n27\n==========\ndict_keys(['imodel', 'sort', 'init', 'history', 'sequence', 'weights', 'metadata', 'time'])\n7\n2\n28\n==========\ndict_keys(['imodel', 'sort', 'init', 'history', 'sequence', 'weights', 'metadata', 'time'])\n7\n2\n29\n==========\ndict_keys(['imodel', 'sort', 'init', 'history', 'sequence', 'weights', 'metadata', 'time'])\n6\n3\n20\n==========\ndict_keys(['imodel', 'sort', 'init', 'history', 'sequence', 'weights', 'metadata', 'time'])\n6\n3\n21\n==========\ndict_keys(['imodel', 'sort', 'init', 'history', 'sequence', 'weights', 'metadata', 'time'])\n6\n3\n22\n==========\ndict_keys(['imodel', 'sort', 'init', 'history', 'sequence', 'weights', 'metadata', 'time'])\n6\n3\n23\n==========\ndict_keys(['imodel', 'sort', 'init', 'history', 'sequence', 'weights', 'metadata', 'time'])\n6\n3\n24\n==========\ndict_keys(['imodel', 'sort', 'init', 'history', 'sequence', 'weights', 'metadata', 'time'])\n6\n3\n25\n==========\ndict_keys(['imodel', 'sort', 'init', 'history', 'sequence', 'weights', 'metadata', 'time'])\n6\n3\n26\n==========\ndict_keys(['imodel', 'sort', 'init', 'history', 'sequence', 'weights', 'metadata', 'time'])\n6\n3\n27\n==========\ndict_keys(['imodel', 'sort', 'init', 'history', 'sequence', 'weights', 'metadata', 'time'])\n6\n3\n28\n==========\ndict_keys(['imodel', 'sort', 'init', 'history', 'sequence', 'weights', 'metadata', 'time'])\n6\n3\n29\n==========\ndict_keys(['imodel', 'sort', 'init', 'history', 'sequence', 'weights', 'metadata', 'time'])\n7\n3\n20\n==========\ndict_keys(['imodel', 'sort', 'init', 'history', 'sequence', 'weights', 'metadata', 'time'])\n7\n3\n21\n==========\ndict_keys(['imodel', 'sort', 'init', 'history', 'sequence', 'weights', 'metadata', 'time'])\n7\n3\n22\n==========\ndict_keys(['imodel', 'sort', 'init', 'history', 'sequence', 'weights', 'metadata', 'time'])\n7\n3\n23\n==========\ndict_keys(['imodel', 'sort', 'init', 'history', 'sequence', 'weights', 'metadata', 'time'])\n7\n3\n24\n==========\ndict_keys(['imodel', 'sort', 'init', 'history', 'sequence', 'weights', 'metadata', 'time'])\n7\n3\n25\n==========\ndict_keys(['imodel', 'sort', 'init', 'history', 'sequence', 'weights', 'metadata', 'time'])\n7\n3\n26\n==========\ndict_keys(['imodel', 'sort', 'init', 'history', 'sequence', 'weights', 'metadata', 'time'])\n7\n3\n27\n==========\ndict_keys(['imodel', 'sort', 'init', 'history', 'sequence', 'weights', 'metadata', 'time'])\n7\n3\n28\n==========\ndict_keys(['imodel', 'sort', 'init', 'history', 'sequence', 'weights', 'metadata', 'time'])\n7\n3\n29\n==========\ndict_keys(['imodel', 'sort', 'init', 'history', 'sequence', 'weights', 'metadata', 'time'])\n6\n4\n20\n==========\ndict_keys(['imodel', 'sort', 'init', 'history', 'sequence', 'weights', 'metadata', 'time'])\n6\n4\n21\n==========\ndict_keys(['imodel', 'sort', 'init', 'history', 'sequence', 'weights', 'metadata', 'time'])\n6\n4\n22\n==========\ndict_keys(['imodel', 'sort', 'init', 'history', 'sequence', 'weights', 'metadata', 'time'])\n6\n4\n23\n==========\ndict_keys(['imodel', 'sort', 'init', 'history', 'sequence', 'weights', 'metadata', 'time'])\n6\n4\n24\n==========\ndict_keys(['imodel', 'sort', 'init', 'history', 'sequence', 'weights', 'metadata', 'time'])\n6\n4\n25\n==========\ndict_keys(['imodel', 'sort', 'init', 'history', 'sequence', 'weights', 'metadata', 'time'])\n6\n4\n26\n==========\ndict_keys(['imodel', 'sort', 'init', 'history', 'sequence', 'weights', 'metadata', 'time'])\n6\n4\n27\n==========\ndict_keys(['imodel', 'sort', 'init', 'history', 'sequence', 'weights', 'metadata', 'time'])\n6\n4\n28\n==========\ndict_keys(['imodel', 'sort', 'init', 'history', 'sequence', 'weights', 'metadata', 'time'])\n6\n4\n29\n==========\ndict_keys(['imodel', 'sort', 'init', 'history', 'sequence', 'weights', 'metadata', 'time'])\n7\n4\n20\n==========\ndict_keys(['imodel', 'sort', 'init', 'history', 'sequence', 'weights', 'metadata', 'time'])\n7\n4\n21\n==========\ndict_keys(['imodel', 'sort', 'init', 'history', 'sequence', 'weights', 'metadata', 'time'])\n7\n4\n22\n==========\ndict_keys(['imodel', 'sort', 'init', 'history', 'sequence', 'weights', 'metadata', 'time'])\n7\n4\n23\n==========\ndict_keys(['imodel', 'sort', 'init', 'history', 'sequence', 'weights', 'metadata', 'time'])\n7\n4\n24\n==========\ndict_keys(['imodel', 'sort', 'init', 'history', 'sequence', 'weights', 'metadata', 'time'])\n7\n4\n25\n==========\ndict_keys(['imodel', 'sort', 'init', 'history', 'sequence', 'weights', 'metadata', 'time'])\n7\n4\n26\n==========\ndict_keys(['imodel', 'sort', 'init', 'history', 'sequence', 'weights', 'metadata', 'time'])\n7\n4\n27\n==========\ndict_keys(['imodel', 'sort', 'init', 'history', 'sequence', 'weights', 'metadata', 'time'])\n7\n4\n28\n==========\ndict_keys(['imodel', 'sort', 'init', 'history', 'sequence', 'weights', 'metadata', 'time'])\n7\n4\n29\n==========\n"
    }
   ],
   "source": [
    "for i in range(len(tuning_file['tunedData'])):\n",
    "    print(tuning_file['tunedData'][i].keys())\n",
    "    print(tuning_file['tunedData'][i]['imodel'])\n",
    "    print(tuning_file['tunedData'][i]['sort'])\n",
    "    print(tuning_file['tunedData'][i]['init'])\n",
    "    print(10*'=')"
   ]
  },
  {
   "cell_type": "code",
   "execution_count": null,
   "metadata": {},
   "outputs": [],
   "source": []
  }
 ]
}