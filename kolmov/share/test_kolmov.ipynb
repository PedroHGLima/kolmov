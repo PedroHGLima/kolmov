{
 "nbformat": 4,
 "nbformat_minor": 2,
 "metadata": {
  "language_info": {
   "name": "python",
   "codemirror_mode": {
    "name": "ipython",
    "version": 3
   },
   "version": "3.6.9-final"
  },
  "orig_nbformat": 2,
  "file_extension": ".py",
  "mimetype": "text/x-python",
  "name": "python",
  "npconvert_exporter": "python",
  "pygments_lexer": "ipython3",
  "version": 3,
  "kernelspec": {
   "name": "python36964bit51ef99cdd9044fdea6ea857ff5d40119",
   "display_name": "Python 3.6.9 64-bit"
  }
 },
 "cells": [
  {
   "cell_type": "code",
   "execution_count": 1,
   "metadata": {},
   "outputs": [
    {
     "name": "stdout",
     "output_type": "stream",
     "text": "WARNING: ROOT not found. You will not be able to use the TEventLoop services provied by the gaugi core.\n"
    }
   ],
   "source": [
    "import os\n",
    "import re\n",
    "import sys\n",
    "import glob\n",
    "\n",
    "import numpy as np\n",
    "import pandas as pd\n",
    "\n",
    "import seaborn as sns\n",
    "\n",
    "# add gaugi by hand\n",
    "sys.path.append('../../.__python__/')\n",
    "from Gaugi import load as gload\n",
    "from kolmov import table_info"
   ]
  },
  {
   "cell_type": "code",
   "execution_count": 2,
   "metadata": {},
   "outputs": [],
   "source": [
    "base_path = '/volume/'\n",
    "task_name = 'v1_task/user.mverissi.task.data17_13TeV.AllPeriods.sgn.probes_lhmedium_EGAM2.bkg.VProbes_EGAM7.GRL_v97_*/*'\n",
    "task_full_name = os.path.join(base_path, task_name)"
   ]
  },
  {
   "cell_type": "code",
   "execution_count": 3,
   "metadata": {},
   "outputs": [
    {
     "name": "stdout",
     "output_type": "stream",
     "text": "/volume/v1_task/user.mverissi.task.data17_13TeV.AllPeriods.sgn.probes_lhmedium_EGAM2.bkg.VProbes_EGAM7.GRL_v97_*/*\n"
    }
   ],
   "source": [
    "print(task_full_name)"
   ]
  },
  {
   "cell_type": "code",
   "execution_count": 4,
   "metadata": {},
   "outputs": [],
   "source": [
    "tuned_info = {\n",
    "    # validation\n",
    "    'max_sp_val'     : [],\n",
    "    'max_sp_pd_val'  : [],\n",
    "    'max_sp_fa_val'  : [],\n",
    "    'auc_val'        : [],\n",
    "    # operation\n",
    "    'max_sp_op'     : [],\n",
    "    'max_sp_pd_op'  : [],\n",
    "    'max_sp_fa_op'  : [],\n",
    "    'auc_op'        : [],\n",
    "}"
   ]
  },
  {
   "cell_type": "code",
   "execution_count": 5,
   "metadata": {},
   "outputs": [
    {
     "name": "stdout",
     "output_type": "stream",
     "text": "There are 900 files for this task...\n"
    }
   ],
   "source": [
    "test = table_info(task_full_name, tuned_info, tag='v1')"
   ]
  },
  {
   "cell_type": "code",
   "execution_count": 6,
   "metadata": {},
   "outputs": [
    {
     "name": "stdout",
     "output_type": "stream",
     "text": "Filling the table... \nEnd of fill step, a pandas DataFrame was created...\n"
    }
   ],
   "source": [
    "# fill table\n",
    "test.fill_table()"
   ]
  },
  {
   "cell_type": "code",
   "execution_count": 7,
   "metadata": {},
   "outputs": [
    {
     "data": {
      "text/html": "<div>\n<style scoped>\n    .dataframe tbody tr th:only-of-type {\n        vertical-align: middle;\n    }\n\n    .dataframe tbody tr th {\n        vertical-align: top;\n    }\n\n    .dataframe thead th {\n        text-align: right;\n    }\n</style>\n<table border=\"1\" class=\"dataframe\">\n  <thead>\n    <tr style=\"text-align: right;\">\n      <th></th>\n      <th>train_tag</th>\n      <th>et_bin</th>\n      <th>eta_bin</th>\n      <th>model_idx</th>\n      <th>sort</th>\n      <th>init</th>\n      <th>file_name</th>\n      <th>total_sgn</th>\n      <th>total_bkg</th>\n      <th>max_sp_val</th>\n      <th>max_sp_pd_val</th>\n      <th>max_sp_fa_val</th>\n      <th>auc_val</th>\n      <th>max_sp_op</th>\n      <th>max_sp_pd_op</th>\n      <th>max_sp_fa_op</th>\n      <th>auc_op</th>\n    </tr>\n  </thead>\n  <tbody>\n    <tr>\n      <th>0</th>\n      <td>v1</td>\n      <td>2</td>\n      <td>0</td>\n      <td>8</td>\n      <td>0</td>\n      <td>40</td>\n      <td>tunedDiscr.jobID_0044.pic.gz</td>\n      <td>21991</td>\n      <td>226563</td>\n      <td>0.964129</td>\n      <td>0.971364</td>\n      <td>0.043079</td>\n      <td>0.989309</td>\n      <td>0.965064</td>\n      <td>0.974217</td>\n      <td>0.044045</td>\n      <td>0.990439</td>\n    </tr>\n    <tr>\n      <th>1</th>\n      <td>v1</td>\n      <td>2</td>\n      <td>0</td>\n      <td>8</td>\n      <td>0</td>\n      <td>41</td>\n      <td>tunedDiscr.jobID_0044.pic.gz</td>\n      <td>21991</td>\n      <td>226563</td>\n      <td>0.963296</td>\n      <td>0.972273</td>\n      <td>0.045639</td>\n      <td>0.988739</td>\n      <td>0.964953</td>\n      <td>0.972671</td>\n      <td>0.042734</td>\n      <td>0.990052</td>\n    </tr>\n    <tr>\n      <th>2</th>\n      <td>v1</td>\n      <td>2</td>\n      <td>0</td>\n      <td>8</td>\n      <td>0</td>\n      <td>42</td>\n      <td>tunedDiscr.jobID_0044.pic.gz</td>\n      <td>21991</td>\n      <td>226563</td>\n      <td>0.963471</td>\n      <td>0.970000</td>\n      <td>0.043035</td>\n      <td>0.989260</td>\n      <td>0.965217</td>\n      <td>0.973717</td>\n      <td>0.043246</td>\n      <td>0.990617</td>\n    </tr>\n    <tr>\n      <th>3</th>\n      <td>v1</td>\n      <td>2</td>\n      <td>0</td>\n      <td>8</td>\n      <td>0</td>\n      <td>43</td>\n      <td>tunedDiscr.jobID_0044.pic.gz</td>\n      <td>21991</td>\n      <td>226563</td>\n      <td>0.962072</td>\n      <td>0.977273</td>\n      <td>0.053010</td>\n      <td>0.989100</td>\n      <td>0.963790</td>\n      <td>0.972989</td>\n      <td>0.045365</td>\n      <td>0.990130</td>\n    </tr>\n    <tr>\n      <th>4</th>\n      <td>v1</td>\n      <td>2</td>\n      <td>0</td>\n      <td>8</td>\n      <td>0</td>\n      <td>44</td>\n      <td>tunedDiscr.jobID_0044.pic.gz</td>\n      <td>21991</td>\n      <td>226563</td>\n      <td>0.963316</td>\n      <td>0.970000</td>\n      <td>0.043344</td>\n      <td>0.989608</td>\n      <td>0.965221</td>\n      <td>0.975535</td>\n      <td>0.045038</td>\n      <td>0.990587</td>\n    </tr>\n  </tbody>\n</table>\n</div>",
      "text/plain": "  train_tag  et_bin  eta_bin  model_idx  sort  init  \\\n0        v1       2        0          8     0    40   \n1        v1       2        0          8     0    41   \n2        v1       2        0          8     0    42   \n3        v1       2        0          8     0    43   \n4        v1       2        0          8     0    44   \n\n                      file_name  total_sgn  total_bkg  max_sp_val  \\\n0  tunedDiscr.jobID_0044.pic.gz      21991     226563    0.964129   \n1  tunedDiscr.jobID_0044.pic.gz      21991     226563    0.963296   \n2  tunedDiscr.jobID_0044.pic.gz      21991     226563    0.963471   \n3  tunedDiscr.jobID_0044.pic.gz      21991     226563    0.962072   \n4  tunedDiscr.jobID_0044.pic.gz      21991     226563    0.963316   \n\n   max_sp_pd_val  max_sp_fa_val   auc_val  max_sp_op  max_sp_pd_op  \\\n0       0.971364       0.043079  0.989309   0.965064      0.974217   \n1       0.972273       0.045639  0.988739   0.964953      0.972671   \n2       0.970000       0.043035  0.989260   0.965217      0.973717   \n3       0.977273       0.053010  0.989100   0.963790      0.972989   \n4       0.970000       0.043344  0.989608   0.965221      0.975535   \n\n   max_sp_fa_op    auc_op  \n0      0.044045  0.990439  \n1      0.042734  0.990052  \n2      0.043246  0.990617  \n3      0.045365  0.990130  \n4      0.045038  0.990587  "
     },
     "execution_count": 7,
     "metadata": {},
     "output_type": "execute_result"
    }
   ],
   "source": [
    "cv_df = test.get_pandas_table()\n",
    "cv_df.head()"
   ]
  },
  {
   "cell_type": "code",
   "execution_count": 8,
   "metadata": {},
   "outputs": [],
   "source": [
    "cv_df = test.filter_inits('max_sp_val')"
   ]
  },
  {
   "cell_type": "code",
   "execution_count": 9,
   "metadata": {},
   "outputs": [
    {
     "data": {
      "text/plain": "1650"
     },
     "execution_count": 9,
     "metadata": {},
     "output_type": "execute_result"
    }
   ],
   "source": [
    "len(cv_df)"
   ]
  },
  {
   "cell_type": "code",
   "execution_count": 10,
   "metadata": {},
   "outputs": [],
   "source": [
    "test.dump_table(cv_df, base_path, 'cv_table_v1')"
   ]
  },
  {
   "cell_type": "code",
   "execution_count": 16,
   "metadata": {},
   "outputs": [
    {
     "data": {
      "text/html": "<div>\n<style scoped>\n    .dataframe tbody tr th:only-of-type {\n        vertical-align: middle;\n    }\n\n    .dataframe tbody tr th {\n        vertical-align: top;\n    }\n\n    .dataframe thead th {\n        text-align: right;\n    }\n</style>\n<table border=\"1\" class=\"dataframe\">\n  <thead>\n    <tr style=\"text-align: right;\">\n      <th></th>\n      <th>train_tag</th>\n      <th>et_bin</th>\n      <th>eta_bin</th>\n      <th>model_idx</th>\n      <th>sort</th>\n      <th>init</th>\n      <th>file_name</th>\n      <th>total_sgn</th>\n      <th>total_bkg</th>\n      <th>max_sp_val</th>\n      <th>max_sp_pd_val</th>\n      <th>max_sp_fa_val</th>\n      <th>auc_val</th>\n      <th>max_sp_op</th>\n      <th>max_sp_pd_op</th>\n      <th>max_sp_fa_op</th>\n      <th>auc_op</th>\n    </tr>\n  </thead>\n  <tbody>\n    <tr>\n      <th>69056</th>\n      <td>v1</td>\n      <td>0</td>\n      <td>0</td>\n      <td>0</td>\n      <td>0</td>\n      <td>46</td>\n      <td>tunedDiscr.jobID_0004.pic.gz</td>\n      <td>28455</td>\n      <td>205005</td>\n      <td>0.949406</td>\n      <td>0.963106</td>\n      <td>0.064195</td>\n      <td>0.982747</td>\n      <td>0.947130</td>\n      <td>0.959761</td>\n      <td>0.065418</td>\n      <td>0.982995</td>\n    </tr>\n    <tr>\n      <th>71325</th>\n      <td>v1</td>\n      <td>0</td>\n      <td>0</td>\n      <td>0</td>\n      <td>1</td>\n      <td>25</td>\n      <td>tunedDiscr.jobID_0002.pic.gz</td>\n      <td>28455</td>\n      <td>205005</td>\n      <td>0.947411</td>\n      <td>0.962403</td>\n      <td>0.067463</td>\n      <td>0.981599</td>\n      <td>0.946596</td>\n      <td>0.957442</td>\n      <td>0.064189</td>\n      <td>0.982611</td>\n    </tr>\n    <tr>\n      <th>71344</th>\n      <td>v1</td>\n      <td>0</td>\n      <td>0</td>\n      <td>0</td>\n      <td>2</td>\n      <td>24</td>\n      <td>tunedDiscr.jobID_0002.pic.gz</td>\n      <td>28455</td>\n      <td>205005</td>\n      <td>0.942160</td>\n      <td>0.945889</td>\n      <td>0.061561</td>\n      <td>0.980855</td>\n      <td>0.944615</td>\n      <td>0.958426</td>\n      <td>0.069096</td>\n      <td>0.982112</td>\n    </tr>\n    <tr>\n      <th>69569</th>\n      <td>v1</td>\n      <td>0</td>\n      <td>0</td>\n      <td>0</td>\n      <td>3</td>\n      <td>9</td>\n      <td>tunedDiscr.jobID_0000.pic.gz</td>\n      <td>28455</td>\n      <td>205005</td>\n      <td>0.946431</td>\n      <td>0.963106</td>\n      <td>0.070098</td>\n      <td>0.982423</td>\n      <td>0.946478</td>\n      <td>0.962643</td>\n      <td>0.069550</td>\n      <td>0.983515</td>\n    </tr>\n    <tr>\n      <th>68287</th>\n      <td>v1</td>\n      <td>0</td>\n      <td>0</td>\n      <td>0</td>\n      <td>4</td>\n      <td>37</td>\n      <td>tunedDiscr.jobID_0003.pic.gz</td>\n      <td>28455</td>\n      <td>205005</td>\n      <td>0.946725</td>\n      <td>0.962755</td>\n      <td>0.069171</td>\n      <td>0.981539</td>\n      <td>0.946067</td>\n      <td>0.961272</td>\n      <td>0.069018</td>\n      <td>0.983181</td>\n    </tr>\n  </tbody>\n</table>\n</div>",
      "text/plain": "      train_tag  et_bin  eta_bin  model_idx  sort  init  \\\n69056        v1       0        0          0     0    46   \n71325        v1       0        0          0     1    25   \n71344        v1       0        0          0     2    24   \n69569        v1       0        0          0     3     9   \n68287        v1       0        0          0     4    37   \n\n                          file_name  total_sgn  total_bkg  max_sp_val  \\\n69056  tunedDiscr.jobID_0004.pic.gz      28455     205005    0.949406   \n71325  tunedDiscr.jobID_0002.pic.gz      28455     205005    0.947411   \n71344  tunedDiscr.jobID_0002.pic.gz      28455     205005    0.942160   \n69569  tunedDiscr.jobID_0000.pic.gz      28455     205005    0.946431   \n68287  tunedDiscr.jobID_0003.pic.gz      28455     205005    0.946725   \n\n       max_sp_pd_val  max_sp_fa_val   auc_val  max_sp_op  max_sp_pd_op  \\\n69056       0.963106       0.064195  0.982747   0.947130      0.959761   \n71325       0.962403       0.067463  0.981599   0.946596      0.957442   \n71344       0.945889       0.061561  0.980855   0.944615      0.958426   \n69569       0.963106       0.070098  0.982423   0.946478      0.962643   \n68287       0.962755       0.069171  0.981539   0.946067      0.961272   \n\n       max_sp_fa_op    auc_op  \n69056      0.065418  0.982995  \n71325      0.064189  0.982611  \n71344      0.069096  0.982112  \n69569      0.069550  0.983515  \n68287      0.069018  0.983181  "
     },
     "execution_count": 16,
     "metadata": {},
     "output_type": "execute_result"
    }
   ],
   "source": [
    "cv_df.head()"
   ]
  }
 ]
}