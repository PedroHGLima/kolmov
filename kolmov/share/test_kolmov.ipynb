{
 "nbformat": 4,
 "nbformat_minor": 2,
 "metadata": {
  "language_info": {
   "name": "python",
   "codemirror_mode": {
    "name": "ipython",
    "version": 3
   },
   "version": "3.6.9-final"
  },
  "orig_nbformat": 2,
  "file_extension": ".py",
  "mimetype": "text/x-python",
  "name": "python",
  "npconvert_exporter": "python",
  "pygments_lexer": "ipython3",
  "version": 3,
  "kernelspec": {
   "name": "python36964bit42f3c88e2fec4debaa983221e9d43da0",
   "display_name": "Python 3.6.9 64-bit"
  }
 },
 "cells": [
  {
   "cell_type": "code",
   "execution_count": 1,
   "metadata": {},
   "outputs": [
    {
     "ename": "ModuleNotFoundError",
     "evalue": "No module named 'Gaugi'",
     "output_type": "error",
     "traceback": [
      "\u001b[0;31m---------------------------------------------------------------------------\u001b[0m",
      "\u001b[0;31mModuleNotFoundError\u001b[0m                       Traceback (most recent call last)",
      "\u001b[0;32m<ipython-input-1-a743fdbec112>\u001b[0m in \u001b[0;36m<module>\u001b[0;34m\u001b[0m\n\u001b[1;32m      9\u001b[0m \u001b[0;31m# add gaugi by hand\u001b[0m\u001b[0;34m\u001b[0m\u001b[0;34m\u001b[0m\u001b[0;34m\u001b[0m\u001b[0m\n\u001b[1;32m     10\u001b[0m \u001b[0;31m#sys.path.append('../../.__python__/')\u001b[0m\u001b[0;34m\u001b[0m\u001b[0;34m\u001b[0m\u001b[0;34m\u001b[0m\u001b[0m\n\u001b[0;32m---> 11\u001b[0;31m \u001b[0;32mfrom\u001b[0m \u001b[0mGaugi\u001b[0m \u001b[0;32mimport\u001b[0m \u001b[0mload\u001b[0m \u001b[0;32mas\u001b[0m \u001b[0mgload\u001b[0m\u001b[0;34m\u001b[0m\u001b[0;34m\u001b[0m\u001b[0m\n\u001b[0m",
      "\u001b[0;31mModuleNotFoundError\u001b[0m: No module named 'Gaugi'"
     ]
    }
   ],
   "source": [
    "import os\n",
    "import sys\n",
    "\n",
    "import numpy as np\n",
    "import pandas as pd\n",
    "\n",
    "import seaborn as sns\n",
    "\n",
    "# add gaugi by hand\n",
    "#sys.path.append('../../.__python__/')\n",
    "from Gaugi import load as gload"
   ]
  },
  {
   "cell_type": "code",
   "execution_count": 2,
   "metadata": {},
   "outputs": [
    {
     "name": "stdout",
     "output_type": "stream",
     "text": "/bin/sh: 1: jupyter-troubleshoot: not found\n"
    }
   ],
   "source": [
    "!jupyter-troubleshoot"
   ]
  },
  {
   "cell_type": "code",
   "execution_count": 5,
   "metadata": {},
   "outputs": [
    {
     "data": {
      "text/plain": "environ{'HOSTNAME': 'micael-notebook',\n        'LD_LIBRARY_PATH': '/usr/local/cuda/extras/CUPTI/lib64:/usr/local/cuda/lib64:/usr/local/nvidia/lib:/usr/local/nvidia/lib64',\n        'HOME': '/root',\n        'CUDA_VERSION': '10.1.243',\n        'NVIDIA_REQUIRE_CUDA': 'cuda>=10.1 brand=tesla,driver>=384,driver<385 brand=tesla,driver>=396,driver<397 brand=tesla,driver>=410,driver<411',\n        'NVIDIA_DRIVER_CAPABILITIES': 'compute,utility',\n        'PATH': '/root/.vscode-server/bin/ae08d5460b5a45169385ff3fd44208f431992451/bin:/usr/local/nvidia/bin:/usr/local/cuda/bin:/usr/local/sbin:/usr/local/bin:/usr/sbin:/usr/bin:/sbin:/bin',\n        'VSCODE_AGENT_FOLDER': '/root/.vscode-server',\n        'CUDA_PKG_VERSION': '10-1=10.1.243-1',\n        'LANG': 'C.UTF-8',\n        'SHELL': '/bin/bash',\n        'PWD': '/root/.vscode-server/bin/ae08d5460b5a45169385ff3fd44208f431992451',\n        'NVIDIA_VISIBLE_DEVICES': 'all',\n        'VSCODE_INJECT_NODE_MODULE_LOOKUP_PATH': '/root/.vscode-server/bin/ae08d5460b5a45169385ff3fd44208f431992451/remote/node_modules',\n        'VSCODE_LOGS': '/root/.vscode-server/data/logs/20200211T181633',\n        'AMD_ENTRYPOINT': 'vs/server/remoteExtensionHostProcess',\n        'PIPE_LOGGING': 'true',\n        'VERBOSE_LOGGING': 'true',\n        'VSCODE_EXTHOST_WILL_SEND_SOCKET': 'true',\n        'VSCODE_HANDLES_UNCAUGHT_ERRORS': 'true',\n        'VSCODE_LOG_STACK': 'false',\n        'VSCODE_NLS_CONFIG': '{\"locale\":\"en\",\"availableLanguages\":{}}',\n        'SSH_AUTH_SOCK': '/tmp/vscode-ssh-auth-53489f4885222ac27775e76e537fca2c49e11ddc.sock',\n        'REMOTE_CONTAINERS_IPC': '/tmp/vscode-remote-containers-ipc-53489f4885222ac27775e76e537fca2c49e11ddc.sock',\n        'VSCODE_IPC_HOOK_CLI': '/tmp/vscode-ipc-7d48bdc8-2986-4ce8-b265-e8443c4dc5cf.sock',\n        'APPLICATION_INSIGHTS_NO_DIAGNOSTIC_CHANNEL': 'true',\n        'PYTHONPATH': '/root/.vscode-server/extensions/ms-python.python-2020.1.58038/pythonFiles:/root/.vscode-server/extensions/ms-python.python-2020.1.58038/pythonFiles/lib/python',\n        'PYTHONUNBUFFERED': '1',\n        'PYTHONIOENCODING': 'utf-8',\n        'KERNEL_LAUNCH_TIMEOUT': '40',\n        'JPY_PARENT_PID': '5200',\n        'TERM': 'xterm-color',\n        'CLICOLOR': '1',\n        'PAGER': 'cat',\n        'GIT_PAGER': 'cat',\n        'MPLBACKEND': 'module://ipykernel.pylab.backend_inline'}"
     },
     "execution_count": 5,
     "metadata": {},
     "output_type": "execute_result"
    }
   ],
   "source": [
    "os.environ"
   ]
  }
 ]
}