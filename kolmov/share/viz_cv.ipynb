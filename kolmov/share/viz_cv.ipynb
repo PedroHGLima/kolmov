{
 "nbformat": 4,
 "nbformat_minor": 2,
 "metadata": {
  "language_info": {
   "name": "python",
   "codemirror_mode": {
    "name": "ipython",
    "version": 3
   },
   "version": "3.6.9-final"
  },
  "orig_nbformat": 2,
  "file_extension": ".py",
  "mimetype": "text/x-python",
  "name": "python",
  "npconvert_exporter": "python",
  "pygments_lexer": "ipython3",
  "version": 3,
  "kernelspec": {
   "name": "python36964bit615e60f56f1443849c3318be4a2f1dfc",
   "display_name": "Python 3.6.9 64-bit"
  }
 },
 "cells": [
  {
   "cell_type": "code",
   "execution_count": 4,
   "metadata": {},
   "outputs": [],
   "source": [
    "import os\n",
    "import numpy as np\n",
    "import pandas as pd"
   ]
  },
  {
   "cell_type": "code",
   "execution_count": 15,
   "metadata": {},
   "outputs": [],
   "source": [
    "basepath = '/volume'"
   ]
  },
  {
   "cell_type": "code",
   "execution_count": 28,
   "metadata": {},
   "outputs": [],
   "source": [
    "cv_file  = os.path.join(basepath, 'cross_val_table_v1.csv')\n",
    "cv_table = pd.read_csv(cv_file)"
   ]
  },
  {
   "cell_type": "code",
   "execution_count": 29,
   "metadata": {},
   "outputs": [
    {
     "data": {
      "text/plain": "et_bin             float64\neta_bin            float64\nmax_sp_val          object\nmax_sp_val.1        object\nmax_sp_pd_val       object\nmax_sp_pd_val.1     object\nmax_sp_fa_val       object\nmax_sp_fa_val.1     object\nauc_val             object\nauc_val.1           object\ndtype: object"
     },
     "execution_count": 29,
     "metadata": {},
     "output_type": "execute_result"
    }
   ],
   "source": [
    "cv_table.dtypes"
   ]
  },
  {
   "cell_type": "code",
   "execution_count": 30,
   "metadata": {},
   "outputs": [],
   "source": [
    "cv_columns = ['max_sp_val', 'max_sp_val.1',\n",
    "              'max_sp_pd_val', 'max_sp_pd_val.1',\n",
    "              'max_sp_fa_val', 'max_sp_fa_val.1',\n",
    "              'auc_val', 'auc_val.1']\n",
    "cv_table = cv_table[1:]\n",
    "cv_table[cv_columns] = cv_table[cv_columns].astype(np.float).round(2)"
   ]
  },
  {
   "cell_type": "code",
   "execution_count": 34,
   "metadata": {},
   "outputs": [],
   "source": [
    "cv_table['SP_val'] = cv_table[['max_sp_val', 'max_sp_val.1']].apply(lambda x: ' +- '.join(x.astype(str)), axis=1)\n",
    "cv_table['PD_val'] = cv_table[['max_sp_pd_val', 'max_sp_pd_val.1']].apply(lambda x: ' +- '.join(x.astype(str)), axis=1)\n",
    "cv_table['FA_val'] = cv_table[['max_sp_fa_val', 'max_sp_fa_val.1']].apply(lambda x: ' +- '.join(x.astype(str)), axis=1)"
   ]
  },
  {
   "cell_type": "code",
   "execution_count": 38,
   "metadata": {},
   "outputs": [],
   "source": [
    "my_cv = cv_table[['et_bin', 'eta_bin', 'SP_val', 'PD_val', 'FA_val']].copy()"
   ]
  },
  {
   "cell_type": "code",
   "execution_count": 56,
   "metadata": {},
   "outputs": [
    {
     "data": {
      "text/html": "<div>\n<style scoped>\n    .dataframe tbody tr th:only-of-type {\n        vertical-align: middle;\n    }\n\n    .dataframe tbody tr th {\n        vertical-align: top;\n    }\n\n    .dataframe thead th {\n        text-align: right;\n    }\n</style>\n<table border=\"1\" class=\"dataframe\">\n  <thead>\n    <tr style=\"text-align: right;\">\n      <th></th>\n      <th>et_bin</th>\n      <th>SP_val</th>\n      <th>PD_val</th>\n      <th>FA_val</th>\n    </tr>\n    <tr>\n      <th>eta_bin</th>\n      <th></th>\n      <th></th>\n      <th></th>\n      <th></th>\n    </tr>\n  </thead>\n  <tbody>\n    <tr>\n      <th>0.0</th>\n      <td>0.0</td>\n      <td>94.77 +- 0.27</td>\n      <td>96.15 +- 0.73</td>\n      <td>6.6 +- 0.58</td>\n    </tr>\n    <tr>\n      <th>1.0</th>\n      <td>0.0</td>\n      <td>93.59 +- 0.48</td>\n      <td>94.86 +- 1.44</td>\n      <td>7.67 +- 0.9</td>\n    </tr>\n    <tr>\n      <th>2.0</th>\n      <td>0.0</td>\n      <td>89.97 +- 1.96</td>\n      <td>92.38 +- 4.8</td>\n      <td>12.34 +- 3.06</td>\n    </tr>\n    <tr>\n      <th>3.0</th>\n      <td>0.0</td>\n      <td>92.21 +- 0.46</td>\n      <td>95.1 +- 1.05</td>\n      <td>10.64 +- 0.64</td>\n    </tr>\n    <tr>\n      <th>4.0</th>\n      <td>0.0</td>\n      <td>93.64 +- 2.12</td>\n      <td>98.53 +- 1.9</td>\n      <td>11.12 +- 3.27</td>\n    </tr>\n    <tr>\n      <th>0.0</th>\n      <td>1.0</td>\n      <td>95.61 +- 0.35</td>\n      <td>96.2 +- 0.71</td>\n      <td>4.97 +- 0.35</td>\n    </tr>\n    <tr>\n      <th>1.0</th>\n      <td>1.0</td>\n      <td>94.77 +- 0.38</td>\n      <td>95.9 +- 0.95</td>\n      <td>6.35 +- 0.75</td>\n    </tr>\n    <tr>\n      <th>2.0</th>\n      <td>1.0</td>\n      <td>92.28 +- 1.83</td>\n      <td>95.03 +- 4.39</td>\n      <td>10.38 +- 2.04</td>\n    </tr>\n    <tr>\n      <th>3.0</th>\n      <td>1.0</td>\n      <td>94.22 +- 0.43</td>\n      <td>96.4 +- 0.82</td>\n      <td>7.92 +- 1.2</td>\n    </tr>\n    <tr>\n      <th>4.0</th>\n      <td>1.0</td>\n      <td>95.22 +- 1.58</td>\n      <td>99.0 +- 2.11</td>\n      <td>8.46 +- 2.63</td>\n    </tr>\n    <tr>\n      <th>0.0</th>\n      <td>2.0</td>\n      <td>96.6 +- 0.16</td>\n      <td>97.31 +- 0.66</td>\n      <td>4.11 +- 0.52</td>\n    </tr>\n    <tr>\n      <th>1.0</th>\n      <td>2.0</td>\n      <td>95.56 +- 0.3</td>\n      <td>96.72 +- 0.62</td>\n      <td>5.6 +- 0.67</td>\n    </tr>\n    <tr>\n      <th>2.0</th>\n      <td>2.0</td>\n      <td>93.73 +- 1.44</td>\n      <td>96.26 +- 1.99</td>\n      <td>8.75 +- 2.24</td>\n    </tr>\n    <tr>\n      <th>3.0</th>\n      <td>2.0</td>\n      <td>95.41 +- 0.4</td>\n      <td>96.79 +- 1.23</td>\n      <td>5.95 +- 1.05</td>\n    </tr>\n    <tr>\n      <th>4.0</th>\n      <td>2.0</td>\n      <td>97.91 +- 0.81</td>\n      <td>100.0 +- 0.0</td>\n      <td>4.16 +- 1.59</td>\n    </tr>\n  </tbody>\n</table>\n</div>",
      "text/plain": "         et_bin         SP_val         PD_val         FA_val\neta_bin                                                     \n0.0         0.0  94.77 +- 0.27  96.15 +- 0.73    6.6 +- 0.58\n1.0         0.0  93.59 +- 0.48  94.86 +- 1.44    7.67 +- 0.9\n2.0         0.0  89.97 +- 1.96   92.38 +- 4.8  12.34 +- 3.06\n3.0         0.0  92.21 +- 0.46   95.1 +- 1.05  10.64 +- 0.64\n4.0         0.0  93.64 +- 2.12   98.53 +- 1.9  11.12 +- 3.27\n0.0         1.0  95.61 +- 0.35   96.2 +- 0.71   4.97 +- 0.35\n1.0         1.0  94.77 +- 0.38   95.9 +- 0.95   6.35 +- 0.75\n2.0         1.0  92.28 +- 1.83  95.03 +- 4.39  10.38 +- 2.04\n3.0         1.0  94.22 +- 0.43   96.4 +- 0.82    7.92 +- 1.2\n4.0         1.0  95.22 +- 1.58   99.0 +- 2.11   8.46 +- 2.63\n0.0         2.0   96.6 +- 0.16  97.31 +- 0.66   4.11 +- 0.52\n1.0         2.0   95.56 +- 0.3  96.72 +- 0.62    5.6 +- 0.67\n2.0         2.0  93.73 +- 1.44  96.26 +- 1.99   8.75 +- 2.24\n3.0         2.0   95.41 +- 0.4  96.79 +- 1.23   5.95 +- 1.05\n4.0         2.0  97.91 +- 0.81   100.0 +- 0.0   4.16 +- 1.59"
     },
     "execution_count": 56,
     "metadata": {},
     "output_type": "execute_result"
    }
   ],
   "source": [
    "my_cv.set_index('eta_bin')"
   ]
  },
  {
   "cell_type": "code",
   "execution_count": 55,
   "metadata": {},
   "outputs": [
    {
     "data": {
      "text/plain": "MultiIndex([(0.0, 0.0, '94.77 +- 0.27', '96.15 +- 0.73',   '6.6 +- 0.58'),\n            (0.0, 1.0, '93.59 +- 0.48', '94.86 +- 1.44',   '7.67 +- 0.9'),\n            (0.0, 2.0, '89.97 +- 1.96',  '92.38 +- 4.8', '12.34 +- 3.06'),\n            (0.0, 3.0, '92.21 +- 0.46',  '95.1 +- 1.05', '10.64 +- 0.64'),\n            (0.0, 4.0, '93.64 +- 2.12',  '98.53 +- 1.9', '11.12 +- 3.27'),\n            (1.0, 0.0, '95.61 +- 0.35',  '96.2 +- 0.71',  '4.97 +- 0.35'),\n            (1.0, 1.0, '94.77 +- 0.38',  '95.9 +- 0.95',  '6.35 +- 0.75'),\n            (1.0, 2.0, '92.28 +- 1.83', '95.03 +- 4.39', '10.38 +- 2.04'),\n            (1.0, 3.0, '94.22 +- 0.43',  '96.4 +- 0.82',   '7.92 +- 1.2'),\n            (1.0, 4.0, '95.22 +- 1.58',  '99.0 +- 2.11',  '8.46 +- 2.63'),\n            (2.0, 0.0,  '96.6 +- 0.16', '97.31 +- 0.66',  '4.11 +- 0.52'),\n            (2.0, 1.0,  '95.56 +- 0.3', '96.72 +- 0.62',   '5.6 +- 0.67'),\n            (2.0, 2.0, '93.73 +- 1.44', '96.26 +- 1.99',  '8.75 +- 2.24'),\n            (2.0, 3.0,  '95.41 +- 0.4', '96.79 +- 1.23',  '5.95 +- 1.05'),\n            (2.0, 4.0, '97.91 +- 0.81',  '100.0 +- 0.0',  '4.16 +- 1.59')],\n           names=['et_bin', 'eta_bin', 'SP_val', 'PD_val', 'FA_val'])"
     },
     "execution_count": 55,
     "metadata": {},
     "output_type": "execute_result"
    }
   ],
   "source": [
    "pd.MultiIndex.from_frame(my_cv)"
   ]
  },
  {
   "cell_type": "code",
   "execution_count": null,
   "metadata": {},
   "outputs": [],
   "source": []
  }
 ]
}