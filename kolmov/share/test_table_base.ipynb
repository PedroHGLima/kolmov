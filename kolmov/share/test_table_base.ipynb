{
 "nbformat": 4,
 "nbformat_minor": 2,
 "metadata": {
  "language_info": {
   "name": "python",
   "codemirror_mode": {
    "name": "ipython",
    "version": 3
   },
   "version": "3.6.9-final"
  },
  "orig_nbformat": 2,
  "file_extension": ".py",
  "mimetype": "text/x-python",
  "name": "python",
  "npconvert_exporter": "python",
  "pygments_lexer": "ipython3",
  "version": 3,
  "kernelspec": {
   "name": "python36964bita108b16f26af4dd79800675952fa5321",
   "display_name": "Python 3.6.9 64-bit"
  }
 },
 "cells": [
  {
   "cell_type": "code",
   "execution_count": 13,
   "metadata": {},
   "outputs": [],
   "source": [
    "import os\n",
    "import re\n",
    "import sys\n",
    "import glob\n",
    "\n",
    "import numpy as np\n",
    "import pandas as pd\n",
    "\n",
    "import matplotlib.pyplot as plt\n",
    "import seaborn as sns\n",
    "\n",
    "from Gaugi import load as gload\n",
    "\n",
    "# add gaugi by hand\n",
    "sys.path.append('../../.__python__/')\n",
    "from kolmov import table_info, dump_all_train_history, dump_train_history"
   ]
  },
  {
   "cell_type": "code",
   "execution_count": 2,
   "metadata": {},
   "outputs": [],
   "source": [
    "base_path   = '/volume/'\n",
    "output_path = os.path.join(base_path, 'models_history_v1_nohad')\n",
    "#task_name   = 'v1_task/user.mverissi.task.data17_13TeV.AllPeriods.sgn.probes_lhmedium_EGAM2.bkg.VProbes_EGAM7.GRL_v97_*/*'\n",
    "task_name   = 'v1_task_nohad/user.mverissi.task_nohad.data17_13TeV.AllPeriods.sgn.probes_lhmedium_EGAM2.bkg.VProbes_EGAM7.GRL_v97_*/*'\n",
    "\n",
    "task_full_name = os.path.join(base_path, task_name)"
   ]
  },
  {
   "cell_type": "code",
   "execution_count": 3,
   "metadata": {},
   "outputs": [
    {
     "name": "stdout",
     "output_type": "stream",
     "text": "/volume/models_history_v1_nohad\n/volume/v1_task_nohad/user.mverissi.task_nohad.data17_13TeV.AllPeriods.sgn.probes_lhmedium_EGAM2.bkg.VProbes_EGAM7.GRL_v97_*/*\n"
    }
   ],
   "source": [
    "# check the paths\n",
    "print(output_path)\n",
    "print(task_full_name)"
   ]
  },
  {
   "cell_type": "code",
   "execution_count": 4,
   "metadata": {},
   "outputs": [],
   "source": [
    "# wanted information\n",
    "tuned_info = {\n",
    "    # validation\n",
    "    'max_sp_val'     : [],\n",
    "    'max_sp_pd_val'  : [],\n",
    "    'max_sp_fa_val'  : [],\n",
    "    'auc_val'        : [],\n",
    "    # operation\n",
    "    'max_sp_op'     : [],\n",
    "    'max_sp_pd_op'  : [],\n",
    "    'max_sp_fa_op'  : [],\n",
    "    'auc_op'        : [],\n",
    "}"
   ]
  },
  {
   "cell_type": "code",
   "execution_count": 5,
   "metadata": {},
   "outputs": [
    {
     "name": "stdout",
     "output_type": "stream",
     "text": "There are 900 files for this task...\n"
    }
   ],
   "source": [
    "# init the table_info\n",
    "test = table_info(task_full_name, tuned_info, tag='v1_nohad')"
   ]
  },
  {
   "cell_type": "code",
   "execution_count": 6,
   "metadata": {},
   "outputs": [
    {
     "name": "stdout",
     "output_type": "stream",
     "text": "Filling the table... \nEnd of fill step, a pandas DataFrame was created...\n"
    }
   ],
   "source": [
    "# fill table\n",
    "test.fill_table()"
   ]
  },
  {
   "cell_type": "code",
   "execution_count": 7,
   "metadata": {},
   "outputs": [
    {
     "data": {
      "text/html": "<div>\n<style scoped>\n    .dataframe tbody tr th:only-of-type {\n        vertical-align: middle;\n    }\n\n    .dataframe tbody tr th {\n        vertical-align: top;\n    }\n\n    .dataframe thead th {\n        text-align: right;\n    }\n</style>\n<table border=\"1\" class=\"dataframe\">\n  <thead>\n    <tr style=\"text-align: right;\">\n      <th></th>\n      <th>train_tag</th>\n      <th>et_bin</th>\n      <th>eta_bin</th>\n      <th>model_idx</th>\n      <th>sort</th>\n      <th>init</th>\n      <th>file_name</th>\n      <th>total_sgn</th>\n      <th>total_bkg</th>\n      <th>max_sp_val</th>\n      <th>max_sp_pd_val</th>\n      <th>max_sp_fa_val</th>\n      <th>auc_val</th>\n      <th>max_sp_op</th>\n      <th>max_sp_pd_op</th>\n      <th>max_sp_fa_op</th>\n      <th>auc_op</th>\n    </tr>\n  </thead>\n  <tbody>\n    <tr>\n      <th>0</th>\n      <td>v1_nohad</td>\n      <td>1</td>\n      <td>1</td>\n      <td>6</td>\n      <td>0</td>\n      <td>20</td>\n      <td>tunedDiscr.jobID_0032.pic.gz</td>\n      <td>6436</td>\n      <td>73903</td>\n      <td>0.951187</td>\n      <td>0.970497</td>\n      <td>0.067930</td>\n      <td>0.980453</td>\n      <td>0.940271</td>\n      <td>0.959447</td>\n      <td>0.078711</td>\n      <td>0.978734</td>\n    </tr>\n    <tr>\n      <th>1</th>\n      <td>v1_nohad</td>\n      <td>1</td>\n      <td>1</td>\n      <td>6</td>\n      <td>0</td>\n      <td>21</td>\n      <td>tunedDiscr.jobID_0032.pic.gz</td>\n      <td>6436</td>\n      <td>73903</td>\n      <td>0.951528</td>\n      <td>0.970497</td>\n      <td>0.067253</td>\n      <td>0.980277</td>\n      <td>0.939824</td>\n      <td>0.950901</td>\n      <td>0.071188</td>\n      <td>0.978293</td>\n    </tr>\n    <tr>\n      <th>2</th>\n      <td>v1_nohad</td>\n      <td>1</td>\n      <td>1</td>\n      <td>6</td>\n      <td>0</td>\n      <td>22</td>\n      <td>tunedDiscr.jobID_0032.pic.gz</td>\n      <td>6436</td>\n      <td>73903</td>\n      <td>0.950913</td>\n      <td>0.970497</td>\n      <td>0.068471</td>\n      <td>0.979746</td>\n      <td>0.939581</td>\n      <td>0.963021</td>\n      <td>0.083569</td>\n      <td>0.978272</td>\n    </tr>\n    <tr>\n      <th>3</th>\n      <td>v1_nohad</td>\n      <td>1</td>\n      <td>1</td>\n      <td>6</td>\n      <td>0</td>\n      <td>23</td>\n      <td>tunedDiscr.jobID_0032.pic.gz</td>\n      <td>6436</td>\n      <td>73903</td>\n      <td>0.951101</td>\n      <td>0.968944</td>\n      <td>0.066576</td>\n      <td>0.980681</td>\n      <td>0.940259</td>\n      <td>0.959602</td>\n      <td>0.078887</td>\n      <td>0.979097</td>\n    </tr>\n    <tr>\n      <th>4</th>\n      <td>v1_nohad</td>\n      <td>1</td>\n      <td>1</td>\n      <td>6</td>\n      <td>0</td>\n      <td>24</td>\n      <td>tunedDiscr.jobID_0032.pic.gz</td>\n      <td>6436</td>\n      <td>73903</td>\n      <td>0.951802</td>\n      <td>0.970497</td>\n      <td>0.066712</td>\n      <td>0.980147</td>\n      <td>0.940031</td>\n      <td>0.960690</td>\n      <td>0.080403</td>\n      <td>0.978634</td>\n    </tr>\n  </tbody>\n</table>\n</div>",
      "text/plain": "  train_tag  et_bin  eta_bin  model_idx  sort  init  \\\n0  v1_nohad       1        1          6     0    20   \n1  v1_nohad       1        1          6     0    21   \n2  v1_nohad       1        1          6     0    22   \n3  v1_nohad       1        1          6     0    23   \n4  v1_nohad       1        1          6     0    24   \n\n                      file_name  total_sgn  total_bkg  max_sp_val  \\\n0  tunedDiscr.jobID_0032.pic.gz       6436      73903    0.951187   \n1  tunedDiscr.jobID_0032.pic.gz       6436      73903    0.951528   \n2  tunedDiscr.jobID_0032.pic.gz       6436      73903    0.950913   \n3  tunedDiscr.jobID_0032.pic.gz       6436      73903    0.951101   \n4  tunedDiscr.jobID_0032.pic.gz       6436      73903    0.951802   \n\n   max_sp_pd_val  max_sp_fa_val   auc_val  max_sp_op  max_sp_pd_op  \\\n0       0.970497       0.067930  0.980453   0.940271      0.959447   \n1       0.970497       0.067253  0.980277   0.939824      0.950901   \n2       0.970497       0.068471  0.979746   0.939581      0.963021   \n3       0.968944       0.066576  0.980681   0.940259      0.959602   \n4       0.970497       0.066712  0.980147   0.940031      0.960690   \n\n   max_sp_fa_op    auc_op  \n0      0.078711  0.978734  \n1      0.071188  0.978293  \n2      0.083569  0.978272  \n3      0.078887  0.979097  \n4      0.080403  0.978634  "
     },
     "execution_count": 7,
     "metadata": {},
     "output_type": "execute_result"
    }
   ],
   "source": [
    "cv_df = test.get_pandas_table()\n",
    "cv_df.head()"
   ]
  },
  {
   "cell_type": "code",
   "execution_count": 8,
   "metadata": {},
   "outputs": [],
   "source": [
    "# filter the DataFrame in order to get only 1 init.\n",
    "# ordened by max_sp_val\n",
    "cv_df = test.filter_inits('max_sp_val')"
   ]
  },
  {
   "cell_type": "code",
   "execution_count": 9,
   "metadata": {},
   "outputs": [
    {
     "data": {
      "text/plain": "1650"
     },
     "execution_count": 9,
     "metadata": {},
     "output_type": "execute_result"
    }
   ],
   "source": [
    "# only 1 init in each sort\n",
    "len(cv_df)"
   ]
  },
  {
   "cell_type": "code",
   "execution_count": 10,
   "metadata": {},
   "outputs": [],
   "source": [
    "# save the filterd DataFrame\n",
    "test.dump_table(cv_df, base_path, 'cv_table_v1_nohad')"
   ]
  },
  {
   "cell_type": "code",
   "execution_count": 11,
   "metadata": {},
   "outputs": [
    {
     "data": {
      "text/html": "<div>\n<style scoped>\n    .dataframe tbody tr th:only-of-type {\n        vertical-align: middle;\n    }\n\n    .dataframe tbody tr th {\n        vertical-align: top;\n    }\n\n    .dataframe thead th {\n        text-align: right;\n    }\n</style>\n<table border=\"1\" class=\"dataframe\">\n  <thead>\n    <tr style=\"text-align: right;\">\n      <th></th>\n      <th>train_tag</th>\n      <th>et_bin</th>\n      <th>eta_bin</th>\n      <th>model_idx</th>\n      <th>sort</th>\n      <th>init</th>\n      <th>file_name</th>\n      <th>total_sgn</th>\n      <th>total_bkg</th>\n      <th>max_sp_val</th>\n      <th>max_sp_pd_val</th>\n      <th>max_sp_fa_val</th>\n      <th>auc_val</th>\n      <th>max_sp_op</th>\n      <th>max_sp_pd_op</th>\n      <th>max_sp_fa_op</th>\n      <th>auc_op</th>\n    </tr>\n  </thead>\n  <tbody>\n    <tr>\n      <th>50158</th>\n      <td>v1_nohad</td>\n      <td>0</td>\n      <td>0</td>\n      <td>0</td>\n      <td>0</td>\n      <td>8</td>\n      <td>tunedDiscr.jobID_0000.pic.gz</td>\n      <td>28455</td>\n      <td>205005</td>\n      <td>0.941784</td>\n      <td>0.968377</td>\n      <td>0.084439</td>\n      <td>0.978992</td>\n      <td>0.938199</td>\n      <td>0.956247</td>\n      <td>0.079676</td>\n      <td>0.978314</td>\n    </tr>\n    <tr>\n      <th>51673</th>\n      <td>v1_nohad</td>\n      <td>0</td>\n      <td>0</td>\n      <td>0</td>\n      <td>1</td>\n      <td>43</td>\n      <td>tunedDiscr.jobID_0004.pic.gz</td>\n      <td>28455</td>\n      <td>205005</td>\n      <td>0.938560</td>\n      <td>0.960295</td>\n      <td>0.082927</td>\n      <td>0.976318</td>\n      <td>0.937698</td>\n      <td>0.956001</td>\n      <td>0.080427</td>\n      <td>0.978230</td>\n    </tr>\n    <tr>\n      <th>50693</th>\n      <td>v1_nohad</td>\n      <td>0</td>\n      <td>0</td>\n      <td>0</td>\n      <td>2</td>\n      <td>23</td>\n      <td>tunedDiscr.jobID_0002.pic.gz</td>\n      <td>28455</td>\n      <td>205005</td>\n      <td>0.934502</td>\n      <td>0.941321</td>\n      <td>0.072293</td>\n      <td>0.975314</td>\n      <td>0.937448</td>\n      <td>0.954630</td>\n      <td>0.079579</td>\n      <td>0.977537</td>\n    </tr>\n    <tr>\n      <th>50718</th>\n      <td>v1_nohad</td>\n      <td>0</td>\n      <td>0</td>\n      <td>0</td>\n      <td>3</td>\n      <td>28</td>\n      <td>tunedDiscr.jobID_0002.pic.gz</td>\n      <td>28455</td>\n      <td>205005</td>\n      <td>0.937192</td>\n      <td>0.956781</td>\n      <td>0.082195</td>\n      <td>0.978030</td>\n      <td>0.937805</td>\n      <td>0.957301</td>\n      <td>0.081491</td>\n      <td>0.978082</td>\n    </tr>\n    <tr>\n      <th>50730</th>\n      <td>v1_nohad</td>\n      <td>0</td>\n      <td>0</td>\n      <td>0</td>\n      <td>4</td>\n      <td>20</td>\n      <td>tunedDiscr.jobID_0002.pic.gz</td>\n      <td>28455</td>\n      <td>205005</td>\n      <td>0.938182</td>\n      <td>0.957836</td>\n      <td>0.081268</td>\n      <td>0.976505</td>\n      <td>0.938043</td>\n      <td>0.954490</td>\n      <td>0.078262</td>\n      <td>0.978116</td>\n    </tr>\n  </tbody>\n</table>\n</div>",
      "text/plain": "      train_tag  et_bin  eta_bin  model_idx  sort  init  \\\n50158  v1_nohad       0        0          0     0     8   \n51673  v1_nohad       0        0          0     1    43   \n50693  v1_nohad       0        0          0     2    23   \n50718  v1_nohad       0        0          0     3    28   \n50730  v1_nohad       0        0          0     4    20   \n\n                          file_name  total_sgn  total_bkg  max_sp_val  \\\n50158  tunedDiscr.jobID_0000.pic.gz      28455     205005    0.941784   \n51673  tunedDiscr.jobID_0004.pic.gz      28455     205005    0.938560   \n50693  tunedDiscr.jobID_0002.pic.gz      28455     205005    0.934502   \n50718  tunedDiscr.jobID_0002.pic.gz      28455     205005    0.937192   \n50730  tunedDiscr.jobID_0002.pic.gz      28455     205005    0.938182   \n\n       max_sp_pd_val  max_sp_fa_val   auc_val  max_sp_op  max_sp_pd_op  \\\n50158       0.968377       0.084439  0.978992   0.938199      0.956247   \n51673       0.960295       0.082927  0.976318   0.937698      0.956001   \n50693       0.941321       0.072293  0.975314   0.937448      0.954630   \n50718       0.956781       0.082195  0.978030   0.937805      0.957301   \n50730       0.957836       0.081268  0.976505   0.938043      0.954490   \n\n       max_sp_fa_op    auc_op  \n50158      0.079676  0.978314  \n51673      0.080427  0.978230  \n50693      0.079579  0.977537  \n50718      0.081491  0.978082  \n50730      0.078262  0.978116  "
     },
     "execution_count": 11,
     "metadata": {},
     "output_type": "execute_result"
    }
   ],
   "source": [
    "cv_df.head()"
   ]
  },
  {
   "cell_type": "code",
   "execution_count": 12,
   "metadata": {},
   "outputs": [],
   "source": [
    "# save all the train evolution into json files\n",
    "task_p = '/volume/v1_task_nohad/user.mverissi.task_nohad.data17_13TeV.AllPeriods.sgn.probes_lhmedium_EGAM2.bkg.VProbes_EGAM7.GRL_v97_et%i_eta%i.v1'\n",
    "dump_all_train_history(cplot_monitoring()v_df, task_p, output_path)"
   ]
  }
 ]
}