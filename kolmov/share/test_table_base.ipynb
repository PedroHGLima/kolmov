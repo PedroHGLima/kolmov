{
 "nbformat": 4,
 "nbformat_minor": 2,
 "metadata": {
  "language_info": {
   "name": "python",
   "codemirror_mode": {
    "name": "ipython",
    "version": 3
   },
   "version": "3.6.9-final"
  },
  "orig_nbformat": 2,
  "file_extension": ".py",
  "mimetype": "text/x-python",
  "name": "python",
  "npconvert_exporter": "python",
  "pygments_lexer": "ipython3",
  "version": 3,
  "kernelspec": {
   "name": "python36964bitd06d1d2c752e4288b8adfabf4c02ca24",
   "display_name": "Python 3.6.9 64-bit"
  }
 },
 "cells": [
  {
   "cell_type": "code",
   "execution_count": 1,
   "metadata": {},
   "outputs": [
    {
     "name": "stdout",
     "output_type": "stream",
     "text": "WARNING: ROOT not found. You will not be able to use the TEventLoop services provied by the gaugi core.\n"
    }
   ],
   "source": [
    "import os\n",
    "import re\n",
    "import sys\n",
    "import glob\n",
    "\n",
    "import numpy as np\n",
    "import pandas as pd\n",
    "\n",
    "import matplotlib.pyplot as plt\n",
    "import seaborn as sns\n",
    "\n",
    "# add gaugi by hand\n",
    "sys.path.append('../../.__python__/')\n",
    "from Gaugi import load as gload\n",
    "from kolmov import table_info, dump_all_train_history, dump_train_history"
   ]
  },
  {
   "cell_type": "code",
   "execution_count": 2,
   "metadata": {},
   "outputs": [],
   "source": [
    "base_path   = '/volume/'\n",
    "output_path = os.path.join(base_path, 'models_history')\n",
    "task_name   = 'v1_task/user.mverissi.task.data17_13TeV.AllPeriods.sgn.probes_lhmedium_EGAM2.bkg.VProbes_EGAM7.GRL_v97_*/*'\n",
    "task_full_name = os.path.join(base_path, task_name)"
   ]
  },
  {
   "cell_type": "code",
   "execution_count": 3,
   "metadata": {},
   "outputs": [
    {
     "name": "stdout",
     "output_type": "stream",
     "text": "/volume/models_history\n/volume/v1_task/user.mverissi.task.data17_13TeV.AllPeriods.sgn.probes_lhmedium_EGAM2.bkg.VProbes_EGAM7.GRL_v97_*/*\n"
    }
   ],
   "source": [
    "# check the paths\n",
    "print(output_path)\n",
    "print(task_full_name)"
   ]
  },
  {
   "cell_type": "code",
   "execution_count": 4,
   "metadata": {},
   "outputs": [],
   "source": [
    "# wanted information\n",
    "tuned_info = {\n",
    "    # validation\n",
    "    'max_sp_val'     : [],\n",
    "    'max_sp_pd_val'  : [],\n",
    "    'max_sp_fa_val'  : [],\n",
    "    'auc_val'        : [],\n",
    "    # operation\n",
    "    'max_sp_op'     : [],\n",
    "    'max_sp_pd_op'  : [],\n",
    "    'max_sp_fa_op'  : [],\n",
    "    'auc_op'        : [],\n",
    "}"
   ]
  },
  {
   "cell_type": "code",
   "execution_count": 5,
   "metadata": {},
   "outputs": [
    {
     "name": "stdout",
     "output_type": "stream",
     "text": "There are 900 files for this task...\n"
    }
   ],
   "source": [
    "# init the table_info\n",
    "test = table_info(task_full_name, tuned_info, tag='v1')"
   ]
  },
  {
   "cell_type": "code",
   "execution_count": 6,
   "metadata": {},
   "outputs": [
    {
     "name": "stdout",
     "output_type": "stream",
     "text": "Filling the table... \nEnd of fill step, a pandas DataFrame was created...\n"
    }
   ],
   "source": [
    "# fill table\n",
    "test.fill_table()"
   ]
  },
  {
   "cell_type": "code",
   "execution_count": 7,
   "metadata": {},
   "outputs": [
    {
     "data": {
      "text/html": "<div>\n<style scoped>\n    .dataframe tbody tr th:only-of-type {\n        vertical-align: middle;\n    }\n\n    .dataframe tbody tr th {\n        vertical-align: top;\n    }\n\n    .dataframe thead th {\n        text-align: right;\n    }\n</style>\n<table border=\"1\" class=\"dataframe\">\n  <thead>\n    <tr style=\"text-align: right;\">\n      <th></th>\n      <th>train_tag</th>\n      <th>et_bin</th>\n      <th>eta_bin</th>\n      <th>model_idx</th>\n      <th>sort</th>\n      <th>init</th>\n      <th>file_name</th>\n      <th>total_sgn</th>\n      <th>total_bkg</th>\n      <th>max_sp_val</th>\n      <th>max_sp_pd_val</th>\n      <th>max_sp_fa_val</th>\n      <th>auc_val</th>\n      <th>max_sp_op</th>\n      <th>max_sp_pd_op</th>\n      <th>max_sp_fa_op</th>\n      <th>auc_op</th>\n    </tr>\n  </thead>\n  <tbody>\n    <tr>\n      <th>0</th>\n      <td>v1</td>\n      <td>1</td>\n      <td>3</td>\n      <td>6</td>\n      <td>0</td>\n      <td>20</td>\n      <td>tunedDiscr.jobID_0032.pic.gz</td>\n      <td>3865</td>\n      <td>127374</td>\n      <td>0.943616</td>\n      <td>0.966408</td>\n      <td>0.078904</td>\n      <td>0.978488</td>\n      <td>0.933115</td>\n      <td>0.951617</td>\n      <td>0.085206</td>\n      <td>0.976171</td>\n    </tr>\n    <tr>\n      <th>1</th>\n      <td>v1</td>\n      <td>1</td>\n      <td>3</td>\n      <td>6</td>\n      <td>0</td>\n      <td>21</td>\n      <td>tunedDiscr.jobID_0032.pic.gz</td>\n      <td>3865</td>\n      <td>127374</td>\n      <td>0.948248</td>\n      <td>0.958656</td>\n      <td>0.062103</td>\n      <td>0.981451</td>\n      <td>0.936456</td>\n      <td>0.954722</td>\n      <td>0.081634</td>\n      <td>0.977518</td>\n    </tr>\n    <tr>\n      <th>2</th>\n      <td>v1</td>\n      <td>1</td>\n      <td>3</td>\n      <td>6</td>\n      <td>0</td>\n      <td>22</td>\n      <td>tunedDiscr.jobID_0032.pic.gz</td>\n      <td>3865</td>\n      <td>127374</td>\n      <td>0.944415</td>\n      <td>0.968992</td>\n      <td>0.079846</td>\n      <td>0.979050</td>\n      <td>0.931503</td>\n      <td>0.947995</td>\n      <td>0.084845</td>\n      <td>0.976395</td>\n    </tr>\n    <tr>\n      <th>3</th>\n      <td>v1</td>\n      <td>1</td>\n      <td>3</td>\n      <td>6</td>\n      <td>0</td>\n      <td>23</td>\n      <td>tunedDiscr.jobID_0032.pic.gz</td>\n      <td>3865</td>\n      <td>127374</td>\n      <td>0.947715</td>\n      <td>0.961240</td>\n      <td>0.065714</td>\n      <td>0.981181</td>\n      <td>0.936472</td>\n      <td>0.939974</td>\n      <td>0.067023</td>\n      <td>0.977513</td>\n    </tr>\n    <tr>\n      <th>4</th>\n      <td>v1</td>\n      <td>1</td>\n      <td>3</td>\n      <td>6</td>\n      <td>0</td>\n      <td>24</td>\n      <td>tunedDiscr.jobID_0032.pic.gz</td>\n      <td>3865</td>\n      <td>127374</td>\n      <td>0.946107</td>\n      <td>0.963824</td>\n      <td>0.071445</td>\n      <td>0.979317</td>\n      <td>0.931630</td>\n      <td>0.948771</td>\n      <td>0.085355</td>\n      <td>0.976554</td>\n    </tr>\n  </tbody>\n</table>\n</div>",
      "text/plain": "  train_tag  et_bin  eta_bin  model_idx  sort  init  \\\n0        v1       1        3          6     0    20   \n1        v1       1        3          6     0    21   \n2        v1       1        3          6     0    22   \n3        v1       1        3          6     0    23   \n4        v1       1        3          6     0    24   \n\n                      file_name  total_sgn  total_bkg  max_sp_val  \\\n0  tunedDiscr.jobID_0032.pic.gz       3865     127374    0.943616   \n1  tunedDiscr.jobID_0032.pic.gz       3865     127374    0.948248   \n2  tunedDiscr.jobID_0032.pic.gz       3865     127374    0.944415   \n3  tunedDiscr.jobID_0032.pic.gz       3865     127374    0.947715   \n4  tunedDiscr.jobID_0032.pic.gz       3865     127374    0.946107   \n\n   max_sp_pd_val  max_sp_fa_val   auc_val  max_sp_op  max_sp_pd_op  \\\n0       0.966408       0.078904  0.978488   0.933115      0.951617   \n1       0.958656       0.062103  0.981451   0.936456      0.954722   \n2       0.968992       0.079846  0.979050   0.931503      0.947995   \n3       0.961240       0.065714  0.981181   0.936472      0.939974   \n4       0.963824       0.071445  0.979317   0.931630      0.948771   \n\n   max_sp_fa_op    auc_op  \n0      0.085206  0.976171  \n1      0.081634  0.977518  \n2      0.084845  0.976395  \n3      0.067023  0.977513  \n4      0.085355  0.976554  "
     },
     "execution_count": 7,
     "metadata": {},
     "output_type": "execute_result"
    }
   ],
   "source": [
    "cv_df = test.get_pandas_table()\n",
    "cv_df.head()"
   ]
  },
  {
   "cell_type": "code",
   "execution_count": 8,
   "metadata": {},
   "outputs": [],
   "source": [
    "# filter the DataFrame in order to get only 1 init.\n",
    "# ordened by max_sp_val\n",
    "cv_df = test.filter_inits('max_sp_val')"
   ]
  },
  {
   "cell_type": "code",
   "execution_count": 9,
   "metadata": {},
   "outputs": [
    {
     "data": {
      "text/plain": "1650"
     },
     "execution_count": 9,
     "metadata": {},
     "output_type": "execute_result"
    }
   ],
   "source": [
    "# only 1 init in each sort\n",
    "len(cv_df)"
   ]
  },
  {
   "cell_type": "code",
   "execution_count": 10,
   "metadata": {},
   "outputs": [],
   "source": [
    "# save the filterd DataFrame\n",
    "test.dump_table(cv_df, base_path, 'cv_table_v1')"
   ]
  },
  {
   "cell_type": "code",
   "execution_count": 11,
   "metadata": {},
   "outputs": [
    {
     "data": {
      "text/html": "<div>\n<style scoped>\n    .dataframe tbody tr th:only-of-type {\n        vertical-align: middle;\n    }\n\n    .dataframe tbody tr th {\n        vertical-align: top;\n    }\n\n    .dataframe thead th {\n        text-align: right;\n    }\n</style>\n<table border=\"1\" class=\"dataframe\">\n  <thead>\n    <tr style=\"text-align: right;\">\n      <th></th>\n      <th>train_tag</th>\n      <th>et_bin</th>\n      <th>eta_bin</th>\n      <th>model_idx</th>\n      <th>sort</th>\n      <th>init</th>\n      <th>file_name</th>\n      <th>total_sgn</th>\n      <th>total_bkg</th>\n      <th>max_sp_val</th>\n      <th>max_sp_pd_val</th>\n      <th>max_sp_fa_val</th>\n      <th>auc_val</th>\n      <th>max_sp_op</th>\n      <th>max_sp_pd_op</th>\n      <th>max_sp_fa_op</th>\n      <th>auc_op</th>\n    </tr>\n  </thead>\n  <tbody>\n    <tr>\n      <th>24156</th>\n      <td>v1</td>\n      <td>0</td>\n      <td>0</td>\n      <td>0</td>\n      <td>0</td>\n      <td>46</td>\n      <td>tunedDiscr.jobID_0004.pic.gz</td>\n      <td>28455</td>\n      <td>205005</td>\n      <td>0.949406</td>\n      <td>0.963106</td>\n      <td>0.064195</td>\n      <td>0.982747</td>\n      <td>0.947130</td>\n      <td>0.959761</td>\n      <td>0.065418</td>\n      <td>0.982995</td>\n    </tr>\n    <tr>\n      <th>23175</th>\n      <td>v1</td>\n      <td>0</td>\n      <td>0</td>\n      <td>0</td>\n      <td>1</td>\n      <td>25</td>\n      <td>tunedDiscr.jobID_0002.pic.gz</td>\n      <td>28455</td>\n      <td>205005</td>\n      <td>0.947411</td>\n      <td>0.962403</td>\n      <td>0.067463</td>\n      <td>0.981599</td>\n      <td>0.946596</td>\n      <td>0.957442</td>\n      <td>0.064189</td>\n      <td>0.982611</td>\n    </tr>\n    <tr>\n      <th>23194</th>\n      <td>v1</td>\n      <td>0</td>\n      <td>0</td>\n      <td>0</td>\n      <td>2</td>\n      <td>24</td>\n      <td>tunedDiscr.jobID_0002.pic.gz</td>\n      <td>28455</td>\n      <td>205005</td>\n      <td>0.942160</td>\n      <td>0.945889</td>\n      <td>0.061561</td>\n      <td>0.980855</td>\n      <td>0.944615</td>\n      <td>0.958426</td>\n      <td>0.069096</td>\n      <td>0.982112</td>\n    </tr>\n    <tr>\n      <th>22719</th>\n      <td>v1</td>\n      <td>0</td>\n      <td>0</td>\n      <td>0</td>\n      <td>3</td>\n      <td>9</td>\n      <td>tunedDiscr.jobID_0000.pic.gz</td>\n      <td>28455</td>\n      <td>205005</td>\n      <td>0.946431</td>\n      <td>0.963106</td>\n      <td>0.070098</td>\n      <td>0.982423</td>\n      <td>0.946478</td>\n      <td>0.962643</td>\n      <td>0.069550</td>\n      <td>0.983515</td>\n    </tr>\n    <tr>\n      <th>26337</th>\n      <td>v1</td>\n      <td>0</td>\n      <td>0</td>\n      <td>0</td>\n      <td>4</td>\n      <td>37</td>\n      <td>tunedDiscr.jobID_0003.pic.gz</td>\n      <td>28455</td>\n      <td>205005</td>\n      <td>0.946725</td>\n      <td>0.962755</td>\n      <td>0.069171</td>\n      <td>0.981539</td>\n      <td>0.946067</td>\n      <td>0.961272</td>\n      <td>0.069018</td>\n      <td>0.983181</td>\n    </tr>\n  </tbody>\n</table>\n</div>",
      "text/plain": "      train_tag  et_bin  eta_bin  model_idx  sort  init  \\\n24156        v1       0        0          0     0    46   \n23175        v1       0        0          0     1    25   \n23194        v1       0        0          0     2    24   \n22719        v1       0        0          0     3     9   \n26337        v1       0        0          0     4    37   \n\n                          file_name  total_sgn  total_bkg  max_sp_val  \\\n24156  tunedDiscr.jobID_0004.pic.gz      28455     205005    0.949406   \n23175  tunedDiscr.jobID_0002.pic.gz      28455     205005    0.947411   \n23194  tunedDiscr.jobID_0002.pic.gz      28455     205005    0.942160   \n22719  tunedDiscr.jobID_0000.pic.gz      28455     205005    0.946431   \n26337  tunedDiscr.jobID_0003.pic.gz      28455     205005    0.946725   \n\n       max_sp_pd_val  max_sp_fa_val   auc_val  max_sp_op  max_sp_pd_op  \\\n24156       0.963106       0.064195  0.982747   0.947130      0.959761   \n23175       0.962403       0.067463  0.981599   0.946596      0.957442   \n23194       0.945889       0.061561  0.980855   0.944615      0.958426   \n22719       0.963106       0.070098  0.982423   0.946478      0.962643   \n26337       0.962755       0.069171  0.981539   0.946067      0.961272   \n\n       max_sp_fa_op    auc_op  \n24156      0.065418  0.982995  \n23175      0.064189  0.982611  \n23194      0.069096  0.982112  \n22719      0.069550  0.983515  \n26337      0.069018  0.983181  "
     },
     "execution_count": 11,
     "metadata": {},
     "output_type": "execute_result"
    }
   ],
   "source": [
    "cv_df.head()"
   ]
  },
  {
   "cell_type": "code",
   "execution_count": 15,
   "metadata": {},
   "outputs": [],
   "source": [
    "# save all the train evolution into json files\n",
    "task_p = '/volume/v1_task/user.mverissi.task.data17_13TeV.AllPeriods.sgn.probes_lhmedium_EGAM2.bkg.VProbes_EGAM7.GRL_v97_et%i_eta%i.v1'\n",
    "dump_all_train_history(cv_df, task_p, output_path)"
   ]
  }
 ]
}