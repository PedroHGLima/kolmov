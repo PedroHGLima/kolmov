{
 "nbformat": 4,
 "nbformat_minor": 2,
 "metadata": {
  "language_info": {
   "name": "python",
   "codemirror_mode": {
    "name": "ipython",
    "version": 3
   },
   "version": "3.6.9-final"
  },
  "orig_nbformat": 2,
  "file_extension": ".py",
  "mimetype": "text/x-python",
  "name": "python",
  "npconvert_exporter": "python",
  "pygments_lexer": "ipython3",
  "version": 3,
  "kernelspec": {
   "name": "python36964bitec177193e4e846ce85ce73582ff33a5e",
   "display_name": "Python 3.6.9 64-bit"
  }
 },
 "cells": [
  {
   "cell_type": "code",
   "execution_count": 13,
   "metadata": {},
   "outputs": [],
   "source": [
    "import os\n",
    "import re\n",
    "import sys\n",
    "import glob\n",
    "\n",
    "import numpy as np\n",
    "import pandas as pd\n",
    "\n",
    "import matplotlib.pyplot as plt\n",
    "import seaborn as sns\n",
    "\n",
    "from Gaugi import load as gload\n",
    "\n",
    "# add gaugi by hand\n",
    "sys.path.append('../../.__python__/')\n",
    "from kolmov import table_info, dump_all_train_history, dump_train_history"
   ]
  },
  {
   "cell_type": "code",
   "execution_count": 14,
   "metadata": {},
   "outputs": [],
   "source": [
    "base_path   = '/volume/'\n",
    "output_path = os.path.join(base_path, 'models_history_v1_nohad')\n",
    "#task_name   = 'v1_task/user.mverissi.task.data17_13TeV.AllPeriods.sgn.probes_lhmedium_EGAM2.bkg.VProbes_EGAM7.GRL_v97_*/*'\n",
    "task_name   = 'v1_task_nohad/user.mverissi.task_nohad.data17_13TeV.AllPeriods.sgn.probes_lhmedium_EGAM2.bkg.VProbes_EGAM7.GRL_v97_*/*'\n",
    "\n",
    "task_full_name = os.path.join(base_path, task_name)"
   ]
  },
  {
   "cell_type": "code",
   "execution_count": 15,
   "metadata": {},
   "outputs": [
    {
     "name": "stdout",
     "output_type": "stream",
     "text": "/volume/models_history_v1_nohad\n/volume/v1_task_nohad/user.mverissi.task_nohad.data17_13TeV.AllPeriods.sgn.probes_lhmedium_EGAM2.bkg.VProbes_EGAM7.GRL_v97_*/*\n"
    }
   ],
   "source": [
    "# check the paths\n",
    "print(output_path)\n",
    "print(task_full_name)"
   ]
  },
  {
   "cell_type": "code",
   "execution_count": 16,
   "metadata": {},
   "outputs": [],
   "source": [
    "# wanted information\n",
    "tuned_info = {\n",
    "    # validation\n",
    "    'max_sp_val'     : [],\n",
    "    'max_sp_pd_val'  : [],\n",
    "    'max_sp_fa_val'  : [],\n",
    "    'auc_val'        : [],\n",
    "    # operation\n",
    "    'max_sp_op'     : [],\n",
    "    'max_sp_pd_op'  : [],\n",
    "    'max_sp_fa_op'  : [],\n",
    "    'auc_op'        : [],\n",
    "}"
   ]
  },
  {
   "cell_type": "code",
   "execution_count": 18,
   "metadata": {},
   "outputs": [
    {
     "name": "stdout",
     "output_type": "stream",
     "text": "There are 900 files for this task...\n"
    }
   ],
   "source": [
    "# init the table_info\n",
    "test = table_info(task_full_name, tuned_info, tag='v1_nohad')"
   ]
  },
  {
   "cell_type": "code",
   "execution_count": 19,
   "metadata": {},
   "outputs": [
    {
     "name": "stdout",
     "output_type": "stream",
     "text": "Filling the table... \nEnd of fill step, a pandas DataFrame was created...\n"
    }
   ],
   "source": [
    "# fill table\n",
    "test.fill_table()"
   ]
  },
  {
   "cell_type": "code",
   "execution_count": 20,
   "metadata": {},
   "outputs": [
    {
     "data": {
      "text/html": "<div>\n<style scoped>\n    .dataframe tbody tr th:only-of-type {\n        vertical-align: middle;\n    }\n\n    .dataframe tbody tr th {\n        vertical-align: top;\n    }\n\n    .dataframe thead th {\n        text-align: right;\n    }\n</style>\n<table border=\"1\" class=\"dataframe\">\n  <thead>\n    <tr style=\"text-align: right;\">\n      <th></th>\n      <th>train_tag</th>\n      <th>et_bin</th>\n      <th>eta_bin</th>\n      <th>model_idx</th>\n      <th>sort</th>\n      <th>init</th>\n      <th>file_name</th>\n      <th>total_sgn</th>\n      <th>total_bkg</th>\n      <th>max_sp_val</th>\n      <th>max_sp_pd_val</th>\n      <th>max_sp_fa_val</th>\n      <th>auc_val</th>\n      <th>max_sp_op</th>\n      <th>max_sp_pd_op</th>\n      <th>max_sp_fa_op</th>\n      <th>auc_op</th>\n    </tr>\n  </thead>\n  <tbody>\n    <tr>\n      <th>0</th>\n      <td>v1_nohad</td>\n      <td>2</td>\n      <td>3</td>\n      <td>8</td>\n      <td>0</td>\n      <td>40</td>\n      <td>tunedDiscr.jobID_0044.pic.gz</td>\n      <td>3614</td>\n      <td>250734</td>\n      <td>0.953816</td>\n      <td>0.983425</td>\n      <td>0.075340</td>\n      <td>0.984372</td>\n      <td>0.944448</td>\n      <td>0.959325</td>\n      <td>0.070314</td>\n      <td>0.979096</td>\n    </tr>\n    <tr>\n      <th>1</th>\n      <td>v1_nohad</td>\n      <td>2</td>\n      <td>3</td>\n      <td>8</td>\n      <td>0</td>\n      <td>41</td>\n      <td>tunedDiscr.jobID_0044.pic.gz</td>\n      <td>3614</td>\n      <td>250734</td>\n      <td>0.955034</td>\n      <td>0.977901</td>\n      <td>0.067563</td>\n      <td>0.982657</td>\n      <td>0.944888</td>\n      <td>0.953791</td>\n      <td>0.063972</td>\n      <td>0.977564</td>\n    </tr>\n    <tr>\n      <th>2</th>\n      <td>v1_nohad</td>\n      <td>2</td>\n      <td>3</td>\n      <td>8</td>\n      <td>0</td>\n      <td>42</td>\n      <td>tunedDiscr.jobID_0044.pic.gz</td>\n      <td>3614</td>\n      <td>250734</td>\n      <td>0.953634</td>\n      <td>0.983425</td>\n      <td>0.075699</td>\n      <td>0.983870</td>\n      <td>0.944224</td>\n      <td>0.959325</td>\n      <td>0.070756</td>\n      <td>0.978270</td>\n    </tr>\n    <tr>\n      <th>3</th>\n      <td>v1_nohad</td>\n      <td>2</td>\n      <td>3</td>\n      <td>8</td>\n      <td>0</td>\n      <td>43</td>\n      <td>tunedDiscr.jobID_0044.pic.gz</td>\n      <td>3614</td>\n      <td>250734</td>\n      <td>0.953548</td>\n      <td>0.980663</td>\n      <td>0.073186</td>\n      <td>0.981857</td>\n      <td>0.943464</td>\n      <td>0.960985</td>\n      <td>0.073895</td>\n      <td>0.976147</td>\n    </tr>\n    <tr>\n      <th>4</th>\n      <td>v1_nohad</td>\n      <td>2</td>\n      <td>3</td>\n      <td>8</td>\n      <td>0</td>\n      <td>44</td>\n      <td>tunedDiscr.jobID_0044.pic.gz</td>\n      <td>3614</td>\n      <td>250734</td>\n      <td>0.953002</td>\n      <td>0.980663</td>\n      <td>0.074263</td>\n      <td>0.983747</td>\n      <td>0.943320</td>\n      <td>0.958495</td>\n      <td>0.071733</td>\n      <td>0.978233</td>\n    </tr>\n  </tbody>\n</table>\n</div>",
      "text/plain": "  train_tag  et_bin  eta_bin  model_idx  sort  init  \\\n0  v1_nohad       2        3          8     0    40   \n1  v1_nohad       2        3          8     0    41   \n2  v1_nohad       2        3          8     0    42   \n3  v1_nohad       2        3          8     0    43   \n4  v1_nohad       2        3          8     0    44   \n\n                      file_name  total_sgn  total_bkg  max_sp_val  \\\n0  tunedDiscr.jobID_0044.pic.gz       3614     250734    0.953816   \n1  tunedDiscr.jobID_0044.pic.gz       3614     250734    0.955034   \n2  tunedDiscr.jobID_0044.pic.gz       3614     250734    0.953634   \n3  tunedDiscr.jobID_0044.pic.gz       3614     250734    0.953548   \n4  tunedDiscr.jobID_0044.pic.gz       3614     250734    0.953002   \n\n   max_sp_pd_val  max_sp_fa_val   auc_val  max_sp_op  max_sp_pd_op  \\\n0       0.983425       0.075340  0.984372   0.944448      0.959325   \n1       0.977901       0.067563  0.982657   0.944888      0.953791   \n2       0.983425       0.075699  0.983870   0.944224      0.959325   \n3       0.980663       0.073186  0.981857   0.943464      0.960985   \n4       0.980663       0.074263  0.983747   0.943320      0.958495   \n\n   max_sp_fa_op    auc_op  \n0      0.070314  0.979096  \n1      0.063972  0.977564  \n2      0.070756  0.978270  \n3      0.073895  0.976147  \n4      0.071733  0.978233  "
     },
     "execution_count": 20,
     "metadata": {},
     "output_type": "execute_result"
    }
   ],
   "source": [
    "cv_df = test.get_pandas_table()\n",
    "cv_df.head()"
   ]
  },
  {
   "cell_type": "code",
   "execution_count": 21,
   "metadata": {},
   "outputs": [],
   "source": [
    "# filter the DataFrame in order to get only 1 init.\n",
    "# ordened by max_sp_val\n",
    "cv_df = test.filter_inits('max_sp_val')"
   ]
  },
  {
   "cell_type": "code",
   "execution_count": 22,
   "metadata": {},
   "outputs": [
    {
     "data": {
      "text/plain": "1650"
     },
     "execution_count": 22,
     "metadata": {},
     "output_type": "execute_result"
    }
   ],
   "source": [
    "# only 1 init in each sort\n",
    "len(cv_df)"
   ]
  },
  {
   "cell_type": "code",
   "execution_count": 23,
   "metadata": {},
   "outputs": [],
   "source": [
    "# save the filterd DataFrame\n",
    "test.dump_table(cv_df, base_path, 'cv_table_v1_nohad')"
   ]
  },
  {
   "cell_type": "code",
   "execution_count": 24,
   "metadata": {},
   "outputs": [
    {
     "data": {
      "text/html": "<div>\n<style scoped>\n    .dataframe tbody tr th:only-of-type {\n        vertical-align: middle;\n    }\n\n    .dataframe tbody tr th {\n        vertical-align: top;\n    }\n\n    .dataframe thead th {\n        text-align: right;\n    }\n</style>\n<table border=\"1\" class=\"dataframe\">\n  <thead>\n    <tr style=\"text-align: right;\">\n      <th></th>\n      <th>train_tag</th>\n      <th>et_bin</th>\n      <th>eta_bin</th>\n      <th>model_idx</th>\n      <th>sort</th>\n      <th>init</th>\n      <th>file_name</th>\n      <th>total_sgn</th>\n      <th>total_bkg</th>\n      <th>max_sp_val</th>\n      <th>max_sp_pd_val</th>\n      <th>max_sp_fa_val</th>\n      <th>auc_val</th>\n      <th>max_sp_op</th>\n      <th>max_sp_pd_op</th>\n      <th>max_sp_fa_op</th>\n      <th>auc_op</th>\n    </tr>\n  </thead>\n  <tbody>\n    <tr>\n      <th>9008</th>\n      <td>v1_nohad</td>\n      <td>0</td>\n      <td>0</td>\n      <td>0</td>\n      <td>0</td>\n      <td>8</td>\n      <td>tunedDiscr.jobID_0000.pic.gz</td>\n      <td>28455</td>\n      <td>205005</td>\n      <td>0.941784</td>\n      <td>0.968377</td>\n      <td>0.084439</td>\n      <td>0.978992</td>\n      <td>0.938199</td>\n      <td>0.956247</td>\n      <td>0.079676</td>\n      <td>0.978314</td>\n    </tr>\n    <tr>\n      <th>8573</th>\n      <td>v1_nohad</td>\n      <td>0</td>\n      <td>0</td>\n      <td>0</td>\n      <td>1</td>\n      <td>43</td>\n      <td>tunedDiscr.jobID_0004.pic.gz</td>\n      <td>28455</td>\n      <td>205005</td>\n      <td>0.938560</td>\n      <td>0.960295</td>\n      <td>0.082927</td>\n      <td>0.976318</td>\n      <td>0.937698</td>\n      <td>0.956001</td>\n      <td>0.080427</td>\n      <td>0.978230</td>\n    </tr>\n    <tr>\n      <th>10843</th>\n      <td>v1_nohad</td>\n      <td>0</td>\n      <td>0</td>\n      <td>0</td>\n      <td>2</td>\n      <td>23</td>\n      <td>tunedDiscr.jobID_0002.pic.gz</td>\n      <td>28455</td>\n      <td>205005</td>\n      <td>0.934502</td>\n      <td>0.941321</td>\n      <td>0.072293</td>\n      <td>0.975314</td>\n      <td>0.937448</td>\n      <td>0.954630</td>\n      <td>0.079579</td>\n      <td>0.977537</td>\n    </tr>\n    <tr>\n      <th>10868</th>\n      <td>v1_nohad</td>\n      <td>0</td>\n      <td>0</td>\n      <td>0</td>\n      <td>3</td>\n      <td>28</td>\n      <td>tunedDiscr.jobID_0002.pic.gz</td>\n      <td>28455</td>\n      <td>205005</td>\n      <td>0.937192</td>\n      <td>0.956781</td>\n      <td>0.082195</td>\n      <td>0.978030</td>\n      <td>0.937805</td>\n      <td>0.957301</td>\n      <td>0.081491</td>\n      <td>0.978082</td>\n    </tr>\n    <tr>\n      <th>10880</th>\n      <td>v1_nohad</td>\n      <td>0</td>\n      <td>0</td>\n      <td>0</td>\n      <td>4</td>\n      <td>20</td>\n      <td>tunedDiscr.jobID_0002.pic.gz</td>\n      <td>28455</td>\n      <td>205005</td>\n      <td>0.938182</td>\n      <td>0.957836</td>\n      <td>0.081268</td>\n      <td>0.976505</td>\n      <td>0.938043</td>\n      <td>0.954490</td>\n      <td>0.078262</td>\n      <td>0.978116</td>\n    </tr>\n  </tbody>\n</table>\n</div>",
      "text/plain": "      train_tag  et_bin  eta_bin  model_idx  sort  init  \\\n9008   v1_nohad       0        0          0     0     8   \n8573   v1_nohad       0        0          0     1    43   \n10843  v1_nohad       0        0          0     2    23   \n10868  v1_nohad       0        0          0     3    28   \n10880  v1_nohad       0        0          0     4    20   \n\n                          file_name  total_sgn  total_bkg  max_sp_val  \\\n9008   tunedDiscr.jobID_0000.pic.gz      28455     205005    0.941784   \n8573   tunedDiscr.jobID_0004.pic.gz      28455     205005    0.938560   \n10843  tunedDiscr.jobID_0002.pic.gz      28455     205005    0.934502   \n10868  tunedDiscr.jobID_0002.pic.gz      28455     205005    0.937192   \n10880  tunedDiscr.jobID_0002.pic.gz      28455     205005    0.938182   \n\n       max_sp_pd_val  max_sp_fa_val   auc_val  max_sp_op  max_sp_pd_op  \\\n9008        0.968377       0.084439  0.978992   0.938199      0.956247   \n8573        0.960295       0.082927  0.976318   0.937698      0.956001   \n10843       0.941321       0.072293  0.975314   0.937448      0.954630   \n10868       0.956781       0.082195  0.978030   0.937805      0.957301   \n10880       0.957836       0.081268  0.976505   0.938043      0.954490   \n\n       max_sp_fa_op    auc_op  \n9008       0.079676  0.978314  \n8573       0.080427  0.978230  \n10843      0.079579  0.977537  \n10868      0.081491  0.978082  \n10880      0.078262  0.978116  "
     },
     "execution_count": 24,
     "metadata": {},
     "output_type": "execute_result"
    }
   ],
   "source": [
    "cv_df.head()"
   ]
  },
  {
   "cell_type": "code",
   "execution_count": 27,
   "metadata": {},
   "outputs": [],
   "source": [
    "# save all the train evolution into json files\n",
    "task_p = '/volume/v1_task_nohad/user.mverissi.task_nohad.data17_13TeV.AllPeriods.sgn.probes_lhmedium_EGAM2.bkg.VProbes_EGAM7.GRL_v97_et%i_eta%i.v1'\n",
    "dump_all_train_history(cv_df, task_p, output_path)"
   ]
  },
  {
   "cell_type": "code",
   "execution_count": null,
   "metadata": {},
   "outputs": [],
   "source": []
  }
 ]
}