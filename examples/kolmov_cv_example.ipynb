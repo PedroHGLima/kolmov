{
 "cells": [
  {
   "cell_type": "code",
   "execution_count": 1,
   "metadata": {
    "tags": []
   },
   "outputs": [
    {
     "output_type": "stream",
     "name": "stdout",
     "text": "Welcome to JupyROOT 6.16/00\nUsing all sub packages with ROOT dependence\n"
    }
   ],
   "source": [
    "import os\n",
    "import re\n",
    "import sys\n",
    "import glob\n",
    "import numpy as np\n",
    "import pandas as pd\n",
    "import matplotlib.pyplot as plt\n",
    "import seaborn as sns\n",
    "import collections\n",
    "\n",
    "from kolmov.core import ktable, kplot\n",
    "from kolmov.core.constants import str_etbins_jpsiee, str_etabins\n",
    "from itertools import product"
   ]
  },
  {
   "cell_type": "code",
   "execution_count": 2,
   "metadata": {},
   "outputs": [],
   "source": [
    "tuned_info = collections.OrderedDict( {\n",
    "              # validation\n",
    "              \"max_sp_val\"      : 'summary/max_sp_val',\n",
    "              \"max_sp_pd_val\"   : 'summary/max_sp_pd_val#0',\n",
    "              \"max_sp_fa_val\"   : 'summary/max_sp_fa_val#0',\n",
    "              # Operation\n",
    "              \"max_sp_op\"       : 'summary/max_sp_op',\n",
    "              \"max_sp_pd_op\"    : 'summary/max_sp_pd_op#0',\n",
    "              \"max_sp_fa_op\"    : 'summary/max_sp_fa_op#0',\n",
    "              # Tight\n",
    "              'tight_pd_ref'    : \"reference/tight_cutbased/pd_ref#0\",\n",
    "              'tight_fa_ref'    : \"reference/tight_cutbased/fa_ref#0\",\n",
    "              'tight_sp_ref'    : \"reference/tight_cutbased/sp_ref\",\n",
    "              'tight_pd_val'    : \"reference/tight_cutbased/pd_val#0\",\n",
    "              'tight_fa_val'    : \"reference/tight_cutbased/fa_val#0\",\n",
    "              'tight_sp_val'    : \"reference/tight_cutbased/sp_val\",\n",
    "              'tight_pd_op'     : \"reference/tight_cutbased/pd_op#0\",\n",
    "              'tight_fa_op'     : \"reference/tight_cutbased/fa_op#0\",\n",
    "              'tight_sp_op'     : \"reference/tight_cutbased/sp_op\",\n",
    "              # Medium\n",
    "              'medium_pd_ref'   : \"reference/medium_cutbased/pd_ref#0\",\n",
    "              'medium_fa_ref'   : \"reference/medium_cutbased/fa_ref#0\",\n",
    "              'medium_sp_ref'   : \"reference/medium_cutbased/sp_ref\",\n",
    "              'medium_pd_val'   : \"reference/medium_cutbased/pd_val#0\",\n",
    "              'medium_fa_val'   : \"reference/medium_cutbased/fa_val#0\",\n",
    "              'medium_sp_val'   : \"reference/medium_cutbased/sp_val\",\n",
    "              'medium_pd_op'    : \"reference/medium_cutbased/pd_op#0\",\n",
    "              'medium_fa_op'    : \"reference/medium_cutbased/fa_op#0\",\n",
    "              'medium_sp_op'    : \"reference/medium_cutbased/sp_op\",\n",
    "              # Loose\n",
    "              'loose_pd_ref'    : \"reference/loose_cutbased/pd_ref#0\",\n",
    "              'loose_fa_ref'    : \"reference/loose_cutbased/fa_ref#0\",\n",
    "              'loose_sp_ref'    : \"reference/loose_cutbased/sp_ref\",\n",
    "              'loose_pd_val'    : \"reference/loose_cutbased/pd_val#0\",\n",
    "              'loose_fa_val'    : \"reference/loose_cutbased/fa_val#0\",\n",
    "              'loose_sp_val'    : \"reference/loose_cutbased/sp_val\",\n",
    "              'loose_pd_op'     : \"reference/loose_cutbased/pd_op#0\",\n",
    "              'loose_fa_op'     : \"reference/loose_cutbased/fa_op#0\",\n",
    "              'loose_sp_op'     : \"reference/loose_cutbased/sp_op\",\n",
    "              # Very Loose\n",
    "              'vloose_pd_ref'   : \"reference/vloose_cutbased/pd_ref#0\",\n",
    "              'vloose_fa_ref'   : \"reference/vloose_cutbased/fa_ref#0\",\n",
    "              'vloose_sp_ref'   : \"reference/vloose_cutbased/sp_ref\",\n",
    "              'vloose_pd_val'   : \"reference/vloose_cutbased/pd_val#0\",\n",
    "              'vloose_fa_val'   : \"reference/vloose_cutbased/fa_val#0\",\n",
    "              'vloose_sp_val'   : \"reference/vloose_cutbased/sp_val\",\n",
    "              'vloose_pd_op'    : \"reference/vloose_cutbased/pd_op#0\",\n",
    "              'vloose_fa_op'    : \"reference/vloose_cutbased/fa_op#0\",\n",
    "              'vloose_sp_op'    : \"reference/vloose_cutbased/sp_op\",\n",
    "               # Counts\n",
    "              'tight_pd_ref_passed'    : \"reference/tight_cutbased/pd_ref#1\",\n",
    "              'tight_fa_ref_passed'    : \"reference/tight_cutbased/fa_ref#1\",\n",
    "              'tight_pd_ref_total'    : \"reference/tight_cutbased/pd_ref#2\",\n",
    "              'tight_fa_ref_total'    : \"reference/tight_cutbased/fa_ref#2\",\n",
    "              \n",
    "              'tight_pd_val_passed'    : \"reference/tight_cutbased/pd_val#1\",\n",
    "              'tight_fa_val_passed'    : \"reference/tight_cutbased/fa_val#1\",\n",
    "              'tight_pd_val_total'     : \"reference/tight_cutbased/pd_val#2\",\n",
    "              'tight_fa_val_total'     : \"reference/tight_cutbased/fa_val#2\",\n",
    "              \n",
    "              'tight_pd_op_passed'     : \"reference/tight_cutbased/pd_op#1\",\n",
    "              'tight_fa_op_passed'     : \"reference/tight_cutbased/fa_op#1\",\n",
    "              'tight_pd_op_total'     : \"reference/tight_cutbased/pd_op#2\",\n",
    "              'tight_fa_op_total'     : \"reference/tight_cutbased/fa_op#2\",\n",
    "\n",
    "              # operation thresholds\n",
    "              'tight_op_threshold'  : 'reference/tight_cutbased/threshold_op',\n",
    "              'medium_op_threshold' : 'reference/medium_cutbased/threshold_op',\n",
    "              'loose_op_threshold'  : 'reference/loose_cutbased/threshold_op',\n",
    "              'vloose_op_threshold' : 'reference/vloose_cutbased/threshold_op'\n",
    "              } )"
   ]
  },
  {
   "cell_type": "code",
   "execution_count": 3,
   "metadata": {
    "tags": []
   },
   "outputs": [
    {
     "output_type": "stream",
     "name": "stdout",
     "text": "Variables path defined \n base: /home/micael/Documents/NeuralRinger/jpsiee_data \n tunes: /home/micael/Documents/NeuralRinger/jpsiee_tunes \n analysis: /home/micael/Documents/NeuralRinger/jpsiee_analysis\n"
    }
   ],
   "source": [
    "base_path     = os.environ['DATA_PATH']\n",
    "tunes_path    = os.environ['TUNES_PATH']\n",
    "analysis_path = os.environ['ANALYSIS_PATH']\n",
    "print('Variables path defined \\n base: %s \\n tunes: %s \\n analysis: %s' %(base_path,\n",
    "                                                                          tunes_path,\n",
    "                                                                          analysis_path))"
   ]
  },
  {
   "cell_type": "code",
   "execution_count": 4,
   "metadata": {
    "tags": []
   },
   "outputs": [
    {
     "output_type": "stream",
     "name": "stdout",
     "text": "2020-08-06 20:21:47,030 | Py.ktable                               INFO Reading file for v1.data17 tag...\n2020-08-06 20:21:47,030 | Py.ktable                               INFO There are 1500 files for this task...\n2020-08-06 20:21:47,031 | Py.ktable                               INFO Filling the table... \n2020-08-06 20:21:52,605 | Py.ktable                               INFO End of fill step, a pandas DataFrame was created...\n"
    }
   ],
   "source": [
    "kt = ktable( tuned_info )\n",
    "\n",
    "kt.fill(os.path.join(tunes_path, 'data17_tuned_files')+'/*/*/*.pic.gz', 'v1.data17')\n"
   ]
  },
  {
   "cell_type": "code",
   "execution_count": 5,
   "metadata": {},
   "outputs": [
    {
     "output_type": "execute_result",
     "data": {
      "text/plain": "   train_tag  et_bin  eta_bin  model_idx  sort  init  \\\n0  v1.data17       0        0          5     3     3   \n1  v1.data17       0        0          6     3     3   \n2  v1.data17       0        0          7     3     3   \n3  v1.data17       0        0          8     3     3   \n4  v1.data17       0        0          5     1     2   \n\n                                           file_name  tuned_idx  max_sp_val  \\\n0  /home/micael/Documents/NeuralRinger/jpsiee_tun...          0    0.944513   \n1  /home/micael/Documents/NeuralRinger/jpsiee_tun...          1    0.944451   \n2  /home/micael/Documents/NeuralRinger/jpsiee_tun...          2    0.944726   \n3  /home/micael/Documents/NeuralRinger/jpsiee_tun...          3    0.945072   \n4  /home/micael/Documents/NeuralRinger/jpsiee_tun...          0    0.943787   \n\n   max_sp_pd_val  ...  tight_pd_val_total  tight_fa_val_total  \\\n0       0.963457  ...                2846               20500   \n1       0.967323  ...                2846               20500   \n2       0.961701  ...                2846               20500   \n3       0.969079  ...                2846               20500   \n4       0.953970  ...                2846               20500   \n\n   tight_pd_op_passed  tight_fa_op_passed  tight_pd_op_total  \\\n0               27987               24750              28455   \n1               27987               24702              28455   \n2               27987               24688              28455   \n3               27987               24922              28455   \n4               27987               25457              28455   \n\n   tight_fa_op_total  tight_op_threshold  medium_op_threshold  \\\n0             205005           -0.897117            -0.897117   \n1             205005           -0.880173            -0.880173   \n2             205005           -0.891820            -0.891820   \n3             205005           -0.887782            -0.887782   \n4             205005           -0.839659            -0.839659   \n\n   loose_op_threshold  vloose_op_threshold  \n0           -0.860319            -0.933001  \n1           -0.840672            -0.922216  \n2           -0.854874            -0.930133  \n3           -0.852440            -0.926832  \n4           -0.802934            -0.880908  \n\n[5 rows x 66 columns]",
      "text/html": "<div>\n<style scoped>\n    .dataframe tbody tr th:only-of-type {\n        vertical-align: middle;\n    }\n\n    .dataframe tbody tr th {\n        vertical-align: top;\n    }\n\n    .dataframe thead th {\n        text-align: right;\n    }\n</style>\n<table border=\"1\" class=\"dataframe\">\n  <thead>\n    <tr style=\"text-align: right;\">\n      <th></th>\n      <th>train_tag</th>\n      <th>et_bin</th>\n      <th>eta_bin</th>\n      <th>model_idx</th>\n      <th>sort</th>\n      <th>init</th>\n      <th>file_name</th>\n      <th>tuned_idx</th>\n      <th>max_sp_val</th>\n      <th>max_sp_pd_val</th>\n      <th>...</th>\n      <th>tight_pd_val_total</th>\n      <th>tight_fa_val_total</th>\n      <th>tight_pd_op_passed</th>\n      <th>tight_fa_op_passed</th>\n      <th>tight_pd_op_total</th>\n      <th>tight_fa_op_total</th>\n      <th>tight_op_threshold</th>\n      <th>medium_op_threshold</th>\n      <th>loose_op_threshold</th>\n      <th>vloose_op_threshold</th>\n    </tr>\n  </thead>\n  <tbody>\n    <tr>\n      <th>0</th>\n      <td>v1.data17</td>\n      <td>0</td>\n      <td>0</td>\n      <td>5</td>\n      <td>3</td>\n      <td>3</td>\n      <td>/home/micael/Documents/NeuralRinger/jpsiee_tun...</td>\n      <td>0</td>\n      <td>0.944513</td>\n      <td>0.963457</td>\n      <td>...</td>\n      <td>2846</td>\n      <td>20500</td>\n      <td>27987</td>\n      <td>24750</td>\n      <td>28455</td>\n      <td>205005</td>\n      <td>-0.897117</td>\n      <td>-0.897117</td>\n      <td>-0.860319</td>\n      <td>-0.933001</td>\n    </tr>\n    <tr>\n      <th>1</th>\n      <td>v1.data17</td>\n      <td>0</td>\n      <td>0</td>\n      <td>6</td>\n      <td>3</td>\n      <td>3</td>\n      <td>/home/micael/Documents/NeuralRinger/jpsiee_tun...</td>\n      <td>1</td>\n      <td>0.944451</td>\n      <td>0.967323</td>\n      <td>...</td>\n      <td>2846</td>\n      <td>20500</td>\n      <td>27987</td>\n      <td>24702</td>\n      <td>28455</td>\n      <td>205005</td>\n      <td>-0.880173</td>\n      <td>-0.880173</td>\n      <td>-0.840672</td>\n      <td>-0.922216</td>\n    </tr>\n    <tr>\n      <th>2</th>\n      <td>v1.data17</td>\n      <td>0</td>\n      <td>0</td>\n      <td>7</td>\n      <td>3</td>\n      <td>3</td>\n      <td>/home/micael/Documents/NeuralRinger/jpsiee_tun...</td>\n      <td>2</td>\n      <td>0.944726</td>\n      <td>0.961701</td>\n      <td>...</td>\n      <td>2846</td>\n      <td>20500</td>\n      <td>27987</td>\n      <td>24688</td>\n      <td>28455</td>\n      <td>205005</td>\n      <td>-0.891820</td>\n      <td>-0.891820</td>\n      <td>-0.854874</td>\n      <td>-0.930133</td>\n    </tr>\n    <tr>\n      <th>3</th>\n      <td>v1.data17</td>\n      <td>0</td>\n      <td>0</td>\n      <td>8</td>\n      <td>3</td>\n      <td>3</td>\n      <td>/home/micael/Documents/NeuralRinger/jpsiee_tun...</td>\n      <td>3</td>\n      <td>0.945072</td>\n      <td>0.969079</td>\n      <td>...</td>\n      <td>2846</td>\n      <td>20500</td>\n      <td>27987</td>\n      <td>24922</td>\n      <td>28455</td>\n      <td>205005</td>\n      <td>-0.887782</td>\n      <td>-0.887782</td>\n      <td>-0.852440</td>\n      <td>-0.926832</td>\n    </tr>\n    <tr>\n      <th>4</th>\n      <td>v1.data17</td>\n      <td>0</td>\n      <td>0</td>\n      <td>5</td>\n      <td>1</td>\n      <td>2</td>\n      <td>/home/micael/Documents/NeuralRinger/jpsiee_tun...</td>\n      <td>0</td>\n      <td>0.943787</td>\n      <td>0.953970</td>\n      <td>...</td>\n      <td>2846</td>\n      <td>20500</td>\n      <td>27987</td>\n      <td>25457</td>\n      <td>28455</td>\n      <td>205005</td>\n      <td>-0.839659</td>\n      <td>-0.839659</td>\n      <td>-0.802934</td>\n      <td>-0.880908</td>\n    </tr>\n  </tbody>\n</table>\n<p>5 rows × 66 columns</p>\n</div>"
     },
     "metadata": {},
     "execution_count": 5
    }
   ],
   "source": [
    "table = kt.get_pandas_table()\n",
    "table.head(5)"
   ]
  },
  {
   "cell_type": "markdown",
   "metadata": {},
   "source": [
    "### Get the best inits table"
   ]
  },
  {
   "cell_type": "code",
   "execution_count": 6,
   "metadata": {},
   "outputs": [
    {
     "output_type": "execute_result",
     "data": {
      "text/plain": "     train_tag  et_bin  eta_bin  model_idx  sort  init  \\\n261  v1.data17       0        0          0     0     1   \n359  v1.data17       0        0          0     1     3   \n80   v1.data17       0        0          0     2     1   \n283  v1.data17       0        0          0     3     4   \n354  v1.data17       0        0          0     4     4   \n\n                                             file_name  tuned_idx  max_sp_val  \\\n261  /home/micael/Documents/NeuralRinger/jpsiee_tun...          0    0.946916   \n359  /home/micael/Documents/NeuralRinger/jpsiee_tun...          0    0.944001   \n80   /home/micael/Documents/NeuralRinger/jpsiee_tun...          0    0.941700   \n283  /home/micael/Documents/NeuralRinger/jpsiee_tun...          0    0.944651   \n354  /home/micael/Documents/NeuralRinger/jpsiee_tun...          0    0.944673   \n\n     max_sp_pd_val  ...  tight_pd_val_total  tight_fa_val_total  \\\n261       0.951160  ...                2846               20500   \n359       0.956079  ...                2846               20500   \n80        0.946240  ...                2846               20500   \n283       0.968377  ...                2846               20500   \n354       0.960998  ...                2846               20500   \n\n     tight_pd_op_passed  tight_fa_op_passed  tight_pd_op_total  \\\n261               27987               23933              28455   \n359               27987               25498              28455   \n80                27987               25581              28455   \n283               27987               24161              28455   \n354               27987               25467              28455   \n\n     tight_fa_op_total  tight_op_threshold  medium_op_threshold  \\\n261             205005           -0.892544            -0.892544   \n359             205005           -0.844698            -0.844698   \n80              205005           -0.842062            -0.842062   \n283             205005           -0.885199            -0.885199   \n354             205005           -0.883971            -0.883971   \n\n     loose_op_threshold  vloose_op_threshold  \n261           -0.852873            -0.938755  \n359           -0.807455            -0.885452  \n80            -0.806970            -0.881531  \n283           -0.845055            -0.928306  \n354           -0.848430            -0.918506  \n\n[5 rows x 66 columns]",
      "text/html": "<div>\n<style scoped>\n    .dataframe tbody tr th:only-of-type {\n        vertical-align: middle;\n    }\n\n    .dataframe tbody tr th {\n        vertical-align: top;\n    }\n\n    .dataframe thead th {\n        text-align: right;\n    }\n</style>\n<table border=\"1\" class=\"dataframe\">\n  <thead>\n    <tr style=\"text-align: right;\">\n      <th></th>\n      <th>train_tag</th>\n      <th>et_bin</th>\n      <th>eta_bin</th>\n      <th>model_idx</th>\n      <th>sort</th>\n      <th>init</th>\n      <th>file_name</th>\n      <th>tuned_idx</th>\n      <th>max_sp_val</th>\n      <th>max_sp_pd_val</th>\n      <th>...</th>\n      <th>tight_pd_val_total</th>\n      <th>tight_fa_val_total</th>\n      <th>tight_pd_op_passed</th>\n      <th>tight_fa_op_passed</th>\n      <th>tight_pd_op_total</th>\n      <th>tight_fa_op_total</th>\n      <th>tight_op_threshold</th>\n      <th>medium_op_threshold</th>\n      <th>loose_op_threshold</th>\n      <th>vloose_op_threshold</th>\n    </tr>\n  </thead>\n  <tbody>\n    <tr>\n      <th>261</th>\n      <td>v1.data17</td>\n      <td>0</td>\n      <td>0</td>\n      <td>0</td>\n      <td>0</td>\n      <td>1</td>\n      <td>/home/micael/Documents/NeuralRinger/jpsiee_tun...</td>\n      <td>0</td>\n      <td>0.946916</td>\n      <td>0.951160</td>\n      <td>...</td>\n      <td>2846</td>\n      <td>20500</td>\n      <td>27987</td>\n      <td>23933</td>\n      <td>28455</td>\n      <td>205005</td>\n      <td>-0.892544</td>\n      <td>-0.892544</td>\n      <td>-0.852873</td>\n      <td>-0.938755</td>\n    </tr>\n    <tr>\n      <th>359</th>\n      <td>v1.data17</td>\n      <td>0</td>\n      <td>0</td>\n      <td>0</td>\n      <td>1</td>\n      <td>3</td>\n      <td>/home/micael/Documents/NeuralRinger/jpsiee_tun...</td>\n      <td>0</td>\n      <td>0.944001</td>\n      <td>0.956079</td>\n      <td>...</td>\n      <td>2846</td>\n      <td>20500</td>\n      <td>27987</td>\n      <td>25498</td>\n      <td>28455</td>\n      <td>205005</td>\n      <td>-0.844698</td>\n      <td>-0.844698</td>\n      <td>-0.807455</td>\n      <td>-0.885452</td>\n    </tr>\n    <tr>\n      <th>80</th>\n      <td>v1.data17</td>\n      <td>0</td>\n      <td>0</td>\n      <td>0</td>\n      <td>2</td>\n      <td>1</td>\n      <td>/home/micael/Documents/NeuralRinger/jpsiee_tun...</td>\n      <td>0</td>\n      <td>0.941700</td>\n      <td>0.946240</td>\n      <td>...</td>\n      <td>2846</td>\n      <td>20500</td>\n      <td>27987</td>\n      <td>25581</td>\n      <td>28455</td>\n      <td>205005</td>\n      <td>-0.842062</td>\n      <td>-0.842062</td>\n      <td>-0.806970</td>\n      <td>-0.881531</td>\n    </tr>\n    <tr>\n      <th>283</th>\n      <td>v1.data17</td>\n      <td>0</td>\n      <td>0</td>\n      <td>0</td>\n      <td>3</td>\n      <td>4</td>\n      <td>/home/micael/Documents/NeuralRinger/jpsiee_tun...</td>\n      <td>0</td>\n      <td>0.944651</td>\n      <td>0.968377</td>\n      <td>...</td>\n      <td>2846</td>\n      <td>20500</td>\n      <td>27987</td>\n      <td>24161</td>\n      <td>28455</td>\n      <td>205005</td>\n      <td>-0.885199</td>\n      <td>-0.885199</td>\n      <td>-0.845055</td>\n      <td>-0.928306</td>\n    </tr>\n    <tr>\n      <th>354</th>\n      <td>v1.data17</td>\n      <td>0</td>\n      <td>0</td>\n      <td>0</td>\n      <td>4</td>\n      <td>4</td>\n      <td>/home/micael/Documents/NeuralRinger/jpsiee_tun...</td>\n      <td>0</td>\n      <td>0.944673</td>\n      <td>0.960998</td>\n      <td>...</td>\n      <td>2846</td>\n      <td>20500</td>\n      <td>27987</td>\n      <td>25467</td>\n      <td>28455</td>\n      <td>205005</td>\n      <td>-0.883971</td>\n      <td>-0.883971</td>\n      <td>-0.848430</td>\n      <td>-0.918506</td>\n    </tr>\n  </tbody>\n</table>\n<p>5 rows × 66 columns</p>\n</div>"
     },
     "metadata": {},
     "execution_count": 6
    }
   ],
   "source": [
    "best_inits = kt.filter_inits(\"max_sp_val\")\n",
    "best_inits.head()"
   ]
  },
  {
   "cell_type": "markdown",
   "metadata": {},
   "source": [
    "# Create a boxplot "
   ]
  },
  {
   "cell_type": "code",
   "execution_count": 7,
   "metadata": {},
   "outputs": [],
   "source": [
    "map_key_dict ={\n",
    "   'max_sp_val'    : (r'$SP_{max}$ (Validation)', 'sp'),\n",
    "   'max_sp_pd_val' : (r'$P_D$ (Validation)', 'pd'),\n",
    "   'max_sp_fa_val' : (r'$F_A$ (Validation)', 'fa'),\n",
    "   'auc_val'       : (r'AUC (Validation)', 'auc'),\n",
    "}\n",
    "\n",
    "# using as simple function in order to make easier plot all need measures\n",
    "def create_cool_box_plot(df, key, mapped_key, output_name, tuning_flag):\n",
    "    # create the box plot. \n",
    "    # rename the columns names.\n",
    "    # map the model idx into real # neurons.\n",
    "\n",
    "    sns.factorplot(data=(df\n",
    "                        .replace({'model_idx' : {i :  n for i, n in zip(range(0,9+1),\n",
    "                        range(2,10+1))},\n",
    "                                'et_bin'    : {i : str_etbins_jpsiee[i] for i in range(3)},\n",
    "                                'eta_bin'   : {i : str_etabins[i] for i in range(5)}})\n",
    "                        .rename({'model_idx'  : '# Neurons',\n",
    "                                'et_bin'     : r'$E_T$',\n",
    "                                'eta_bin'    : r'$\\eta$',\n",
    "                                key : mapped_key},\n",
    "                        axis=1)), x='# Neurons',\n",
    "                        y=mapped_key, col=r'$\\eta$', \n",
    "                        row=r'$E_T$', kind='box', sharey=False)\n",
    "\n",
    "    plt.savefig(os.path.join(analysis_path, 'v1.data17/plots/box_plot_%s_%s.png' %(output_name, tuning_flag)), dpi=300)\n",
    "    plt.close();"
   ]
  },
  {
   "cell_type": "code",
   "execution_count": 8,
   "metadata": {},
   "outputs": [],
   "source": [
    "ikey         = 'max_sp_val'\n",
    "map_k, o_name = map_key_dict[ikey]\n",
    "create_cool_box_plot(df=best_inits, key=ikey, mapped_key=map_k, output_name=o_name, tuning_flag='v1.data17.all_neurons')"
   ]
  },
  {
   "cell_type": "code",
   "execution_count": 9,
   "metadata": {},
   "outputs": [],
   "source": [
    "n_min, n_max = 2, 10\n",
    "model_add_tag = { idx : '.mlp%i' %(neuron) for idx, neuron in enumerate(range(n_min, n_max +1))}\n",
    "# add a sufix in train_tag\n",
    "best_inits.train_tag = best_inits.train_tag + best_inits.model_idx.replace(model_add_tag)"
   ]
  },
  {
   "cell_type": "code",
   "execution_count": 10,
   "metadata": {},
   "outputs": [
    {
     "output_type": "execute_result",
     "data": {
      "text/plain": "          train_tag  et_bin  eta_bin  model_idx  sort  init  \\\n261  v1.data17.mlp2       0        0          0     0     1   \n359  v1.data17.mlp2       0        0          0     1     3   \n80   v1.data17.mlp2       0        0          0     2     1   \n283  v1.data17.mlp2       0        0          0     3     4   \n354  v1.data17.mlp2       0        0          0     4     4   \n\n                                             file_name  tuned_idx  max_sp_val  \\\n261  /home/micael/Documents/NeuralRinger/jpsiee_tun...          0    0.946916   \n359  /home/micael/Documents/NeuralRinger/jpsiee_tun...          0    0.944001   \n80   /home/micael/Documents/NeuralRinger/jpsiee_tun...          0    0.941700   \n283  /home/micael/Documents/NeuralRinger/jpsiee_tun...          0    0.944651   \n354  /home/micael/Documents/NeuralRinger/jpsiee_tun...          0    0.944673   \n\n     max_sp_pd_val  ...  tight_pd_val_total  tight_fa_val_total  \\\n261       0.951160  ...                2846               20500   \n359       0.956079  ...                2846               20500   \n80        0.946240  ...                2846               20500   \n283       0.968377  ...                2846               20500   \n354       0.960998  ...                2846               20500   \n\n     tight_pd_op_passed  tight_fa_op_passed  tight_pd_op_total  \\\n261               27987               23933              28455   \n359               27987               25498              28455   \n80                27987               25581              28455   \n283               27987               24161              28455   \n354               27987               25467              28455   \n\n     tight_fa_op_total  tight_op_threshold  medium_op_threshold  \\\n261             205005           -0.892544            -0.892544   \n359             205005           -0.844698            -0.844698   \n80              205005           -0.842062            -0.842062   \n283             205005           -0.885199            -0.885199   \n354             205005           -0.883971            -0.883971   \n\n     loose_op_threshold  vloose_op_threshold  \n261           -0.852873            -0.938755  \n359           -0.807455            -0.885452  \n80            -0.806970            -0.881531  \n283           -0.845055            -0.928306  \n354           -0.848430            -0.918506  \n\n[5 rows x 66 columns]",
      "text/html": "<div>\n<style scoped>\n    .dataframe tbody tr th:only-of-type {\n        vertical-align: middle;\n    }\n\n    .dataframe tbody tr th {\n        vertical-align: top;\n    }\n\n    .dataframe thead th {\n        text-align: right;\n    }\n</style>\n<table border=\"1\" class=\"dataframe\">\n  <thead>\n    <tr style=\"text-align: right;\">\n      <th></th>\n      <th>train_tag</th>\n      <th>et_bin</th>\n      <th>eta_bin</th>\n      <th>model_idx</th>\n      <th>sort</th>\n      <th>init</th>\n      <th>file_name</th>\n      <th>tuned_idx</th>\n      <th>max_sp_val</th>\n      <th>max_sp_pd_val</th>\n      <th>...</th>\n      <th>tight_pd_val_total</th>\n      <th>tight_fa_val_total</th>\n      <th>tight_pd_op_passed</th>\n      <th>tight_fa_op_passed</th>\n      <th>tight_pd_op_total</th>\n      <th>tight_fa_op_total</th>\n      <th>tight_op_threshold</th>\n      <th>medium_op_threshold</th>\n      <th>loose_op_threshold</th>\n      <th>vloose_op_threshold</th>\n    </tr>\n  </thead>\n  <tbody>\n    <tr>\n      <th>261</th>\n      <td>v1.data17.mlp2</td>\n      <td>0</td>\n      <td>0</td>\n      <td>0</td>\n      <td>0</td>\n      <td>1</td>\n      <td>/home/micael/Documents/NeuralRinger/jpsiee_tun...</td>\n      <td>0</td>\n      <td>0.946916</td>\n      <td>0.951160</td>\n      <td>...</td>\n      <td>2846</td>\n      <td>20500</td>\n      <td>27987</td>\n      <td>23933</td>\n      <td>28455</td>\n      <td>205005</td>\n      <td>-0.892544</td>\n      <td>-0.892544</td>\n      <td>-0.852873</td>\n      <td>-0.938755</td>\n    </tr>\n    <tr>\n      <th>359</th>\n      <td>v1.data17.mlp2</td>\n      <td>0</td>\n      <td>0</td>\n      <td>0</td>\n      <td>1</td>\n      <td>3</td>\n      <td>/home/micael/Documents/NeuralRinger/jpsiee_tun...</td>\n      <td>0</td>\n      <td>0.944001</td>\n      <td>0.956079</td>\n      <td>...</td>\n      <td>2846</td>\n      <td>20500</td>\n      <td>27987</td>\n      <td>25498</td>\n      <td>28455</td>\n      <td>205005</td>\n      <td>-0.844698</td>\n      <td>-0.844698</td>\n      <td>-0.807455</td>\n      <td>-0.885452</td>\n    </tr>\n    <tr>\n      <th>80</th>\n      <td>v1.data17.mlp2</td>\n      <td>0</td>\n      <td>0</td>\n      <td>0</td>\n      <td>2</td>\n      <td>1</td>\n      <td>/home/micael/Documents/NeuralRinger/jpsiee_tun...</td>\n      <td>0</td>\n      <td>0.941700</td>\n      <td>0.946240</td>\n      <td>...</td>\n      <td>2846</td>\n      <td>20500</td>\n      <td>27987</td>\n      <td>25581</td>\n      <td>28455</td>\n      <td>205005</td>\n      <td>-0.842062</td>\n      <td>-0.842062</td>\n      <td>-0.806970</td>\n      <td>-0.881531</td>\n    </tr>\n    <tr>\n      <th>283</th>\n      <td>v1.data17.mlp2</td>\n      <td>0</td>\n      <td>0</td>\n      <td>0</td>\n      <td>3</td>\n      <td>4</td>\n      <td>/home/micael/Documents/NeuralRinger/jpsiee_tun...</td>\n      <td>0</td>\n      <td>0.944651</td>\n      <td>0.968377</td>\n      <td>...</td>\n      <td>2846</td>\n      <td>20500</td>\n      <td>27987</td>\n      <td>24161</td>\n      <td>28455</td>\n      <td>205005</td>\n      <td>-0.885199</td>\n      <td>-0.885199</td>\n      <td>-0.845055</td>\n      <td>-0.928306</td>\n    </tr>\n    <tr>\n      <th>354</th>\n      <td>v1.data17.mlp2</td>\n      <td>0</td>\n      <td>0</td>\n      <td>0</td>\n      <td>4</td>\n      <td>4</td>\n      <td>/home/micael/Documents/NeuralRinger/jpsiee_tun...</td>\n      <td>0</td>\n      <td>0.944673</td>\n      <td>0.960998</td>\n      <td>...</td>\n      <td>2846</td>\n      <td>20500</td>\n      <td>27987</td>\n      <td>25467</td>\n      <td>28455</td>\n      <td>205005</td>\n      <td>-0.883971</td>\n      <td>-0.883971</td>\n      <td>-0.848430</td>\n      <td>-0.918506</td>\n    </tr>\n  </tbody>\n</table>\n<p>5 rows × 66 columns</p>\n</div>"
     },
     "metadata": {},
     "execution_count": 10
    }
   ],
   "source": [
    "best_inits.head()"
   ]
  },
  {
   "cell_type": "markdown",
   "metadata": {},
   "source": [
    "**Note**: In this example case, after apply the init filter there are other models that you can analyze. In this example in focus on with 5 neurons in hidden layer. If you don't do that the other models will be used in the calculation and this can be a problem."
   ]
  },
  {
   "cell_type": "code",
   "execution_count": 11,
   "metadata": {},
   "outputs": [
    {
     "output_type": "execute_result",
     "data": {
      "text/plain": "((1350, 66), 1350)"
     },
     "metadata": {},
     "execution_count": 11
    }
   ],
   "source": [
    "best_inits.shape, best_inits.model_idx.nunique()*15*10"
   ]
  },
  {
   "cell_type": "code",
   "execution_count": 12,
   "metadata": {
    "tags": []
   },
   "outputs": [
    {
     "output_type": "stream",
     "name": "stdout",
     "text": "Dataframe size before model filter: 1350\nDataframe size after model filter: 450\n"
    }
   ],
   "source": [
    "print('Dataframe size before model filter: %i' %(len(best_inits)))\n",
    "# we use three models 2, 5 and 10 neurons\n",
    "best_inits = best_inits.loc[(best_inits.train_tag=='v1.data17.mlp2') |\n",
    "                            (best_inits.train_tag=='v1.data17.mlp5') |\n",
    "                            (best_inits.train_tag=='v1.data17.mlp10')]\n",
    "print('Dataframe size after model filter: %i' %(len(best_inits)))"
   ]
  },
  {
   "cell_type": "code",
   "execution_count": 13,
   "metadata": {},
   "outputs": [],
   "source": [
    "# now we want to see the boxplot with only 3 topologies\n",
    "ikey         = 'max_sp_val'\n",
    "map_k, o_name = map_key_dict[ikey]\n",
    "create_cool_box_plot(df=best_inits, key=ikey, mapped_key=map_k, output_name=o_name, tuning_flag='v1.data17.selected_neurons')"
   ]
  },
  {
   "cell_type": "code",
   "execution_count": 14,
   "metadata": {},
   "outputs": [],
   "source": [
    "# save this table\n",
    "best_inits.to_csv(os.path.join(analysis_path,\n",
    "                               'v1.data17/files/selected_neurons_info_table.csv'),\n",
    "                  index=False)"
   ]
  },
  {
   "cell_type": "markdown",
   "metadata": {},
   "source": [
    "### Get the Cross validation table"
   ]
  },
  {
   "cell_type": "code",
   "execution_count": 15,
   "metadata": {},
   "outputs": [
    {
     "output_type": "execute_result",
     "data": {
      "text/plain": "        train_tag  et_bin  eta_bin  max_sp_val_mean  max_sp_val_std  \\\n0  v1.data17.mlp2       0        0         0.945854        0.002518   \n1  v1.data17.mlp2       0        1         0.932883        0.004367   \n2  v1.data17.mlp2       0        2         0.890077        0.020242   \n3  v1.data17.mlp2       0        3         0.917786        0.005463   \n4  v1.data17.mlp2       0        4         0.922870        0.025178   \n\n   max_sp_pd_val_mean  max_sp_pd_val_std  max_sp_fa_val_mean  \\\n0            0.958426           0.007121            0.066618   \n1            0.945623           0.010756            0.079739   \n2            0.905878           0.035211            0.125238   \n3            0.944560           0.009227            0.108573   \n4            0.974074           0.035136            0.126395   \n\n   max_sp_fa_val_std  max_sp_op_mean  ...  tight_fa_op_total_mean  \\\n0           0.005874        0.944333  ...                205005.0   \n1           0.007228        0.930188  ...                171335.0   \n2           0.030917        0.870265  ...                 27116.0   \n3           0.009881        0.914631  ...                229486.0   \n4           0.047350        0.895782  ...                 16670.0   \n\n   tight_fa_op_total_std  tight_op_threshold_mean  tight_op_threshold_std  \\\n0                    0.0                -0.862378                0.035905   \n1                    0.0                -0.895581                0.010817   \n2                    0.0                -0.913143                0.006179   \n3                    0.0                -0.913367                0.009927   \n4                    0.0                -0.928051                0.008606   \n\n   medium_op_threshold_mean  medium_op_threshold_std  loose_op_threshold_mean  \\\n0                 -0.862378                 0.035905                -0.823660   \n1                 -0.895581                 0.010817                -0.940163   \n2                 -0.919457                 0.003749                -0.923564   \n3                 -0.922209                 0.009689                -0.922209   \n4                 -0.928051                 0.008606                -0.927018   \n\n   loose_op_threshold_std  vloose_op_threshold_mean  vloose_op_threshold_std  \n0                0.034712                 -0.903661                 0.034384  \n1                0.009558                 -0.950781                 0.010317  \n2                0.002982                 -0.925935                 0.002324  \n3                0.009689                 -0.923540                 0.009825  \n4                0.008771                 -0.928051                 0.008606  \n\n[5 rows x 93 columns]",
      "text/html": "<div>\n<style scoped>\n    .dataframe tbody tr th:only-of-type {\n        vertical-align: middle;\n    }\n\n    .dataframe tbody tr th {\n        vertical-align: top;\n    }\n\n    .dataframe thead th {\n        text-align: right;\n    }\n</style>\n<table border=\"1\" class=\"dataframe\">\n  <thead>\n    <tr style=\"text-align: right;\">\n      <th></th>\n      <th>train_tag</th>\n      <th>et_bin</th>\n      <th>eta_bin</th>\n      <th>max_sp_val_mean</th>\n      <th>max_sp_val_std</th>\n      <th>max_sp_pd_val_mean</th>\n      <th>max_sp_pd_val_std</th>\n      <th>max_sp_fa_val_mean</th>\n      <th>max_sp_fa_val_std</th>\n      <th>max_sp_op_mean</th>\n      <th>...</th>\n      <th>tight_fa_op_total_mean</th>\n      <th>tight_fa_op_total_std</th>\n      <th>tight_op_threshold_mean</th>\n      <th>tight_op_threshold_std</th>\n      <th>medium_op_threshold_mean</th>\n      <th>medium_op_threshold_std</th>\n      <th>loose_op_threshold_mean</th>\n      <th>loose_op_threshold_std</th>\n      <th>vloose_op_threshold_mean</th>\n      <th>vloose_op_threshold_std</th>\n    </tr>\n  </thead>\n  <tbody>\n    <tr>\n      <th>0</th>\n      <td>v1.data17.mlp2</td>\n      <td>0</td>\n      <td>0</td>\n      <td>0.945854</td>\n      <td>0.002518</td>\n      <td>0.958426</td>\n      <td>0.007121</td>\n      <td>0.066618</td>\n      <td>0.005874</td>\n      <td>0.944333</td>\n      <td>...</td>\n      <td>205005.0</td>\n      <td>0.0</td>\n      <td>-0.862378</td>\n      <td>0.035905</td>\n      <td>-0.862378</td>\n      <td>0.035905</td>\n      <td>-0.823660</td>\n      <td>0.034712</td>\n      <td>-0.903661</td>\n      <td>0.034384</td>\n    </tr>\n    <tr>\n      <th>1</th>\n      <td>v1.data17.mlp2</td>\n      <td>0</td>\n      <td>1</td>\n      <td>0.932883</td>\n      <td>0.004367</td>\n      <td>0.945623</td>\n      <td>0.010756</td>\n      <td>0.079739</td>\n      <td>0.007228</td>\n      <td>0.930188</td>\n      <td>...</td>\n      <td>171335.0</td>\n      <td>0.0</td>\n      <td>-0.895581</td>\n      <td>0.010817</td>\n      <td>-0.895581</td>\n      <td>0.010817</td>\n      <td>-0.940163</td>\n      <td>0.009558</td>\n      <td>-0.950781</td>\n      <td>0.010317</td>\n    </tr>\n    <tr>\n      <th>2</th>\n      <td>v1.data17.mlp2</td>\n      <td>0</td>\n      <td>2</td>\n      <td>0.890077</td>\n      <td>0.020242</td>\n      <td>0.905878</td>\n      <td>0.035211</td>\n      <td>0.125238</td>\n      <td>0.030917</td>\n      <td>0.870265</td>\n      <td>...</td>\n      <td>27116.0</td>\n      <td>0.0</td>\n      <td>-0.913143</td>\n      <td>0.006179</td>\n      <td>-0.919457</td>\n      <td>0.003749</td>\n      <td>-0.923564</td>\n      <td>0.002982</td>\n      <td>-0.925935</td>\n      <td>0.002324</td>\n    </tr>\n    <tr>\n      <th>3</th>\n      <td>v1.data17.mlp2</td>\n      <td>0</td>\n      <td>3</td>\n      <td>0.917786</td>\n      <td>0.005463</td>\n      <td>0.944560</td>\n      <td>0.009227</td>\n      <td>0.108573</td>\n      <td>0.009881</td>\n      <td>0.914631</td>\n      <td>...</td>\n      <td>229486.0</td>\n      <td>0.0</td>\n      <td>-0.913367</td>\n      <td>0.009927</td>\n      <td>-0.922209</td>\n      <td>0.009689</td>\n      <td>-0.922209</td>\n      <td>0.009689</td>\n      <td>-0.923540</td>\n      <td>0.009825</td>\n    </tr>\n    <tr>\n      <th>4</th>\n      <td>v1.data17.mlp2</td>\n      <td>0</td>\n      <td>4</td>\n      <td>0.922870</td>\n      <td>0.025178</td>\n      <td>0.974074</td>\n      <td>0.035136</td>\n      <td>0.126395</td>\n      <td>0.047350</td>\n      <td>0.895782</td>\n      <td>...</td>\n      <td>16670.0</td>\n      <td>0.0</td>\n      <td>-0.928051</td>\n      <td>0.008606</td>\n      <td>-0.928051</td>\n      <td>0.008606</td>\n      <td>-0.927018</td>\n      <td>0.008771</td>\n      <td>-0.928051</td>\n      <td>0.008606</td>\n    </tr>\n  </tbody>\n</table>\n<p>5 rows × 93 columns</p>\n</div>"
     },
     "metadata": {},
     "execution_count": 15
    }
   ],
   "source": [
    "# Get the eff table for all tunings \n",
    "cv_table   = kt.describe( best_inits )\n",
    "cv_table.head()"
   ]
  },
  {
   "cell_type": "code",
   "execution_count": 16,
   "metadata": {},
   "outputs": [],
   "source": [
    "# save this table\n",
    "cv_table.to_csv(os.path.join(analysis_path,\n",
    "                               'v1.data17/files/selected_neurons_cv_table.csv'),\n",
    "                index=False)"
   ]
  },
  {
   "cell_type": "markdown",
   "metadata": {},
   "source": [
    "### Get the integrated table for v1 tags"
   ]
  },
  {
   "cell_type": "code",
   "execution_count": 17,
   "metadata": {
    "tags": []
   },
   "outputs": [
    {
     "output_type": "stream",
     "name": "stdout",
     "text": "Integrating: v1.data17.mlp2\n      tight_pd_ref  tight_fa_ref  tight_pd_val  tight_fa_val  tight_pd_op  \\\nmean       97.7795       36.9054       97.7813       10.2992      97.7792   \nstd         0.0000        0.0000        0.0119        0.2970       0.0006   \n\n      tight_fa_op  \nmean      10.4958  \nstd        0.1102  \n---------------\nIntegrating: v1.data17.mlp5\n      tight_pd_ref  tight_fa_ref  tight_pd_val  tight_fa_val  tight_pd_op  \\\nmean       97.7795       36.9054       97.7869       10.3017      97.7793   \nstd         0.0000        0.0000        0.0126        0.3775       0.0004   \n\n      tight_fa_op  \nmean      10.4654  \nstd        0.1203  \n---------------\nIntegrating: v1.data17.mlp10\n      tight_pd_ref  tight_fa_ref  tight_pd_val  tight_fa_val  tight_pd_op  \\\nmean       97.7795       36.9054       97.7841       10.2748      97.7788   \nstd         0.0000        0.0000        0.0063        0.3206       0.0006   \n\n      tight_fa_op  \nmean      10.4682  \nstd        0.0920  \n---------------\n"
    }
   ],
   "source": [
    "# Get integrated table\n",
    "tags = ['v1.data17.mlp2', 'v1.data17.mlp5', 'v1.data17.mlp10']\n",
    "for itag in tags:\n",
    "    print('Integrating: %s' %(itag))\n",
    "    int_table = kt.integrate( best_inits, itag)\n",
    "    print((int_table.head()*100).round(4))\n",
    "    print('-'*15)"
   ]
  },
  {
   "cell_type": "markdown",
   "metadata": {},
   "source": [
    "### Create the Beamer Presentation"
   ]
  },
  {
   "cell_type": "code",
   "execution_count": 18,
   "metadata": {},
   "outputs": [],
   "source": [
    "zee_et_lims    = [15,20,25,30,40,50]\n",
    "jpsiee_et_lims = [4, 7, 10, 15]\n",
    "eta_lims       = [0, 0.8 , 1.37, 1.54, 2.37, 2.5]"
   ]
  },
  {
   "cell_type": "code",
   "execution_count": 22,
   "metadata": {
    "tags": []
   },
   "outputs": [
    {
     "output_type": "stream",
     "name": "stdout",
     "text": "2020-08-05 13:39:37,610 | Py.BeamerTexReportTemplate1             INFO Started creating beamer file v1.data17.tex latex code...\n"
    }
   ],
   "source": [
    "# Create beamer presentation\n",
    "kt.dump_beamer_table( pandas_best_inits=best_inits,\n",
    "                      etbins=jpsiee_et_lims, etabins=eta_lims,\n",
    "                      operation_points=['tight'],\n",
    "                      output_file_name='v1.data17',\n",
    "                      doPDF=False\n",
    "                    )"
   ]
  },
  {
   "cell_type": "markdown",
   "metadata": {},
   "source": [
    "### Create monitoring plots"
   ]
  },
  {
   "cell_type": "code",
   "execution_count": 19,
   "metadata": {
    "tags": []
   },
   "outputs": [
    {
     "output_type": "stream",
     "name": "stdout",
     "text": "Dumping history: v1.data17.mlp2\nDumping history: v1.data17.mlp5\nDumping history: v1.data17.mlp10\n"
    }
   ],
   "source": [
    "tags = ['v1.data17.mlp2', 'v1.data17.mlp5', 'v1.data17.mlp10']\n",
    "for itag in tags:\n",
    "    print('Dumping history: %s' %(itag))\n",
    "    # dump all v1 training history for a give train tag\n",
    "    # formating the path\n",
    "    output_path = os.path.join(analysis_path, 'v1.data17/history')\n",
    "    # dumping all\n",
    "    kt.dump_all_history(best_inits, output_path, itag)"
   ]
  },
  {
   "cell_type": "code",
   "execution_count": 20,
   "metadata": {
    "tags": []
   },
   "outputs": [
    {
     "output_type": "stream",
     "name": "stdout",
     "text": "2020-08-06 20:22:45,709 | Py.kplot                                INFO Reading 450 files...\n2020-08-06 20:24:08,053 | Py.kplot                                INFO Reading 450 files...\n2020-08-06 20:25:22,361 | Py.kplot                                INFO Reading 450 files...\n"
    }
   ],
   "source": [
    "# plot the monitoring curves\n",
    "# get the jpsiee et bins.\n",
    "aux_dict = {'mlp2' : 0, 'mlp5' : 3, 'mlp10' : 8}\n",
    "\n",
    "\n",
    "for (imodel, idx) in aux_dict.items():\n",
    "    kplot_tool = kplot(os.path.join(analysis_path, 'v1.data17/history'),\n",
    "                       idx,\n",
    "                       str_et_bins=str_etbins_jpsiee)\n",
    "    # plot all bins.\n",
    "    plot_path = os.path.join(analysis_path, 'v1.data17/plots/%s' %(imodel))\n",
    "    for (iet, ieta) in product(range(3), range(5)):\n",
    "        kplot_tool.plot_training_curves(iet,\n",
    "                                        ieta,\n",
    "                                        plot_path,\n",
    "                                        'monitoring_v1.data17_et%i_eta%i' %(iet, ieta))"
   ]
  },
  {
   "cell_type": "code",
   "execution_count": null,
   "metadata": {},
   "outputs": [],
   "source": []
  }
 ],
 "metadata": {
  "file_extension": ".py",
  "kernelspec": {
   "display_name": "Python 3.8.2 64-bit ('v_env': venv)",
   "language": "python",
   "name": "python38264bitvenvvenvc6532bc0829549d68c5ea88a881683db"
  },
  "language_info": {
   "codemirror_mode": {
    "name": "ipython",
    "version": 3
   },
   "file_extension": ".py",
   "mimetype": "text/x-python",
   "name": "python",
   "nbconvert_exporter": "python",
   "pygments_lexer": "ipython3",
   "version": "3.8.2-final"
  },
  "mimetype": "text/x-python",
  "name": "python",
  "npconvert_exporter": "python",
  "pygments_lexer": "ipython3",
  "version": 3
 },
 "nbformat": 4,
 "nbformat_minor": 2
}