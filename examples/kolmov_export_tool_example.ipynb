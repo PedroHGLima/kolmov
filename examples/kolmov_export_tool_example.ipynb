{
 "cells": [
  {
   "cell_type": "code",
   "execution_count": 1,
   "metadata": {
    "tags": []
   },
   "outputs": [
    {
     "output_type": "stream",
     "name": "stdout",
     "text": "Welcome to JupyROOT 6.22/00\nUsing all sub packages with ROOT dependence\n"
    }
   ],
   "source": [
    "import os\n",
    "import glob\n",
    "import numpy as np\n",
    "import pandas as pd\n",
    "\n",
    "from kolmov.core.base_exporter import export_onnx_tool"
   ]
  },
  {
   "cell_type": "code",
   "execution_count": 2,
   "metadata": {
    "tags": []
   },
   "outputs": [
    {
     "output_type": "stream",
     "name": "stdout",
     "text": "Variables path defined \n base: /home/micael/Documents/NeuralRinger/jpsiee_data \n tunes: /home/micael/Documents/NeuralRinger/jpsiee_tunes \n analysis: /home/micael/Documents/NeuralRinger/jpsiee_analysis\n"
    }
   ],
   "source": [
    "base_path     = os.environ['DATA_PATH']\n",
    "tunes_path    = os.environ['TUNES_PATH']\n",
    "analysis_path = os.environ['ANALYSIS_PATH']\n",
    "print('Variables path defined \\n base: %s \\n tunes: %s \\n analysis: %s' %(base_path,\n",
    "                                                                          tunes_path,\n",
    "                                                                          analysis_path))"
   ]
  },
  {
   "cell_type": "code",
   "execution_count": 3,
   "metadata": {},
   "outputs": [
    {
     "output_type": "execute_result",
     "data": {
      "text/plain": "        train_tag  et_bin  eta_bin  model_idx  sort  init  \\\n0  v1.data17.mlp2       0        0          0     0     1   \n1  v1.data17.mlp2       0        0          0     1     3   \n2  v1.data17.mlp2       0        0          0     2     1   \n3  v1.data17.mlp2       0        0          0     3     4   \n4  v1.data17.mlp2       0        0          0     4     4   \n\n                                           file_name  tuned_idx  max_sp_val  \\\n0  /home/micael/Documents/NeuralRinger/jpsiee_tun...          0    0.946916   \n1  /home/micael/Documents/NeuralRinger/jpsiee_tun...          0    0.944001   \n2  /home/micael/Documents/NeuralRinger/jpsiee_tun...          0    0.941700   \n3  /home/micael/Documents/NeuralRinger/jpsiee_tun...          0    0.944651   \n4  /home/micael/Documents/NeuralRinger/jpsiee_tun...          0    0.944673   \n\n   max_sp_pd_val  ...  tight_pd_val_total  tight_fa_val_total  \\\n0       0.951160  ...                2846               20500   \n1       0.956079  ...                2846               20500   \n2       0.946240  ...                2846               20500   \n3       0.968377  ...                2846               20500   \n4       0.960998  ...                2846               20500   \n\n   tight_pd_op_passed  tight_fa_op_passed  tight_pd_op_total  \\\n0               27987               23933              28455   \n1               27987               25498              28455   \n2               27987               25581              28455   \n3               27987               24161              28455   \n4               27987               25467              28455   \n\n   tight_fa_op_total  tight_op_threshold  medium_op_threshold  \\\n0             205005           -0.892544            -0.892544   \n1             205005           -0.844698            -0.844698   \n2             205005           -0.842062            -0.842062   \n3             205005           -0.885199            -0.885199   \n4             205005           -0.883971            -0.883971   \n\n   loose_op_threshold  vloose_op_threshold  \n0           -0.852873            -0.938755  \n1           -0.807455            -0.885452  \n2           -0.806970            -0.881531  \n3           -0.845055            -0.928306  \n4           -0.848430            -0.918506  \n\n[5 rows x 66 columns]",
      "text/html": "<div>\n<style scoped>\n    .dataframe tbody tr th:only-of-type {\n        vertical-align: middle;\n    }\n\n    .dataframe tbody tr th {\n        vertical-align: top;\n    }\n\n    .dataframe thead th {\n        text-align: right;\n    }\n</style>\n<table border=\"1\" class=\"dataframe\">\n  <thead>\n    <tr style=\"text-align: right;\">\n      <th></th>\n      <th>train_tag</th>\n      <th>et_bin</th>\n      <th>eta_bin</th>\n      <th>model_idx</th>\n      <th>sort</th>\n      <th>init</th>\n      <th>file_name</th>\n      <th>tuned_idx</th>\n      <th>max_sp_val</th>\n      <th>max_sp_pd_val</th>\n      <th>...</th>\n      <th>tight_pd_val_total</th>\n      <th>tight_fa_val_total</th>\n      <th>tight_pd_op_passed</th>\n      <th>tight_fa_op_passed</th>\n      <th>tight_pd_op_total</th>\n      <th>tight_fa_op_total</th>\n      <th>tight_op_threshold</th>\n      <th>medium_op_threshold</th>\n      <th>loose_op_threshold</th>\n      <th>vloose_op_threshold</th>\n    </tr>\n  </thead>\n  <tbody>\n    <tr>\n      <th>0</th>\n      <td>v1.data17.mlp2</td>\n      <td>0</td>\n      <td>0</td>\n      <td>0</td>\n      <td>0</td>\n      <td>1</td>\n      <td>/home/micael/Documents/NeuralRinger/jpsiee_tun...</td>\n      <td>0</td>\n      <td>0.946916</td>\n      <td>0.951160</td>\n      <td>...</td>\n      <td>2846</td>\n      <td>20500</td>\n      <td>27987</td>\n      <td>23933</td>\n      <td>28455</td>\n      <td>205005</td>\n      <td>-0.892544</td>\n      <td>-0.892544</td>\n      <td>-0.852873</td>\n      <td>-0.938755</td>\n    </tr>\n    <tr>\n      <th>1</th>\n      <td>v1.data17.mlp2</td>\n      <td>0</td>\n      <td>0</td>\n      <td>0</td>\n      <td>1</td>\n      <td>3</td>\n      <td>/home/micael/Documents/NeuralRinger/jpsiee_tun...</td>\n      <td>0</td>\n      <td>0.944001</td>\n      <td>0.956079</td>\n      <td>...</td>\n      <td>2846</td>\n      <td>20500</td>\n      <td>27987</td>\n      <td>25498</td>\n      <td>28455</td>\n      <td>205005</td>\n      <td>-0.844698</td>\n      <td>-0.844698</td>\n      <td>-0.807455</td>\n      <td>-0.885452</td>\n    </tr>\n    <tr>\n      <th>2</th>\n      <td>v1.data17.mlp2</td>\n      <td>0</td>\n      <td>0</td>\n      <td>0</td>\n      <td>2</td>\n      <td>1</td>\n      <td>/home/micael/Documents/NeuralRinger/jpsiee_tun...</td>\n      <td>0</td>\n      <td>0.941700</td>\n      <td>0.946240</td>\n      <td>...</td>\n      <td>2846</td>\n      <td>20500</td>\n      <td>27987</td>\n      <td>25581</td>\n      <td>28455</td>\n      <td>205005</td>\n      <td>-0.842062</td>\n      <td>-0.842062</td>\n      <td>-0.806970</td>\n      <td>-0.881531</td>\n    </tr>\n    <tr>\n      <th>3</th>\n      <td>v1.data17.mlp2</td>\n      <td>0</td>\n      <td>0</td>\n      <td>0</td>\n      <td>3</td>\n      <td>4</td>\n      <td>/home/micael/Documents/NeuralRinger/jpsiee_tun...</td>\n      <td>0</td>\n      <td>0.944651</td>\n      <td>0.968377</td>\n      <td>...</td>\n      <td>2846</td>\n      <td>20500</td>\n      <td>27987</td>\n      <td>24161</td>\n      <td>28455</td>\n      <td>205005</td>\n      <td>-0.885199</td>\n      <td>-0.885199</td>\n      <td>-0.845055</td>\n      <td>-0.928306</td>\n    </tr>\n    <tr>\n      <th>4</th>\n      <td>v1.data17.mlp2</td>\n      <td>0</td>\n      <td>0</td>\n      <td>0</td>\n      <td>4</td>\n      <td>4</td>\n      <td>/home/micael/Documents/NeuralRinger/jpsiee_tun...</td>\n      <td>0</td>\n      <td>0.944673</td>\n      <td>0.960998</td>\n      <td>...</td>\n      <td>2846</td>\n      <td>20500</td>\n      <td>27987</td>\n      <td>25467</td>\n      <td>28455</td>\n      <td>205005</td>\n      <td>-0.883971</td>\n      <td>-0.883971</td>\n      <td>-0.848430</td>\n      <td>-0.918506</td>\n    </tr>\n  </tbody>\n</table>\n<p>5 rows × 66 columns</p>\n</div>"
     },
     "metadata": {},
     "execution_count": 3
    }
   ],
   "source": [
    "filename   = 'selected_neurons_info_table.csv' \n",
    "tunings_df = pd.read_csv(os.path.join(analysis_path, 'v1.data17/files/%s' %filename))\n",
    "tunings_df.head()"
   ]
  },
  {
   "cell_type": "markdown",
   "metadata": {},
   "source": [
    "# Create a operation dataframe\n",
    "\n",
    "We need to filter all the models and get the models that should the exported."
   ]
  },
  {
   "cell_type": "code",
   "execution_count": 4,
   "metadata": {
    "tags": []
   },
   "outputs": [
    {
     "output_type": "stream",
     "name": "stdout",
     "text": "Dataframe size: 150\n"
    },
    {
     "output_type": "execute_result",
     "data": {
      "text/plain": "        train_tag  et_bin  eta_bin  model_idx  sort  init  \\\n0  v1.data17.mlp2       0        0          0     0     1   \n1  v1.data17.mlp2       0        0          0     1     3   \n2  v1.data17.mlp2       0        0          0     2     1   \n3  v1.data17.mlp2       0        0          0     3     4   \n4  v1.data17.mlp2       0        0          0     4     4   \n\n                                           file_name  tuned_idx  max_sp_val  \\\n0  /home/micael/Documents/NeuralRinger/jpsiee_tun...          0    0.946916   \n1  /home/micael/Documents/NeuralRinger/jpsiee_tun...          0    0.944001   \n2  /home/micael/Documents/NeuralRinger/jpsiee_tun...          0    0.941700   \n3  /home/micael/Documents/NeuralRinger/jpsiee_tun...          0    0.944651   \n4  /home/micael/Documents/NeuralRinger/jpsiee_tun...          0    0.944673   \n\n   max_sp_pd_val  ...  tight_pd_val_total  tight_fa_val_total  \\\n0       0.951160  ...                2846               20500   \n1       0.956079  ...                2846               20500   \n2       0.946240  ...                2846               20500   \n3       0.968377  ...                2846               20500   \n4       0.960998  ...                2846               20500   \n\n   tight_pd_op_passed  tight_fa_op_passed  tight_pd_op_total  \\\n0               27987               23933              28455   \n1               27987               25498              28455   \n2               27987               25581              28455   \n3               27987               24161              28455   \n4               27987               25467              28455   \n\n   tight_fa_op_total  tight_op_threshold  medium_op_threshold  \\\n0             205005           -0.892544            -0.892544   \n1             205005           -0.844698            -0.844698   \n2             205005           -0.842062            -0.842062   \n3             205005           -0.885199            -0.885199   \n4             205005           -0.883971            -0.883971   \n\n   loose_op_threshold  vloose_op_threshold  \n0           -0.852873            -0.938755  \n1           -0.807455            -0.885452  \n2           -0.806970            -0.881531  \n3           -0.845055            -0.928306  \n4           -0.848430            -0.918506  \n\n[5 rows x 66 columns]",
      "text/html": "<div>\n<style scoped>\n    .dataframe tbody tr th:only-of-type {\n        vertical-align: middle;\n    }\n\n    .dataframe tbody tr th {\n        vertical-align: top;\n    }\n\n    .dataframe thead th {\n        text-align: right;\n    }\n</style>\n<table border=\"1\" class=\"dataframe\">\n  <thead>\n    <tr style=\"text-align: right;\">\n      <th></th>\n      <th>train_tag</th>\n      <th>et_bin</th>\n      <th>eta_bin</th>\n      <th>model_idx</th>\n      <th>sort</th>\n      <th>init</th>\n      <th>file_name</th>\n      <th>tuned_idx</th>\n      <th>max_sp_val</th>\n      <th>max_sp_pd_val</th>\n      <th>...</th>\n      <th>tight_pd_val_total</th>\n      <th>tight_fa_val_total</th>\n      <th>tight_pd_op_passed</th>\n      <th>tight_fa_op_passed</th>\n      <th>tight_pd_op_total</th>\n      <th>tight_fa_op_total</th>\n      <th>tight_op_threshold</th>\n      <th>medium_op_threshold</th>\n      <th>loose_op_threshold</th>\n      <th>vloose_op_threshold</th>\n    </tr>\n  </thead>\n  <tbody>\n    <tr>\n      <th>0</th>\n      <td>v1.data17.mlp2</td>\n      <td>0</td>\n      <td>0</td>\n      <td>0</td>\n      <td>0</td>\n      <td>1</td>\n      <td>/home/micael/Documents/NeuralRinger/jpsiee_tun...</td>\n      <td>0</td>\n      <td>0.946916</td>\n      <td>0.951160</td>\n      <td>...</td>\n      <td>2846</td>\n      <td>20500</td>\n      <td>27987</td>\n      <td>23933</td>\n      <td>28455</td>\n      <td>205005</td>\n      <td>-0.892544</td>\n      <td>-0.892544</td>\n      <td>-0.852873</td>\n      <td>-0.938755</td>\n    </tr>\n    <tr>\n      <th>1</th>\n      <td>v1.data17.mlp2</td>\n      <td>0</td>\n      <td>0</td>\n      <td>0</td>\n      <td>1</td>\n      <td>3</td>\n      <td>/home/micael/Documents/NeuralRinger/jpsiee_tun...</td>\n      <td>0</td>\n      <td>0.944001</td>\n      <td>0.956079</td>\n      <td>...</td>\n      <td>2846</td>\n      <td>20500</td>\n      <td>27987</td>\n      <td>25498</td>\n      <td>28455</td>\n      <td>205005</td>\n      <td>-0.844698</td>\n      <td>-0.844698</td>\n      <td>-0.807455</td>\n      <td>-0.885452</td>\n    </tr>\n    <tr>\n      <th>2</th>\n      <td>v1.data17.mlp2</td>\n      <td>0</td>\n      <td>0</td>\n      <td>0</td>\n      <td>2</td>\n      <td>1</td>\n      <td>/home/micael/Documents/NeuralRinger/jpsiee_tun...</td>\n      <td>0</td>\n      <td>0.941700</td>\n      <td>0.946240</td>\n      <td>...</td>\n      <td>2846</td>\n      <td>20500</td>\n      <td>27987</td>\n      <td>25581</td>\n      <td>28455</td>\n      <td>205005</td>\n      <td>-0.842062</td>\n      <td>-0.842062</td>\n      <td>-0.806970</td>\n      <td>-0.881531</td>\n    </tr>\n    <tr>\n      <th>3</th>\n      <td>v1.data17.mlp2</td>\n      <td>0</td>\n      <td>0</td>\n      <td>0</td>\n      <td>3</td>\n      <td>4</td>\n      <td>/home/micael/Documents/NeuralRinger/jpsiee_tun...</td>\n      <td>0</td>\n      <td>0.944651</td>\n      <td>0.968377</td>\n      <td>...</td>\n      <td>2846</td>\n      <td>20500</td>\n      <td>27987</td>\n      <td>24161</td>\n      <td>28455</td>\n      <td>205005</td>\n      <td>-0.885199</td>\n      <td>-0.885199</td>\n      <td>-0.845055</td>\n      <td>-0.928306</td>\n    </tr>\n    <tr>\n      <th>4</th>\n      <td>v1.data17.mlp2</td>\n      <td>0</td>\n      <td>0</td>\n      <td>0</td>\n      <td>4</td>\n      <td>4</td>\n      <td>/home/micael/Documents/NeuralRinger/jpsiee_tun...</td>\n      <td>0</td>\n      <td>0.944673</td>\n      <td>0.960998</td>\n      <td>...</td>\n      <td>2846</td>\n      <td>20500</td>\n      <td>27987</td>\n      <td>25467</td>\n      <td>28455</td>\n      <td>205005</td>\n      <td>-0.883971</td>\n      <td>-0.883971</td>\n      <td>-0.848430</td>\n      <td>-0.918506</td>\n    </tr>\n  </tbody>\n</table>\n<p>5 rows × 66 columns</p>\n</div>"
     },
     "metadata": {},
     "execution_count": 4
    }
   ],
   "source": [
    "# choose a specific model\n",
    "m_tag = 'v1.data17.mlp2'\n",
    "\n",
    "# filter the dataframe\n",
    "tunings_df = tunings_df[tunings_df.train_tag == m_tag]\n",
    "\n",
    "print('Dataframe size: %i' %(len(tunings_df)))\n",
    "\n",
    "tunings_df.head()"
   ]
  },
  {
   "cell_type": "code",
   "execution_count": 5,
   "metadata": {
    "tags": []
   },
   "outputs": [
    {
     "output_type": "stream",
     "name": "stdout",
     "text": "Dataframe size: 15\n"
    },
    {
     "output_type": "execute_result",
     "data": {
      "text/plain": "          train_tag  et_bin  eta_bin  model_idx  sort  init  \\\n7    v1.data17.mlp2       0        0          0     7     0   \n32   v1.data17.mlp2       0        1          0     2     4   \n68   v1.data17.mlp2       0        2          0     8     0   \n94   v1.data17.mlp2       0        3          0     4     3   \n127  v1.data17.mlp2       0        4          0     7     0   \n\n                                             file_name  tuned_idx  max_sp_val  \\\n7    /home/micael/Documents/NeuralRinger/jpsiee_tun...          0    0.947722   \n32   /home/micael/Documents/NeuralRinger/jpsiee_tun...          0    0.934799   \n68   /home/micael/Documents/NeuralRinger/jpsiee_tun...          0    0.893922   \n94   /home/micael/Documents/NeuralRinger/jpsiee_tun...          0    0.919756   \n127  /home/micael/Documents/NeuralRinger/jpsiee_tun...          0    0.949865   \n\n     max_sp_pd_val  ...  tight_pd_val_total  tight_fa_val_total  \\\n7         0.965905  ...                2845               20501   \n32        0.956522  ...                 874               17133   \n68        0.900000  ...                  50                2711   \n94        0.954955  ...                 666               22948   \n127       1.000000  ...                  27                1667   \n\n     tight_pd_op_passed  tight_fa_op_passed  tight_pd_op_total  \\\n7                 27987               24848              28455   \n32                 8363               17527               8736   \n68                  419                2865                499   \n94                 6217               24309               6656   \n127                 259                2928                272   \n\n     tight_fa_op_total  tight_op_threshold  medium_op_threshold  \\\n7               205005           -0.912129            -0.912129   \n32              171335           -0.906193            -0.906193   \n68               27116           -0.909357            -0.916594   \n94              229486           -0.921942            -0.929186   \n127              16670           -0.927055            -0.927055   \n\n     loose_op_threshold  vloose_op_threshold  \n7             -0.870464            -0.946801  \n32            -0.949574            -0.962763  \n68            -0.923595            -0.925543  \n94            -0.929186            -0.930607  \n127           -0.924014            -0.927055  \n\n[5 rows x 66 columns]",
      "text/html": "<div>\n<style scoped>\n    .dataframe tbody tr th:only-of-type {\n        vertical-align: middle;\n    }\n\n    .dataframe tbody tr th {\n        vertical-align: top;\n    }\n\n    .dataframe thead th {\n        text-align: right;\n    }\n</style>\n<table border=\"1\" class=\"dataframe\">\n  <thead>\n    <tr style=\"text-align: right;\">\n      <th></th>\n      <th>train_tag</th>\n      <th>et_bin</th>\n      <th>eta_bin</th>\n      <th>model_idx</th>\n      <th>sort</th>\n      <th>init</th>\n      <th>file_name</th>\n      <th>tuned_idx</th>\n      <th>max_sp_val</th>\n      <th>max_sp_pd_val</th>\n      <th>...</th>\n      <th>tight_pd_val_total</th>\n      <th>tight_fa_val_total</th>\n      <th>tight_pd_op_passed</th>\n      <th>tight_fa_op_passed</th>\n      <th>tight_pd_op_total</th>\n      <th>tight_fa_op_total</th>\n      <th>tight_op_threshold</th>\n      <th>medium_op_threshold</th>\n      <th>loose_op_threshold</th>\n      <th>vloose_op_threshold</th>\n    </tr>\n  </thead>\n  <tbody>\n    <tr>\n      <th>7</th>\n      <td>v1.data17.mlp2</td>\n      <td>0</td>\n      <td>0</td>\n      <td>0</td>\n      <td>7</td>\n      <td>0</td>\n      <td>/home/micael/Documents/NeuralRinger/jpsiee_tun...</td>\n      <td>0</td>\n      <td>0.947722</td>\n      <td>0.965905</td>\n      <td>...</td>\n      <td>2845</td>\n      <td>20501</td>\n      <td>27987</td>\n      <td>24848</td>\n      <td>28455</td>\n      <td>205005</td>\n      <td>-0.912129</td>\n      <td>-0.912129</td>\n      <td>-0.870464</td>\n      <td>-0.946801</td>\n    </tr>\n    <tr>\n      <th>32</th>\n      <td>v1.data17.mlp2</td>\n      <td>0</td>\n      <td>1</td>\n      <td>0</td>\n      <td>2</td>\n      <td>4</td>\n      <td>/home/micael/Documents/NeuralRinger/jpsiee_tun...</td>\n      <td>0</td>\n      <td>0.934799</td>\n      <td>0.956522</td>\n      <td>...</td>\n      <td>874</td>\n      <td>17133</td>\n      <td>8363</td>\n      <td>17527</td>\n      <td>8736</td>\n      <td>171335</td>\n      <td>-0.906193</td>\n      <td>-0.906193</td>\n      <td>-0.949574</td>\n      <td>-0.962763</td>\n    </tr>\n    <tr>\n      <th>68</th>\n      <td>v1.data17.mlp2</td>\n      <td>0</td>\n      <td>2</td>\n      <td>0</td>\n      <td>8</td>\n      <td>0</td>\n      <td>/home/micael/Documents/NeuralRinger/jpsiee_tun...</td>\n      <td>0</td>\n      <td>0.893922</td>\n      <td>0.900000</td>\n      <td>...</td>\n      <td>50</td>\n      <td>2711</td>\n      <td>419</td>\n      <td>2865</td>\n      <td>499</td>\n      <td>27116</td>\n      <td>-0.909357</td>\n      <td>-0.916594</td>\n      <td>-0.923595</td>\n      <td>-0.925543</td>\n    </tr>\n    <tr>\n      <th>94</th>\n      <td>v1.data17.mlp2</td>\n      <td>0</td>\n      <td>3</td>\n      <td>0</td>\n      <td>4</td>\n      <td>3</td>\n      <td>/home/micael/Documents/NeuralRinger/jpsiee_tun...</td>\n      <td>0</td>\n      <td>0.919756</td>\n      <td>0.954955</td>\n      <td>...</td>\n      <td>666</td>\n      <td>22948</td>\n      <td>6217</td>\n      <td>24309</td>\n      <td>6656</td>\n      <td>229486</td>\n      <td>-0.921942</td>\n      <td>-0.929186</td>\n      <td>-0.929186</td>\n      <td>-0.930607</td>\n    </tr>\n    <tr>\n      <th>127</th>\n      <td>v1.data17.mlp2</td>\n      <td>0</td>\n      <td>4</td>\n      <td>0</td>\n      <td>7</td>\n      <td>0</td>\n      <td>/home/micael/Documents/NeuralRinger/jpsiee_tun...</td>\n      <td>0</td>\n      <td>0.949865</td>\n      <td>1.000000</td>\n      <td>...</td>\n      <td>27</td>\n      <td>1667</td>\n      <td>259</td>\n      <td>2928</td>\n      <td>272</td>\n      <td>16670</td>\n      <td>-0.927055</td>\n      <td>-0.927055</td>\n      <td>-0.924014</td>\n      <td>-0.927055</td>\n    </tr>\n  </tbody>\n</table>\n<p>5 rows × 66 columns</p>\n</div>"
     },
     "metadata": {},
     "execution_count": 5
    }
   ],
   "source": [
    "# now filter to select the operation models\n",
    "op_key = 'max_sp_op'\n",
    "\n",
    "# filter the Dataframe\n",
    "tunings_df = tunings_df.loc[tunings_df.groupby(['et_bin',\n",
    "                                                'eta_bin',\n",
    "                                                'model_idx'])[op_key].idxmax(), :]\n",
    "\n",
    "print('Dataframe size: %i' %(len(tunings_df)))\n",
    "\n",
    "tunings_df.head()"
   ]
  },
  {
   "cell_type": "code",
   "execution_count": 6,
   "metadata": {},
   "outputs": [
    {
     "output_type": "execute_result",
     "data": {
      "text/plain": "'/home/micael/Documents/NeuralRinger/jpsiee_tunes/data17_tuned_files/user.mverissi.task.data17_13TeV.1.AllPeriods.sgn.probes_lhmedium_EGAM2.bkg.VProbes_EGAM7.et0_eta0.v1/job_configId_89/tunedDiscr.jobID_0035.pic.gz'"
     },
     "metadata": {},
     "execution_count": 6
    }
   ],
   "source": [
    "tunings_df.file_name.iloc[0]"
   ]
  },
  {
   "cell_type": "code",
   "execution_count": 7,
   "metadata": {},
   "outputs": [],
   "source": [
    "# save the Dataframe\n",
    "op_filename = '%s_operation_df.csv' %(m_tag)\n",
    "tunings_df.to_csv(os.path.join(analysis_path, 'v1.data17/files/%s' %op_filename),\n",
    "                  index=False)"
   ]
  },
  {
   "cell_type": "markdown",
   "metadata": {},
   "source": [
    "# Test the exporter\n",
    "\n",
    "Now we have the operation models in a .csv file"
   ]
  },
  {
   "cell_type": "code",
   "execution_count": 8,
   "metadata": {},
   "outputs": [],
   "source": [
    "# open the op dataframe\n",
    "m_tag                = 'v1.data17.mlp2'\n",
    "m_version            = 'v1'\n",
    "m_model_format_name  = 'data17_13TeV_EGAM2_probes_lhmedium_EGAM7_vetolhvloose.model_v1.electron%s.et%d_eta%d.onnx'\n",
    "m_output_conf_name   = 'ElectronRinger%sTriggerConfig.conf'\n",
    "m_tuning_name        = 'TrigL2_20200805_v1'\n",
    "filename             = '%s_operation_df.csv' %(m_tag)\n",
    "op_df_path           = os.path.join(analysis_path, 'v1.data17/files/%s' %filename)\n",
    "export_path          = os.path.join(analysis_path, 'v1.data17/exported_tunings/TrigL2_20200805_mlp2.v1')"
   ]
  },
  {
   "cell_type": "code",
   "execution_count": 9,
   "metadata": {},
   "outputs": [],
   "source": [
    "m_export_tool = export_onnx_tool(operation_dataframe=op_df_path)"
   ]
  },
  {
   "cell_type": "code",
   "execution_count": 10,
   "metadata": {
    "tags": [
     "outputPrepend"
    ]
   },
   "outputs": [
    {
     "output_type": "stream",
     "name": "stderr",
     "text": "=============\ndense_2 (Dense)              (None, 2)                 202       \n_________________________________________________________________\ndense_3 (Dense)              (None, 1)                 3         \n=================================================================\nTotal params: 205\nTrainable params: 205\nNon-trainable params: 0\n_________________________________________________________________\nNone\nProcessing et bin: 2 | eta bin: 1\nModel: \"sequential_1\"\n_________________________________________________________________\nLayer (type)                 Output Shape              Param #   \n=================================================================\ndense_2 (Dense)              (None, 2)                 202       \n_________________________________________________________________\ndense_3 (Dense)              (None, 1)                 3         \n=================================================================\nTotal params: 205\nTrainable params: 205\nNon-trainable params: 0\n_________________________________________________________________\nNone\nProcessing et bin: 2 | eta bin: 2\ntf executing eager_mode: True\ntf.keras model eager_mode: False\nThe ONNX operator number change on the optimization: 10 -> 5\nThe maximum opset needed by this model is only 9.\ntf executing eager_mode: True\ntf.keras model eager_mode: False\nThe ONNX operator number change on the optimization: 10 -> 5\nThe maximum opset needed by this model is only 9.\nModel: \"sequential_1\"\n_________________________________________________________________\nLayer (type)                 Output Shape              Param #   \n=================================================================\ndense_2 (Dense)              (None, 2)                 202       \n_________________________________________________________________\ndense_3 (Dense)              (None, 1)                 3         \n=================================================================\nTotal params: 205\nTrainable params: 205\nNon-trainable params: 0\n_________________________________________________________________\nNone\nProcessing et bin: 2 | eta bin: 3\nModel: \"sequential_1\"\n_________________________________________________________________\nLayer (type)                 Output Shape              Param #   \n=================================================================\ndense_2 (Dense)              (None, 2)                 202       \n_________________________________________________________________\ndense_3 (Dense)              (None, 1)                 3         \n=================================================================\nTotal params: 205\nTrainable params: 205\nNon-trainable params: 0\n_________________________________________________________________\nNone\nProcessing et bin: 2 | eta bin: 4\ntf executing eager_mode: True\ntf.keras model eager_mode: False\nThe ONNX operator number change on the optimization: 10 -> 5\nThe maximum opset needed by this model is only 9.\ntf executing eager_mode: True\ntf.keras model eager_mode: False\nThe ONNX operator number change on the optimization: 10 -> 5\nThe maximum opset needed by this model is only 9.\ntf executing eager_mode: True\ntf.keras model eager_mode: False\nThe ONNX operator number change on the optimization: 10 -> 5\nThe maximum opset needed by this model is only 9.\ntf executing eager_mode: True\ntf.keras model eager_mode: False\nThe ONNX operator number change on the optimization: 10 -> 5\nThe maximum opset needed by this model is only 9.\nModel: \"sequential_1\"\n_________________________________________________________________\nLayer (type)                 Output Shape              Param #   \n=================================================================\ndense_2 (Dense)              (None, 2)                 202       \n_________________________________________________________________\ndense_3 (Dense)              (None, 1)                 3         \n=================================================================\nTotal params: 205\nTrainable params: 205\nNon-trainable params: 0\n_________________________________________________________________\nNone\n\n\nExporting tunings | Operation Point: VeryLoose \nProcessing et bin: 0 | eta bin: 0\nModel: \"sequential_1\"\n_________________________________________________________________\nLayer (type)                 Output Shape              Param #   \n=================================================================\ndense_2 (Dense)              (None, 2)                 202       \n_________________________________________________________________\ndense_3 (Dense)              (None, 1)                 3         \n=================================================================\nTotal params: 205\nTrainable params: 205\nNon-trainable params: 0\n_________________________________________________________________\nNone\nProcessing et bin: 0 | eta bin: 1\nModel: \"sequential_1\"\n_________________________________________________________________\nLayer (type)                 Output Shape              Param #   \n=================================================================\ndense_2 (Dense)              (None, 2)                 202       \n_________________________________________________________________\ndense_3 (Dense)              (None, 1)                 3         \n=================================================================\nTotal params: 205\nTrainable params: 205\nNon-trainable params: 0\n_________________________________________________________________\nNone\nProcessing et bin: 0 | eta bin: 2\nModel: \"sequential_1\"\n_________________________________________________________________\nLayer (type)                 Output Shape              Param #   \n=================================================================\ndense_2 (Dense)              (None, 2)                 202       \n_________________________________________________________________\ndense_3 (Dense)              (None, 1)                 3         \n=================================================================\nTotal params: 205\nTrainable params: 205\nNon-trainable params: 0\n_________________________________________________________________\nNone\nProcessing et bin: 0 | eta bin: 3\ntf executing eager_mode: True\ntf.keras model eager_mode: False\nThe ONNX operator number change on the optimization: 10 -> 5\nThe maximum opset needed by this model is only 9.\ntf executing eager_mode: True\ntf.keras model eager_mode: False\nThe ONNX operator number change on the optimization: 10 -> 5\nThe maximum opset needed by this model is only 9.\nModel: \"sequential_1\"\n_________________________________________________________________\nLayer (type)                 Output Shape              Param #   \n=================================================================\ndense_2 (Dense)              (None, 2)                 202       \n_________________________________________________________________\ndense_3 (Dense)              (None, 1)                 3         \n=================================================================\nTotal params: 205\nTrainable params: 205\nNon-trainable params: 0\n_________________________________________________________________\nNone\nProcessing et bin: 0 | eta bin: 4\nModel: \"sequential_1\"\n_________________________________________________________________\nLayer (type)                 Output Shape              Param #   \n=================================================================\ndense_2 (Dense)              (None, 2)                 202       \n_________________________________________________________________\ndense_3 (Dense)              (None, 1)                 3         \n=================================================================\nTotal params: 205\nTrainable params: 205\nNon-trainable params: 0\n_________________________________________________________________\nNone\ntf executing eager_mode: True\ntf.keras model eager_mode: False\nThe ONNX operator number change on the optimization: 10 -> 5\nThe maximum opset needed by this model is only 9.\ntf executing eager_mode: True\ntf.keras model eager_mode: False\nThe ONNX operator number change on the optimization: 10 -> 5\nThe maximum opset needed by this model is only 9.\ntf executing eager_mode: True\ntf.keras model eager_mode: False\nThe ONNX operator number change on the optimization: 10 -> 5\nThe maximum opset needed by this model is only 9.\nProcessing et bin: 1 | eta bin: 0\nModel: \"sequential_1\"\n_________________________________________________________________\nLayer (type)                 Output Shape              Param #   \n=================================================================\ndense_2 (Dense)              (None, 2)                 202       \n_________________________________________________________________\ndense_3 (Dense)              (None, 1)                 3         \n=================================================================\nTotal params: 205\nTrainable params: 205\nNon-trainable params: 0\n_________________________________________________________________\nNone\nProcessing et bin: 1 | eta bin: 1\nModel: \"sequential_1\"\n_________________________________________________________________\nLayer (type)                 Output Shape              Param #   \n=================================================================\ndense_2 (Dense)              (None, 2)                 202       \n_________________________________________________________________\ndense_3 (Dense)              (None, 1)                 3         \n=================================================================\nTotal params: 205\nTrainable params: 205\nNon-trainable params: 0\n_________________________________________________________________\nNone\nProcessing et bin: 1 | eta bin: 2\nModel: \"sequential_1\"\n_________________________________________________________________\nLayer (type)                 Output Shape              Param #   \n=================================================================\ndense_2 (Dense)              (None, 2)                 202       \n_________________________________________________________________\ndense_3 (Dense)              (None, 1)                 3         \n=================================================================\nTotal params: 205\nTrainable params: 205\nNon-trainable params: 0\n_________________________________________________________________\nNone\nProcessing et bin: 1 | eta bin: 3\ntf executing eager_mode: True\ntf.keras model eager_mode: False\nThe ONNX operator number change on the optimization: 10 -> 5\nThe maximum opset needed by this model is only 9.\nModel: \"sequential_1\"\n_________________________________________________________________\nLayer (type)                 Output Shape              Param #   \n=================================================================\ndense_2 (Dense)              (None, 2)                 202       \n_________________________________________________________________\ndense_3 (Dense)              (None, 1)                 3         \n=================================================================\nTotal params: 205\nTrainable params: 205\nNon-trainable params: 0\n_________________________________________________________________\nNone\nProcessing et bin: 1 | eta bin: 4\ntf executing eager_mode: True\ntf.keras model eager_mode: False\nThe ONNX operator number change on the optimization: 10 -> 5\nThe maximum opset needed by this model is only 9.\ntf executing eager_mode: True\ntf.keras model eager_mode: False\nThe ONNX operator number change on the optimization: 10 -> 5\nThe maximum opset needed by this model is only 9.\ntf executing eager_mode: True\ntf.keras model eager_mode: False\nThe ONNX operator number change on the optimization: 10 -> 5\nThe maximum opset needed by this model is only 9.\ntf executing eager_mode: True\ntf.keras model eager_mode: False\nThe ONNX operator number change on the optimization: 10 -> 5\nThe maximum opset needed by this model is only 9.\nModel: \"sequential_1\"\n_________________________________________________________________\nLayer (type)                 Output Shape              Param #   \n=================================================================\ndense_2 (Dense)              (None, 2)                 202       \n_________________________________________________________________\ndense_3 (Dense)              (None, 1)                 3         \n=================================================================\nTotal params: 205\nTrainable params: 205\nNon-trainable params: 0\n_________________________________________________________________\nNone\nProcessing et bin: 2 | eta bin: 0\nModel: \"sequential_1\"\n_________________________________________________________________\nLayer (type)                 Output Shape              Param #   \n=================================================================\ndense_2 (Dense)              (None, 2)                 202       \n_________________________________________________________________\ndense_3 (Dense)              (None, 1)                 3         \n=================================================================\nTotal params: 205\nTrainable params: 205\nNon-trainable params: 0\n_________________________________________________________________\nNone\nProcessing et bin: 2 | eta bin: 1\nModel: \"sequential_1\"\n_________________________________________________________________\nLayer (type)                 Output Shape              Param #   \n=================================================================\ndense_2 (Dense)              (None, 2)                 202       \n_________________________________________________________________\ndense_3 (Dense)              (None, 1)                 3         \n=================================================================\nTotal params: 205\nTrainable params: 205\nNon-trainable params: 0\n_________________________________________________________________\nNone\nProcessing et bin: 2 | eta bin: 2\nModel: \"sequential_1\"\n_________________________________________________________________\nLayer (type)                 Output Shape              Param #   \n=================================================================\ndense_2 (Dense)              (None, 2)                 202       \n_________________________________________________________________\ndense_3 (Dense)              (None, 1)                 3         \n=================================================================\nTotal params: 205\nTrainable params: 205\nNon-trainable params: 0\n_________________________________________________________________\nNone\nProcessing et bin: 2 | eta bin: 3\ntf executing eager_mode: True\ntf.keras model eager_mode: False\nThe ONNX operator number change on the optimization: 10 -> 5\nThe maximum opset needed by this model is only 9.\ntf executing eager_mode: True\ntf.keras model eager_mode: False\nModel: \"sequential_1\"\n_________________________________________________________________\nLayer (type)                 Output Shape              Param #   \n=================================================================\ndense_2 (Dense)              (None, 2)                 202       \n_________________________________________________________________\ndense_3 (Dense)              (None, 1)                 3         \n=================================================================\nTotal params: 205\nTrainable params: 205\nNon-trainable params: 0\n_________________________________________________________________\nNone\nProcessing et bin: 2 | eta bin: 4\nModel: \"sequential_1\"\n_________________________________________________________________\nLayer (type)                 Output Shape              Param #   \n=================================================================\ndense_2 (Dense)              (None, 2)                 202       \n_________________________________________________________________\ndense_3 (Dense)              (None, 1)                 3         \n=================================================================\nTotal params: 205\nTrainable params: 205\nNon-trainable params: 0\n_________________________________________________________________\nNone\nThe ONNX operator number change on the optimization: 10 -> 5\nThe maximum opset needed by this model is only 9.\n\n\n2020-08-05 22:19:58.446785: I tensorflow/stream_executor/platform/default/dso_loader.cc:48] Successfully opened dynamic library libcuda.so.1\n2020-08-05 22:19:58.466691: I tensorflow/stream_executor/cuda/cuda_gpu_executor.cc:982] successful NUMA node read from SysFS had negative value (-1), but there must be at least one NUMA node, so returning NUMA node zero\n2020-08-05 22:19:58.467110: I tensorflow/core/common_runtime/gpu/gpu_device.cc:1716] Found device 0 with properties: \npciBusID: 0000:01:00.0 name: GeForce GTX 1650 computeCapability: 7.5\ncoreClock: 1.515GHz coreCount: 14 deviceMemorySize: 3.82GiB deviceMemoryBandwidth: 178.84GiB/s\n2020-08-05 22:19:58.467262: W tensorflow/stream_executor/platform/default/dso_loader.cc:59] Could not load dynamic library 'libcudart.so.10.1'; dlerror: libcudart.so.10.1: cannot open shared object file: No such file or directory; LD_LIBRARY_PATH: /home/micael/.root_cern/root/lib\n2020-08-05 22:19:58.467343: W tensorflow/stream_executor/platform/default/dso_loader.cc:59] Could not load dynamic library 'libcublas.so.10'; dlerror: libcublas.so.10: cannot open shared object file: No such file or directory; LD_LIBRARY_PATH: /home/micael/.root_cern/root/lib\n2020-08-05 22:19:58.467398: W tensorflow/stream_executor/platform/default/dso_loader.cc:59] Could not load dynamic library 'libcufft.so.10'; dlerror: libcufft.so.10: cannot open shared object file: No such file or directory; LD_LIBRARY_PATH: /home/micael/.root_cern/root/lib\n2020-08-05 22:19:58.467452: W tensorflow/stream_executor/platform/default/dso_loader.cc:59] Could not load dynamic library 'libcurand.so.10'; dlerror: libcurand.so.10: cannot open shared object file: No such file or directory; LD_LIBRARY_PATH: /home/micael/.root_cern/root/lib\n2020-08-05 22:19:58.467505: W tensorflow/stream_executor/platform/default/dso_loader.cc:59] Could not load dynamic library 'libcusolver.so.10'; dlerror: libcusolver.so.10: cannot open shared object file: No such file or directory; LD_LIBRARY_PATH: /home/micael/.root_cern/root/lib\n2020-08-05 22:19:58.467559: W tensorflow/stream_executor/platform/default/dso_loader.cc:59] Could not load dynamic library 'libcusparse.so.10'; dlerror: libcusparse.so.10: cannot open shared object file: No such file or directory; LD_LIBRARY_PATH: /home/micael/.root_cern/root/lib\n2020-08-05 22:19:58.467613: W tensorflow/stream_executor/platform/default/dso_loader.cc:59] Could not load dynamic library 'libcudnn.so.7'; dlerror: libcudnn.so.7: cannot open shared object file: No such file or directory; LD_LIBRARY_PATH: /home/micael/.root_cern/root/lib\n2020-08-05 22:19:58.467621: W tensorflow/core/common_runtime/gpu/gpu_device.cc:1753] Cannot dlopen some GPU libraries. Please make sure the missing libraries mentioned above are installed properly if you would like to use GPU. Follow the guide at https://www.tensorflow.org/install/gpu for how to download and setup the required libraries for your platform.\nSkipping registering GPU devices...\n2020-08-05 22:19:58.468628: I tensorflow/core/platform/cpu_feature_guard.cc:142] This TensorFlow binary is optimized with oneAPI Deep Neural Network Library (oneDNN)to use the following CPU instructions in performance-critical operations:  AVX2 FMA\nTo enable them in other operations, rebuild TensorFlow with the appropriate compiler flags.\n2020-08-05 22:19:58.474568: I tensorflow/core/platform/profile_utils/cpu_utils.cc:104] CPU Frequency: 2499950000 Hz\n2020-08-05 22:19:58.474840: I tensorflow/compiler/xla/service/service.cc:168] XLA service 0x967d000 initialized for platform Host (this does not guarantee that XLA will be used). Devices:\n2020-08-05 22:19:58.474855: I tensorflow/compiler/xla/service/service.cc:176]   StreamExecutor device (0): Host, Default Version\n2020-08-05 22:19:58.476338: I tensorflow/core/common_runtime/gpu/gpu_device.cc:1257] Device interconnect StreamExecutor with strength 1 edge matrix:\n2020-08-05 22:19:58.476355: I tensorflow/core/common_runtime/gpu/gpu_device.cc:1263]      \n"
    }
   ],
   "source": [
    "for ioperation in ['Tight', 'Medium', 'Loose', 'VeryLoose']:\n",
    "    print('Exporting tunings | Operation Point: %s ' %ioperation)\n",
    "    m_export_tool.create_config_files(operation_point=ioperation, \n",
    "                                      tuning_name=m_tuning_name,\n",
    "                                      version=m_version,\n",
    "                                      model_format_name=os.path.join(export_path, m_model_format_name),\n",
    "                                      output_config_name=os.path.join(export_path, m_output_conf_name))\n",
    "    print('\\n')"
   ]
  },
  {
   "cell_type": "code",
   "execution_count": null,
   "metadata": {},
   "outputs": [],
   "source": []
  }
 ],
 "metadata": {
  "language_info": {
   "codemirror_mode": {
    "name": "ipython",
    "version": 3
   },
   "file_extension": ".py",
   "mimetype": "text/x-python",
   "name": "python",
   "nbconvert_exporter": "python",
   "pygments_lexer": "ipython3",
   "version": "3.8.2-final"
  },
  "orig_nbformat": 2,
  "kernelspec": {
   "name": "python38264bitvenvvenvc6532bc0829549d68c5ea88a881683db",
   "display_name": "Python 3.8.2 64-bit ('v_env': venv)"
  }
 },
 "nbformat": 4,
 "nbformat_minor": 2
}