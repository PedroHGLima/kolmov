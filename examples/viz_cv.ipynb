{
 "nbformat": 4,
 "nbformat_minor": 2,
 "metadata": {
  "language_info": {
   "name": "python",
   "codemirror_mode": {
    "name": "ipython",
    "version": 3
   },
   "version": "3.6.9-final"
  },
  "orig_nbformat": 2,
  "file_extension": ".py",
  "mimetype": "text/x-python",
  "name": "python",
  "npconvert_exporter": "python",
  "pygments_lexer": "ipython3",
  "version": 3,
  "kernelspec": {
   "name": "python3",
   "display_name": "Python 3"
  }
 },
 "cells": [
  {
   "cell_type": "code",
   "execution_count": 99,
   "metadata": {},
   "outputs": [],
   "source": [
    "import os\n",
    "import numpy as np\n",
    "import pandas as pd"
   ]
  },
  {
   "cell_type": "code",
   "execution_count": 100,
   "metadata": {},
   "outputs": [],
   "source": [
    "basepath = '/volume'"
   ]
  },
  {
   "cell_type": "code",
   "execution_count": 101,
   "metadata": {},
   "outputs": [],
   "source": [
    "cv_file  = os.path.join(basepath, 'cross_val_table_v1_nohad.csv')\n",
    "cv_table = pd.read_csv(cv_file)"
   ]
  },
  {
   "cell_type": "code",
   "execution_count": 102,
   "metadata": {},
   "outputs": [
    {
     "data": {
      "text/plain": "et_bin             float64\neta_bin            float64\nmax_sp_val          object\nmax_sp_val.1        object\nmax_sp_pd_val       object\nmax_sp_pd_val.1     object\nmax_sp_fa_val       object\nmax_sp_fa_val.1     object\nauc_val             object\nauc_val.1           object\ndtype: object"
     },
     "execution_count": 102,
     "metadata": {},
     "output_type": "execute_result"
    }
   ],
   "source": [
    "cv_table.dtypes"
   ]
  },
  {
   "cell_type": "code",
   "execution_count": 103,
   "metadata": {},
   "outputs": [],
   "source": [
    "cv_columns = ['max_sp_val', 'max_sp_val.1',\n",
    "              'max_sp_pd_val', 'max_sp_pd_val.1',\n",
    "              'max_sp_fa_val', 'max_sp_fa_val.1',\n",
    "              'auc_val', 'auc_val.1']\n",
    "cv_table = cv_table[1:]\n",
    "cv_table[cv_columns] = cv_table[cv_columns].astype(np.float).round(2)"
   ]
  },
  {
   "cell_type": "code",
   "execution_count": 104,
   "metadata": {},
   "outputs": [],
   "source": [
    "cv_table['SP_val'] = cv_table[['max_sp_val', 'max_sp_val.1']].apply(lambda x: ' +- '.join(x.astype(str)), axis=1)\n",
    "cv_table['PD_val'] = cv_table[['max_sp_pd_val', 'max_sp_pd_val.1']].apply(lambda x: ' +- '.join(x.astype(str)), axis=1)\n",
    "cv_table['FA_val'] = cv_table[['max_sp_fa_val', 'max_sp_fa_val.1']].apply(lambda x: ' +- '.join(x.astype(str)), axis=1)"
   ]
  },
  {
   "cell_type": "code",
   "execution_count": 105,
   "metadata": {},
   "outputs": [],
   "source": [
    "my_cv = cv_table[['et_bin', 'eta_bin', 'SP_val', 'PD_val', 'FA_val']].copy()\n",
    "eta = my_cv['eta_bin']\n",
    "\n",
    "my_cv = my_cv.melt(id_vars = ['et_bin','eta_bin'], var_name='FOM')\n",
    "\n",
    "(my_cv.sort_values(by=['eta_bin', 'et_bin'])\\\n",
    "      .set_index(['et_bin', 'FOM'])\\\n",
    "      .pivot(columns='eta_bin')\\\n",
    "      .to_excel(os.path.join(basepath, 'cv_result_table_v1_nohad.xlsx'),\n",
    "                index_label=my_cv.index.names))"
   ]
  }
 ]
}