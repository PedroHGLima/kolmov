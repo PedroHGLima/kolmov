{
 "nbformat": 4,
 "nbformat_minor": 2,
 "metadata": {
  "language_info": {
   "name": "python",
   "codemirror_mode": {
    "name": "ipython",
    "version": 3
   },
   "version": "3.6.9-final"
  },
  "orig_nbformat": 2,
  "file_extension": ".py",
  "mimetype": "text/x-python",
  "name": "python",
  "npconvert_exporter": "python",
  "pygments_lexer": "ipython3",
  "version": 3,
  "kernelspec": {
   "name": "python36964bita108b16f26af4dd79800675952fa5321",
   "display_name": "Python 3.6.9 64-bit"
  }
 },
 "cells": [
  {
   "cell_type": "code",
   "execution_count": 1,
   "metadata": {},
   "outputs": [],
   "source": [
    "import os\n",
    "import sys\n",
    "\n",
    "sys.path.append('../../.__python__/')\n",
    "# kolmov exporter\n",
    "from kolmov.core.base_exporter import first_export_tool"
   ]
  },
  {
   "cell_type": "code",
   "execution_count": 2,
   "metadata": {},
   "outputs": [],
   "source": [
    "basepath  = '/volume'\n",
    "# task_path\n",
    "# v1                                 \n",
    "v1_task_path = os.path.join(basepath,\n",
    "                         'v1_task/user.mverissi.task.data17_13TeV.AllPeriods.sgn.probes_lhmedium_EGAM2.bkg.VProbes_EGAM7.GRL_v97_et%i_eta%i.v1')\n",
    "# v1_nohad\n",
    "v1_nohad_task_path = os.path.join(basepath,\n",
    "                                 'v1_task_nohad/user.mverissi.task_nohad.data17_13TeV.AllPeriods.sgn.probes_lhmedium_EGAM2.bkg.VProbes_EGAM7.GRL_v97_et%i_eta%i.v1')\n",
    "# operation file\n",
    "v1_op_file   = os.path.join(basepath, 'op_models_v1.csv')\n",
    "v1_nohad_op_file   = os.path.join(basepath, 'op_models_v1_nohad.csv')\n",
    "# ringer file\n",
    "data_path = os.path.join(basepath, 'Jpsi/data17_13TeV.AllPeriods.sgn.probes_lhmedium_EGAM2.bkg.VProbes_EGAM7.GRL_v97/data17_13TeV.AllPeriods.sgn.probes_lhmedium_EGAM2.bkg.VProbes_EGAM7.GRL_v97_et%i_eta%i.npz')"
   ]
  },
  {
   "cell_type": "code",
   "execution_count": 3,
   "metadata": {},
   "outputs": [],
   "source": [
    "# begin the export tool\n",
    "v1_export = first_export_tool(task_path=v1_task_path,\n",
    "                              operation_dataframe=v1_op_file,\n",
    "                              ringer_data_path=data_path)"
   ]
  },
  {
   "cell_type": "code",
   "execution_count": 4,
   "metadata": {},
   "outputs": [
    {
     "output_type": "stream",
     "name": "stdout",
     "text": "Processing et bin: 0 | eta bin: 0\nLoad rings data... \nPreprocessing rings...\nPredict step...\nGetting the operation threshold... \n----------\nProcessing et bin: 0 | eta bin: 1\nLoad rings data... \nPreprocessing rings...\nPredict step...\nGetting the operation threshold... \n----------\nProcessing et bin: 0 | eta bin: 2\nLoad rings data... \nPreprocessing rings...\nPredict step...\nGetting the operation threshold... \n----------\nProcessing et bin: 0 | eta bin: 3\nLoad rings data... \nPreprocessing rings...\nPredict step...\nGetting the operation threshold... \n----------\nProcessing et bin: 0 | eta bin: 4\nLoad rings data... \nPreprocessing rings...\nPredict step...\nGetting the operation threshold... \n----------\nProcessing et bin: 1 | eta bin: 0\nLoad rings data... \nPreprocessing rings...\nPredict step...\nGetting the operation threshold... \n----------\nProcessing et bin: 1 | eta bin: 1\nLoad rings data... \nPreprocessing rings...\nPredict step...\nGetting the operation threshold... \n----------\nProcessing et bin: 1 | eta bin: 2\nLoad rings data... \nPreprocessing rings...\nPredict step...\nGetting the operation threshold... \n----------\nProcessing et bin: 1 | eta bin: 3\nLoad rings data... \nPreprocessing rings...\nPredict step...\nGetting the operation threshold... \n----------\nProcessing et bin: 1 | eta bin: 4\nLoad rings data... \nPreprocessing rings...\nPredict step...\nGetting the operation threshold... \n----------\nProcessing et bin: 2 | eta bin: 0\nLoad rings data... \nPreprocessing rings...\nPredict step...\nGetting the operation threshold... \n----------\nProcessing et bin: 2 | eta bin: 1\nLoad rings data... \nPreprocessing rings...\nPredict step...\nGetting the operation threshold... \n----------\nProcessing et bin: 2 | eta bin: 2\nLoad rings data... \nPreprocessing rings...\nPredict step...\nGetting the operation threshold... \n----------\nProcessing et bin: 2 | eta bin: 3\nLoad rings data... \nPreprocessing rings...\nPredict step...\nGetting the operation threshold... \n----------\nProcessing et bin: 2 | eta bin: 4\nLoad rings data... \nPreprocessing rings...\nPredict step...\nGetting the operation threshold... \n----------\nDone!\n"
    }
   ],
   "source": [
    "# fill the models dict\n",
    "v1_export.fill_models_dict()"
   ]
  },
  {
   "cell_type": "code",
   "execution_count": 5,
   "metadata": {},
   "outputs": [],
   "source": [
    "# save the exported models\n",
    "v1_export.save_models_dict(os.path.join(basepath, 'v1_models_dict'))"
   ]
  },
  {
   "cell_type": "code",
   "execution_count": 6,
   "metadata": {},
   "outputs": [],
   "source": [
    "# now let's see if the models are save with the thresholds\n",
    "from Gaugi import load as gload\n",
    "verify_test = gload(os.path.join(basepath, 'v1_models_dict.pic.gz'))"
   ]
  },
  {
   "cell_type": "code",
   "execution_count": 7,
   "metadata": {},
   "outputs": [
    {
     "output_type": "stream",
     "name": "stdout",
     "text": "dict_keys(['noHAD', 'et0_eta0', 'et0_eta1', 'et0_eta2', 'et0_eta3', 'et0_eta4', 'et1_eta0', 'et1_eta1', 'et1_eta2', 'et1_eta3', 'et1_eta4', 'et2_eta0', 'et2_eta1', 'et2_eta2', 'et2_eta3', 'et2_eta4'])\n---------------\ndict_keys(['sequential', 'weights', 'threshold'])\n---------------\nOperation thereshold: 0.1593\n"
    }
   ],
   "source": [
    "print(verify_test.keys())\n",
    "print(15*'-')\n",
    "print(verify_test['et0_eta0'].keys())\n",
    "print(15*'-')\n",
    "print('Operation thereshold: %1.4f' %(verify_test['et0_eta0']['threshold']))"
   ]
  },
  {
   "cell_type": "code",
   "execution_count": 8,
   "metadata": {},
   "outputs": [
    {
     "output_type": "stream",
     "name": "stdout",
     "text": "Processing et bin: 0 | eta bin: 0\nLoad rings data... \nThis is a noHAD tuning, using only EM rings...\nPreprocessing rings...\nPredict step...\nGetting the operation threshold... \n----------\nProcessing et bin: 0 | eta bin: 1\nLoad rings data... \nThis is a noHAD tuning, using only EM rings...\nPreprocessing rings...\nPredict step...\nGetting the operation threshold... \n----------\nProcessing et bin: 0 | eta bin: 2\nLoad rings data... \nThis is a noHAD tuning, using only EM rings...\nPreprocessing rings...\nPredict step...\nGetting the operation threshold... \n----------\nProcessing et bin: 0 | eta bin: 3\nLoad rings data... \nThis is a noHAD tuning, using only EM rings...\nPreprocessing rings...\nPredict step...\nGetting the operation threshold... \n----------\nProcessing et bin: 0 | eta bin: 4\nLoad rings data... \nThis is a noHAD tuning, using only EM rings...\nPreprocessing rings...\nPredict step...\nGetting the operation threshold... \n----------\nProcessing et bin: 1 | eta bin: 0\nLoad rings data... \nThis is a noHAD tuning, using only EM rings...\nPreprocessing rings...\nPredict step...\nGetting the operation threshold... \n----------\nProcessing et bin: 1 | eta bin: 1\nLoad rings data... \nThis is a noHAD tuning, using only EM rings...\nPreprocessing rings...\nPredict step...\nGetting the operation threshold... \n----------\nProcessing et bin: 1 | eta bin: 2\nLoad rings data... \nThis is a noHAD tuning, using only EM rings...\nPreprocessing rings...\nPredict step...\nGetting the operation threshold... \n----------\nProcessing et bin: 1 | eta bin: 3\nLoad rings data... \nThis is a noHAD tuning, using only EM rings...\nPreprocessing rings...\nPredict step...\nGetting the operation threshold... \n----------\nProcessing et bin: 1 | eta bin: 4\nLoad rings data... \nThis is a noHAD tuning, using only EM rings...\nPreprocessing rings...\nPredict step...\nGetting the operation threshold... \n----------\nProcessing et bin: 2 | eta bin: 0\nLoad rings data... \nThis is a noHAD tuning, using only EM rings...\nPreprocessing rings...\nPredict step...\nGetting the operation threshold... \n----------\nProcessing et bin: 2 | eta bin: 1\nLoad rings data... \nThis is a noHAD tuning, using only EM rings...\nPreprocessing rings...\nPredict step...\nGetting the operation threshold... \n----------\nProcessing et bin: 2 | eta bin: 2\nLoad rings data... \nThis is a noHAD tuning, using only EM rings...\nPreprocessing rings...\nPredict step...\nGetting the operation threshold... \n----------\nProcessing et bin: 2 | eta bin: 3\nLoad rings data... \nThis is a noHAD tuning, using only EM rings...\nPreprocessing rings...\nPredict step...\nGetting the operation threshold... \n----------\nProcessing et bin: 2 | eta bin: 4\nLoad rings data... \nThis is a noHAD tuning, using only EM rings...\nPreprocessing rings...\nPredict step...\nGetting the operation threshold... \n----------\nDone!\n"
    }
   ],
   "source": [
    "# now to the same with no_had tuning\n",
    "# begin the export tool\n",
    "v1_nohad_export = first_export_tool(task_path=v1_nohad_task_path,\n",
    "                              operation_dataframe=v1_nohad_op_file,\n",
    "                              ringer_data_path=data_path,\n",
    "                              noHAD=True)\n",
    "# fill the models dict\n",
    "v1_nohad_export.fill_models_dict()\n",
    "# save the models\n",
    "v1_nohad_export.save_models_dict(os.path.join(basepath, 'v1_nohad_models_dict'))\n",
    ""
   ]
  },
  {
   "cell_type": "code",
   "execution_count": null,
   "metadata": {},
   "outputs": [],
   "source": []
  }
 ]
}